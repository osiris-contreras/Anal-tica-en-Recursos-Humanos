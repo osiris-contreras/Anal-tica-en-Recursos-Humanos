{
  "cells": [
    {
      "cell_type": "markdown",
      "metadata": {
        "colab_type": "text",
        "id": "view-in-github"
      },
      "source": [
        "<a href=\"https://colab.research.google.com/github/osiris-contreras/Anal-tica-en-Recursos-Humanos/blob/main/modelos.ipynb\" target=\"_parent\"><img src=\"https://colab.research.google.com/assets/colab-badge.svg\" alt=\"Open In Colab\"/></a>"
      ]
    },
    {
      "cell_type": "markdown",
      "metadata": {
        "id": "3nk0yN4MiUJS"
      },
      "source": [
        "## Colab"
      ]
    },
    {
      "cell_type": "code",
      "execution_count": 17,
      "metadata": {
        "colab": {
          "base_uri": "https://localhost:8080/"
        },
        "id": "RS6Xl9C7Kv4o",
        "outputId": "d4e02a05-9ac6-40c5-d920-4088548e6c9a"
      },
      "outputs": [
        {
          "name": "stdout",
          "output_type": "stream",
          "text": [
            "Drive already mounted at /content/drive; to attempt to forcibly remount, call drive.mount(\"/content/drive\", force_remount=True).\n"
          ]
        }
      ],
      "source": [
        "from google.colab import drive\n",
        "drive.mount('/content/drive')"
      ]
    },
    {
      "cell_type": "code",
      "execution_count": null,
      "metadata": {
        "id": "I7UJT39ILkDA"
      },
      "outputs": [],
      "source": [
        "import sys\n",
        "import os\n",
        "path= '/content/drive/MyDrive/codigos/Anal-tica-en-Recursos-Humanos'\n",
        "os.chdir(path)\n",
        "sys.path.append(path+'/')"
      ]
    },
    {
      "cell_type": "markdown",
      "metadata": {
        "id": "G0gmoHlUiUJg"
      },
      "source": [
        "## Visual Studio"
      ]
    },
    {
      "cell_type": "code",
      "execution_count": 1,
      "metadata": {
        "id": "_ghzLvKYiUJi"
      },
      "outputs": [],
      "source": [
        "import os\n",
        "import sys\n",
        "\n",
        "ruta =os.getcwd()\n",
        "sys.path.append(ruta)"
      ]
    },
    {
      "cell_type": "markdown",
      "metadata": {
        "id": "EKtop0zQiUJj"
      },
      "source": [
        "# Modelo"
      ]
    },
    {
      "cell_type": "code",
      "execution_count": 2,
      "metadata": {
        "id": "CSihixx9MDLM"
      },
      "outputs": [],
      "source": [
        "import warnings\n",
        "warnings.filterwarnings(\"ignore\")\n",
        "\n",
        "\n",
        "\n",
        "# Importar librerias necesarias\n",
        "import sqlite3 as sql\n",
        "import pandas as pd\n",
        "import a_funciones as fn ### importar modulo de  funciones\n",
        "from a_funciones import * ### importar toddas las funciones del archivo\n",
        "\n",
        "from sklearn.linear_model import LogisticRegression ## para regresión lineal\n",
        "from sklearn import tree ###para ajustar arboles de decisión\n",
        "from sklearn.ensemble import RandomForestClassifier ##Ensamble con bagging\n",
        "from sklearn.ensemble import GradientBoostingClassifier ###Ensamble boosting\n",
        "from sklearn.model_selection import cross_val_predict, cross_val_score, cross_validate\n",
        "from sklearn.metrics import mean_squared_error\n",
        "from sklearn import metrics\n",
        "\n",
        "import numpy as np\n",
        "import seaborn as sns\n",
        "import matplotlib.pyplot as plt ### gráficos\n",
        "from sklearn.model_selection import RandomizedSearchCV\n",
        "import joblib  ### para guardar modelos\n",
        "from sklearn.preprocessing import StandardScaler ## escalar variables\n",
        "import openpyxl"
      ]
    },
    {
      "cell_type": "code",
      "execution_count": 3,
      "metadata": {
        "id": "3IgMDpxdMhXG"
      },
      "outputs": [],
      "source": [
        "#### conectarse a base de datos preprocesada\n",
        "\n",
        "con=sql.connect('bases de datos RRHH/datos.db')\n",
        "cur=con.cursor()"
      ]
    },
    {
      "cell_type": "code",
      "execution_count": 4,
      "metadata": {
        "colab": {
          "base_uri": "https://localhost:8080/"
        },
        "id": "DOfH7BwLOLKK",
        "outputId": "707b11cb-8770-4d60-fb2b-f0e6fc38858c"
      },
      "outputs": [
        {
          "data": {
            "text/plain": [
              "[('completo',),\n",
              " ('retiros',),\n",
              " ('general',),\n",
              " ('employee_survey',),\n",
              " ('manager_survey',)]"
            ]
          },
          "execution_count": 4,
          "metadata": {},
          "output_type": "execute_result"
        }
      ],
      "source": [
        "### ver todas las bases de datos ###\n",
        "\n",
        "cur.execute(\"select name from sqlite_master where type='table';\")\n",
        "cur.fetchall()\n"
      ]
    },
    {
      "cell_type": "code",
      "execution_count": 5,
      "metadata": {
        "colab": {
          "base_uri": "https://localhost:8080/",
          "height": 617
        },
        "id": "Nz0BfBSYOY6K",
        "outputId": "41c44e79-901f-4d42-b024-9007c96e51a4"
      },
      "outputs": [
        {
          "data": {
            "text/html": [
              "<div>\n",
              "<style scoped>\n",
              "    .dataframe tbody tr th:only-of-type {\n",
              "        vertical-align: middle;\n",
              "    }\n",
              "\n",
              "    .dataframe tbody tr th {\n",
              "        vertical-align: top;\n",
              "    }\n",
              "\n",
              "    .dataframe thead th {\n",
              "        text-align: right;\n",
              "    }\n",
              "</style>\n",
              "<table border=\"1\" class=\"dataframe\">\n",
              "  <thead>\n",
              "    <tr style=\"text-align: right;\">\n",
              "      <th></th>\n",
              "      <th>Age</th>\n",
              "      <th>BusinessTravel</th>\n",
              "      <th>Department</th>\n",
              "      <th>DistanceFromHome</th>\n",
              "      <th>Education</th>\n",
              "      <th>EducationField</th>\n",
              "      <th>EmployeeID</th>\n",
              "      <th>Gender</th>\n",
              "      <th>JobLevel</th>\n",
              "      <th>JobRole</th>\n",
              "      <th>...</th>\n",
              "      <th>JobSatisfaction</th>\n",
              "      <th>WorkLifeBalance</th>\n",
              "      <th>DateSurvey</th>\n",
              "      <th>JobInvolvement</th>\n",
              "      <th>PerformanceRating</th>\n",
              "      <th>SurveyDate</th>\n",
              "      <th>Attrition</th>\n",
              "      <th>retirementDate</th>\n",
              "      <th>retirementType</th>\n",
              "      <th>resignationReason</th>\n",
              "    </tr>\n",
              "  </thead>\n",
              "  <tbody>\n",
              "    <tr>\n",
              "      <th>0</th>\n",
              "      <td>51</td>\n",
              "      <td>Travel_Rarely</td>\n",
              "      <td>Sales</td>\n",
              "      <td>6</td>\n",
              "      <td>2</td>\n",
              "      <td>Life Sciences</td>\n",
              "      <td>1</td>\n",
              "      <td>Female</td>\n",
              "      <td>1</td>\n",
              "      <td>Healthcare Representative</td>\n",
              "      <td>...</td>\n",
              "      <td>4.0</td>\n",
              "      <td>2.0</td>\n",
              "      <td>2015-12-31</td>\n",
              "      <td>3</td>\n",
              "      <td>3</td>\n",
              "      <td>2015-12-31</td>\n",
              "      <td>0</td>\n",
              "      <td>0</td>\n",
              "      <td>NoRetirement</td>\n",
              "      <td>NoRetirement</td>\n",
              "    </tr>\n",
              "    <tr>\n",
              "      <th>1</th>\n",
              "      <td>31</td>\n",
              "      <td>Travel_Frequently</td>\n",
              "      <td>Research &amp; Development</td>\n",
              "      <td>10</td>\n",
              "      <td>1</td>\n",
              "      <td>Life Sciences</td>\n",
              "      <td>2</td>\n",
              "      <td>Female</td>\n",
              "      <td>1</td>\n",
              "      <td>Research Scientist</td>\n",
              "      <td>...</td>\n",
              "      <td>2.0</td>\n",
              "      <td>4.0</td>\n",
              "      <td>2015-12-31</td>\n",
              "      <td>2</td>\n",
              "      <td>4</td>\n",
              "      <td>2015-12-31</td>\n",
              "      <td>1</td>\n",
              "      <td>2016-10-15</td>\n",
              "      <td>Resignation</td>\n",
              "      <td>Others</td>\n",
              "    </tr>\n",
              "    <tr>\n",
              "      <th>2</th>\n",
              "      <td>32</td>\n",
              "      <td>Travel_Frequently</td>\n",
              "      <td>Research &amp; Development</td>\n",
              "      <td>17</td>\n",
              "      <td>4</td>\n",
              "      <td>Other</td>\n",
              "      <td>3</td>\n",
              "      <td>Male</td>\n",
              "      <td>4</td>\n",
              "      <td>Sales Executive</td>\n",
              "      <td>...</td>\n",
              "      <td>2.0</td>\n",
              "      <td>1.0</td>\n",
              "      <td>2015-12-31</td>\n",
              "      <td>3</td>\n",
              "      <td>3</td>\n",
              "      <td>2015-12-31</td>\n",
              "      <td>0</td>\n",
              "      <td>0</td>\n",
              "      <td>NoRetirement</td>\n",
              "      <td>NoRetirement</td>\n",
              "    </tr>\n",
              "    <tr>\n",
              "      <th>3</th>\n",
              "      <td>38</td>\n",
              "      <td>Non-Travel</td>\n",
              "      <td>Research &amp; Development</td>\n",
              "      <td>2</td>\n",
              "      <td>5</td>\n",
              "      <td>Life Sciences</td>\n",
              "      <td>4</td>\n",
              "      <td>Male</td>\n",
              "      <td>3</td>\n",
              "      <td>Human Resources</td>\n",
              "      <td>...</td>\n",
              "      <td>4.0</td>\n",
              "      <td>3.0</td>\n",
              "      <td>2015-12-31</td>\n",
              "      <td>2</td>\n",
              "      <td>3</td>\n",
              "      <td>2015-12-31</td>\n",
              "      <td>0</td>\n",
              "      <td>0</td>\n",
              "      <td>NoRetirement</td>\n",
              "      <td>NoRetirement</td>\n",
              "    </tr>\n",
              "    <tr>\n",
              "      <th>4</th>\n",
              "      <td>32</td>\n",
              "      <td>Travel_Rarely</td>\n",
              "      <td>Research &amp; Development</td>\n",
              "      <td>10</td>\n",
              "      <td>1</td>\n",
              "      <td>Medical</td>\n",
              "      <td>5</td>\n",
              "      <td>Male</td>\n",
              "      <td>1</td>\n",
              "      <td>Sales Executive</td>\n",
              "      <td>...</td>\n",
              "      <td>1.0</td>\n",
              "      <td>3.0</td>\n",
              "      <td>2015-12-31</td>\n",
              "      <td>3</td>\n",
              "      <td>3</td>\n",
              "      <td>2015-12-31</td>\n",
              "      <td>0</td>\n",
              "      <td>0</td>\n",
              "      <td>NoRetirement</td>\n",
              "      <td>NoRetirement</td>\n",
              "    </tr>\n",
              "    <tr>\n",
              "      <th>...</th>\n",
              "      <td>...</td>\n",
              "      <td>...</td>\n",
              "      <td>...</td>\n",
              "      <td>...</td>\n",
              "      <td>...</td>\n",
              "      <td>...</td>\n",
              "      <td>...</td>\n",
              "      <td>...</td>\n",
              "      <td>...</td>\n",
              "      <td>...</td>\n",
              "      <td>...</td>\n",
              "      <td>...</td>\n",
              "      <td>...</td>\n",
              "      <td>...</td>\n",
              "      <td>...</td>\n",
              "      <td>...</td>\n",
              "      <td>...</td>\n",
              "      <td>...</td>\n",
              "      <td>...</td>\n",
              "      <td>...</td>\n",
              "      <td>...</td>\n",
              "    </tr>\n",
              "    <tr>\n",
              "      <th>8815</th>\n",
              "      <td>42</td>\n",
              "      <td>Travel_Rarely</td>\n",
              "      <td>Research &amp; Development</td>\n",
              "      <td>5</td>\n",
              "      <td>4</td>\n",
              "      <td>Medical</td>\n",
              "      <td>4406</td>\n",
              "      <td>Female</td>\n",
              "      <td>1</td>\n",
              "      <td>Research Scientist</td>\n",
              "      <td>...</td>\n",
              "      <td>1.0</td>\n",
              "      <td>3.0</td>\n",
              "      <td>2016-12-31</td>\n",
              "      <td>3</td>\n",
              "      <td>3</td>\n",
              "      <td>2016-12-31</td>\n",
              "      <td>0</td>\n",
              "      <td>0</td>\n",
              "      <td>NoRetirement</td>\n",
              "      <td>NoRetirement</td>\n",
              "    </tr>\n",
              "    <tr>\n",
              "      <th>8816</th>\n",
              "      <td>29</td>\n",
              "      <td>Travel_Rarely</td>\n",
              "      <td>Research &amp; Development</td>\n",
              "      <td>2</td>\n",
              "      <td>4</td>\n",
              "      <td>Medical</td>\n",
              "      <td>4407</td>\n",
              "      <td>Male</td>\n",
              "      <td>1</td>\n",
              "      <td>Laboratory Technician</td>\n",
              "      <td>...</td>\n",
              "      <td>4.0</td>\n",
              "      <td>3.0</td>\n",
              "      <td>2016-12-31</td>\n",
              "      <td>2</td>\n",
              "      <td>3</td>\n",
              "      <td>2016-12-31</td>\n",
              "      <td>0</td>\n",
              "      <td>0</td>\n",
              "      <td>NoRetirement</td>\n",
              "      <td>NoRetirement</td>\n",
              "    </tr>\n",
              "    <tr>\n",
              "      <th>8817</th>\n",
              "      <td>25</td>\n",
              "      <td>Travel_Rarely</td>\n",
              "      <td>Research &amp; Development</td>\n",
              "      <td>25</td>\n",
              "      <td>2</td>\n",
              "      <td>Life Sciences</td>\n",
              "      <td>4408</td>\n",
              "      <td>Male</td>\n",
              "      <td>2</td>\n",
              "      <td>Sales Executive</td>\n",
              "      <td>...</td>\n",
              "      <td>3.0</td>\n",
              "      <td>3.0</td>\n",
              "      <td>2016-12-31</td>\n",
              "      <td>3</td>\n",
              "      <td>4</td>\n",
              "      <td>2016-12-31</td>\n",
              "      <td>0</td>\n",
              "      <td>0</td>\n",
              "      <td>NoRetirement</td>\n",
              "      <td>NoRetirement</td>\n",
              "    </tr>\n",
              "    <tr>\n",
              "      <th>8818</th>\n",
              "      <td>42</td>\n",
              "      <td>Travel_Rarely</td>\n",
              "      <td>Sales</td>\n",
              "      <td>18</td>\n",
              "      <td>2</td>\n",
              "      <td>Medical</td>\n",
              "      <td>4409</td>\n",
              "      <td>Male</td>\n",
              "      <td>1</td>\n",
              "      <td>Laboratory Technician</td>\n",
              "      <td>...</td>\n",
              "      <td>1.0</td>\n",
              "      <td>3.0</td>\n",
              "      <td>2016-12-31</td>\n",
              "      <td>2</td>\n",
              "      <td>3</td>\n",
              "      <td>2016-12-31</td>\n",
              "      <td>0</td>\n",
              "      <td>0</td>\n",
              "      <td>NoRetirement</td>\n",
              "      <td>NoRetirement</td>\n",
              "    </tr>\n",
              "    <tr>\n",
              "      <th>8819</th>\n",
              "      <td>40</td>\n",
              "      <td>Travel_Rarely</td>\n",
              "      <td>Research &amp; Development</td>\n",
              "      <td>28</td>\n",
              "      <td>3</td>\n",
              "      <td>Medical</td>\n",
              "      <td>4410</td>\n",
              "      <td>Male</td>\n",
              "      <td>2</td>\n",
              "      <td>Laboratory Technician</td>\n",
              "      <td>...</td>\n",
              "      <td>3.0</td>\n",
              "      <td>3.0</td>\n",
              "      <td>2016-12-31</td>\n",
              "      <td>4</td>\n",
              "      <td>3</td>\n",
              "      <td>2016-12-31</td>\n",
              "      <td>0</td>\n",
              "      <td>0</td>\n",
              "      <td>NoRetirement</td>\n",
              "      <td>NoRetirement</td>\n",
              "    </tr>\n",
              "  </tbody>\n",
              "</table>\n",
              "<p>8820 rows × 32 columns</p>\n",
              "</div>"
            ],
            "text/plain": [
              "      Age     BusinessTravel              Department  DistanceFromHome  \\\n",
              "0      51      Travel_Rarely                   Sales                 6   \n",
              "1      31  Travel_Frequently  Research & Development                10   \n",
              "2      32  Travel_Frequently  Research & Development                17   \n",
              "3      38         Non-Travel  Research & Development                 2   \n",
              "4      32      Travel_Rarely  Research & Development                10   \n",
              "...   ...                ...                     ...               ...   \n",
              "8815   42      Travel_Rarely  Research & Development                 5   \n",
              "8816   29      Travel_Rarely  Research & Development                 2   \n",
              "8817   25      Travel_Rarely  Research & Development                25   \n",
              "8818   42      Travel_Rarely                   Sales                18   \n",
              "8819   40      Travel_Rarely  Research & Development                28   \n",
              "\n",
              "      Education EducationField EmployeeID  Gender  JobLevel  \\\n",
              "0             2  Life Sciences          1  Female         1   \n",
              "1             1  Life Sciences          2  Female         1   \n",
              "2             4          Other          3    Male         4   \n",
              "3             5  Life Sciences          4    Male         3   \n",
              "4             1        Medical          5    Male         1   \n",
              "...         ...            ...        ...     ...       ...   \n",
              "8815          4        Medical       4406  Female         1   \n",
              "8816          4        Medical       4407    Male         1   \n",
              "8817          2  Life Sciences       4408    Male         2   \n",
              "8818          2        Medical       4409    Male         1   \n",
              "8819          3        Medical       4410    Male         2   \n",
              "\n",
              "                        JobRole  ... JobSatisfaction  WorkLifeBalance  \\\n",
              "0     Healthcare Representative  ...             4.0              2.0   \n",
              "1            Research Scientist  ...             2.0              4.0   \n",
              "2               Sales Executive  ...             2.0              1.0   \n",
              "3               Human Resources  ...             4.0              3.0   \n",
              "4               Sales Executive  ...             1.0              3.0   \n",
              "...                         ...  ...             ...              ...   \n",
              "8815         Research Scientist  ...             1.0              3.0   \n",
              "8816      Laboratory Technician  ...             4.0              3.0   \n",
              "8817            Sales Executive  ...             3.0              3.0   \n",
              "8818      Laboratory Technician  ...             1.0              3.0   \n",
              "8819      Laboratory Technician  ...             3.0              3.0   \n",
              "\n",
              "      DateSurvey  JobInvolvement  PerformanceRating  SurveyDate  Attrition  \\\n",
              "0     2015-12-31               3                  3  2015-12-31          0   \n",
              "1     2015-12-31               2                  4  2015-12-31          1   \n",
              "2     2015-12-31               3                  3  2015-12-31          0   \n",
              "3     2015-12-31               2                  3  2015-12-31          0   \n",
              "4     2015-12-31               3                  3  2015-12-31          0   \n",
              "...          ...             ...                ...         ...        ...   \n",
              "8815  2016-12-31               3                  3  2016-12-31          0   \n",
              "8816  2016-12-31               2                  3  2016-12-31          0   \n",
              "8817  2016-12-31               3                  4  2016-12-31          0   \n",
              "8818  2016-12-31               2                  3  2016-12-31          0   \n",
              "8819  2016-12-31               4                  3  2016-12-31          0   \n",
              "\n",
              "      retirementDate  retirementType  resignationReason  \n",
              "0                  0    NoRetirement       NoRetirement  \n",
              "1         2016-10-15     Resignation             Others  \n",
              "2                  0    NoRetirement       NoRetirement  \n",
              "3                  0    NoRetirement       NoRetirement  \n",
              "4                  0    NoRetirement       NoRetirement  \n",
              "...              ...             ...                ...  \n",
              "8815               0    NoRetirement       NoRetirement  \n",
              "8816               0    NoRetirement       NoRetirement  \n",
              "8817               0    NoRetirement       NoRetirement  \n",
              "8818               0    NoRetirement       NoRetirement  \n",
              "8819               0    NoRetirement       NoRetirement  \n",
              "\n",
              "[8820 rows x 32 columns]"
            ]
          },
          "execution_count": 5,
          "metadata": {},
          "output_type": "execute_result"
        }
      ],
      "source": [
        "pd.read_sql(\"\"\" select * from completo\"\"\", con=con)"
      ]
    },
    {
      "cell_type": "code",
      "execution_count": 6,
      "metadata": {
        "id": "Ddq6Ue6sPykI"
      },
      "outputs": [],
      "source": [
        "#crear dataframe para el modelado(2015)\n",
        "df_m = pd.read_sql(\"\"\"select * from completo\n",
        "where InfoDate='2015-12-31'\n",
        "\"\"\",con=con)"
      ]
    },
    {
      "cell_type": "code",
      "execution_count": 7,
      "metadata": {
        "colab": {
          "base_uri": "https://localhost:8080/"
        },
        "id": "yNunKgxLRMlu",
        "outputId": "57e70d6d-cf46-41f8-b197-4e0b8c829895"
      },
      "outputs": [
        {
          "name": "stdout",
          "output_type": "stream",
          "text": [
            "<class 'pandas.core.frame.DataFrame'>\n",
            "RangeIndex: 4410 entries, 0 to 4409\n",
            "Data columns (total 32 columns):\n",
            " #   Column                   Non-Null Count  Dtype  \n",
            "---  ------                   --------------  -----  \n",
            " 0   Age                      4410 non-null   int64  \n",
            " 1   BusinessTravel           4410 non-null   object \n",
            " 2   Department               4410 non-null   object \n",
            " 3   DistanceFromHome         4410 non-null   int64  \n",
            " 4   Education                4410 non-null   int64  \n",
            " 5   EducationField           4410 non-null   object \n",
            " 6   EmployeeID               4410 non-null   object \n",
            " 7   Gender                   4410 non-null   object \n",
            " 8   JobLevel                 4410 non-null   int64  \n",
            " 9   JobRole                  4410 non-null   object \n",
            " 10  MaritalStatus            4410 non-null   object \n",
            " 11  MonthlyIncome            4410 non-null   int64  \n",
            " 12  NumCompaniesWorked       4410 non-null   float64\n",
            " 13  PercentSalaryHike        4410 non-null   int64  \n",
            " 14  StockOptionLevel         4410 non-null   int64  \n",
            " 15  TotalWorkingYears        4410 non-null   float64\n",
            " 16  TrainingTimesLastYear    4410 non-null   int64  \n",
            " 17  YearsAtCompany           4410 non-null   int64  \n",
            " 18  YearsSinceLastPromotion  4410 non-null   int64  \n",
            " 19  YearsWithCurrManager     4410 non-null   int64  \n",
            " 20  InfoDate                 4410 non-null   object \n",
            " 21  EnvironmentSatisfaction  4410 non-null   float64\n",
            " 22  JobSatisfaction          4410 non-null   float64\n",
            " 23  WorkLifeBalance          4410 non-null   float64\n",
            " 24  DateSurvey               4410 non-null   object \n",
            " 25  JobInvolvement           4410 non-null   int64  \n",
            " 26  PerformanceRating        4410 non-null   int64  \n",
            " 27  SurveyDate               4410 non-null   object \n",
            " 28  Attrition                4410 non-null   int64  \n",
            " 29  retirementDate           4410 non-null   object \n",
            " 30  retirementType           4410 non-null   object \n",
            " 31  resignationReason        4410 non-null   object \n",
            "dtypes: float64(5), int64(14), object(13)\n",
            "memory usage: 1.1+ MB\n"
          ]
        }
      ],
      "source": [
        "df_m.info()"
      ]
    },
    {
      "cell_type": "code",
      "execution_count": 8,
      "metadata": {
        "colab": {
          "base_uri": "https://localhost:8080/"
        },
        "id": "4xJ_Tf_gV8_m",
        "outputId": "0e9ca27b-5bff-4315-fc66-a6a7337b6dbb"
      },
      "outputs": [
        {
          "data": {
            "text/plain": [
              "Index(['Age', 'BusinessTravel', 'Department', 'DistanceFromHome', 'Education',\n",
              "       'EducationField', 'EmployeeID', 'Gender', 'JobLevel', 'JobRole',\n",
              "       'MaritalStatus', 'MonthlyIncome', 'NumCompaniesWorked',\n",
              "       'PercentSalaryHike', 'StockOptionLevel', 'TotalWorkingYears',\n",
              "       'TrainingTimesLastYear', 'YearsAtCompany', 'YearsSinceLastPromotion',\n",
              "       'YearsWithCurrManager', 'EnvironmentSatisfaction', 'JobSatisfaction',\n",
              "       'WorkLifeBalance', 'JobInvolvement', 'PerformanceRating', 'Attrition',\n",
              "       'retirementType', 'resignationReason'],\n",
              "      dtype='object')"
            ]
          },
          "execution_count": 8,
          "metadata": {},
          "output_type": "execute_result"
        }
      ],
      "source": [
        "#Eliminación de variables InfoDate, retirementDate, DateSurvey y SurveyDate ya que no son relevantes dentro del dataframe (informacion 2015-retiros 2016)\n",
        "df_m=df_m.drop(columns=['InfoDate','retirementDate','DateSurvey','SurveyDate'])\n",
        "df_m.columns"
      ]
    },
    {
      "cell_type": "code",
      "execution_count": 9,
      "metadata": {
        "colab": {
          "base_uri": "https://localhost:8080/"
        },
        "id": "wnTGcfEYYIuu",
        "outputId": "b8fbdfef-4006-4e7b-d0ff-732e4aeee9ec"
      },
      "outputs": [
        {
          "name": "stdout",
          "output_type": "stream",
          "text": [
            "<class 'pandas.core.frame.DataFrame'>\n",
            "RangeIndex: 4410 entries, 0 to 4409\n",
            "Data columns (total 28 columns):\n",
            " #   Column                   Non-Null Count  Dtype \n",
            "---  ------                   --------------  ----- \n",
            " 0   Age                      4410 non-null   int64 \n",
            " 1   BusinessTravel           4410 non-null   object\n",
            " 2   Department               4410 non-null   object\n",
            " 3   DistanceFromHome         4410 non-null   int64 \n",
            " 4   Education                4410 non-null   int64 \n",
            " 5   EducationField           4410 non-null   object\n",
            " 6   EmployeeID               4410 non-null   object\n",
            " 7   Gender                   4410 non-null   object\n",
            " 8   JobLevel                 4410 non-null   int64 \n",
            " 9   JobRole                  4410 non-null   object\n",
            " 10  MaritalStatus            4410 non-null   object\n",
            " 11  MonthlyIncome            4410 non-null   int64 \n",
            " 12  NumCompaniesWorked       4410 non-null   int32 \n",
            " 13  PercentSalaryHike        4410 non-null   int64 \n",
            " 14  StockOptionLevel         4410 non-null   int64 \n",
            " 15  TotalWorkingYears        4410 non-null   int32 \n",
            " 16  TrainingTimesLastYear    4410 non-null   int64 \n",
            " 17  YearsAtCompany           4410 non-null   int64 \n",
            " 18  YearsSinceLastPromotion  4410 non-null   int64 \n",
            " 19  YearsWithCurrManager     4410 non-null   int64 \n",
            " 20  EnvironmentSatisfaction  4410 non-null   int32 \n",
            " 21  JobSatisfaction          4410 non-null   int32 \n",
            " 22  WorkLifeBalance          4410 non-null   int32 \n",
            " 23  JobInvolvement           4410 non-null   int64 \n",
            " 24  PerformanceRating        4410 non-null   int64 \n",
            " 25  Attrition                4410 non-null   int64 \n",
            " 26  retirementType           4410 non-null   object\n",
            " 27  resignationReason        4410 non-null   object\n",
            "dtypes: int32(5), int64(14), object(9)\n",
            "memory usage: 878.7+ KB\n"
          ]
        }
      ],
      "source": [
        "#Cambiar variables float a integer\n",
        "columnas_float=df_m.select_dtypes(include=['float']).columns\n",
        "\n",
        "df_m[columnas_float]=df_m[columnas_float].astype(int)\n",
        "df_m.info()"
      ]
    },
    {
      "cell_type": "code",
      "execution_count": 10,
      "metadata": {
        "id": "RxsHBVlVaJ3S"
      },
      "outputs": [],
      "source": [
        "#Conversion a Dummyes\n",
        "list_dummies=['BusinessTravel', 'Department','EducationField', 'Gender', 'JobRole', 'MaritalStatus', 'retirementType',\n",
        "       'resignationReason']\n",
        "\n",
        "\n",
        "df_dummies=pd.get_dummies(df_m,columns=list_dummies)\n",
        "\n"
      ]
    },
    {
      "cell_type": "code",
      "execution_count": 11,
      "metadata": {
        "colab": {
          "base_uri": "https://localhost:8080/",
          "height": 256
        },
        "id": "AMEEMmGlbP2t",
        "outputId": "ea906391-1915-4953-f97a-d60a2d3d6056"
      },
      "outputs": [
        {
          "data": {
            "text/html": [
              "<div>\n",
              "<style scoped>\n",
              "    .dataframe tbody tr th:only-of-type {\n",
              "        vertical-align: middle;\n",
              "    }\n",
              "\n",
              "    .dataframe tbody tr th {\n",
              "        vertical-align: top;\n",
              "    }\n",
              "\n",
              "    .dataframe thead th {\n",
              "        text-align: right;\n",
              "    }\n",
              "</style>\n",
              "<table border=\"1\" class=\"dataframe\">\n",
              "  <thead>\n",
              "    <tr style=\"text-align: right;\">\n",
              "      <th></th>\n",
              "      <th>Age</th>\n",
              "      <th>DistanceFromHome</th>\n",
              "      <th>Education</th>\n",
              "      <th>EmployeeID</th>\n",
              "      <th>JobLevel</th>\n",
              "      <th>MonthlyIncome</th>\n",
              "      <th>NumCompaniesWorked</th>\n",
              "      <th>PercentSalaryHike</th>\n",
              "      <th>StockOptionLevel</th>\n",
              "      <th>TotalWorkingYears</th>\n",
              "      <th>...</th>\n",
              "      <th>MaritalStatus_Married</th>\n",
              "      <th>MaritalStatus_Single</th>\n",
              "      <th>retirementType_Fired</th>\n",
              "      <th>retirementType_NoRetirement</th>\n",
              "      <th>retirementType_Resignation</th>\n",
              "      <th>resignationReason_Fired</th>\n",
              "      <th>resignationReason_NoRetirement</th>\n",
              "      <th>resignationReason_Others</th>\n",
              "      <th>resignationReason_Salary</th>\n",
              "      <th>resignationReason_Stress</th>\n",
              "    </tr>\n",
              "  </thead>\n",
              "  <tbody>\n",
              "    <tr>\n",
              "      <th>0</th>\n",
              "      <td>51</td>\n",
              "      <td>6</td>\n",
              "      <td>2</td>\n",
              "      <td>1</td>\n",
              "      <td>1</td>\n",
              "      <td>131160</td>\n",
              "      <td>1</td>\n",
              "      <td>11</td>\n",
              "      <td>0</td>\n",
              "      <td>1</td>\n",
              "      <td>...</td>\n",
              "      <td>True</td>\n",
              "      <td>False</td>\n",
              "      <td>False</td>\n",
              "      <td>True</td>\n",
              "      <td>False</td>\n",
              "      <td>False</td>\n",
              "      <td>True</td>\n",
              "      <td>False</td>\n",
              "      <td>False</td>\n",
              "      <td>False</td>\n",
              "    </tr>\n",
              "    <tr>\n",
              "      <th>1</th>\n",
              "      <td>31</td>\n",
              "      <td>10</td>\n",
              "      <td>1</td>\n",
              "      <td>2</td>\n",
              "      <td>1</td>\n",
              "      <td>41890</td>\n",
              "      <td>0</td>\n",
              "      <td>23</td>\n",
              "      <td>1</td>\n",
              "      <td>6</td>\n",
              "      <td>...</td>\n",
              "      <td>False</td>\n",
              "      <td>True</td>\n",
              "      <td>False</td>\n",
              "      <td>False</td>\n",
              "      <td>True</td>\n",
              "      <td>False</td>\n",
              "      <td>False</td>\n",
              "      <td>True</td>\n",
              "      <td>False</td>\n",
              "      <td>False</td>\n",
              "    </tr>\n",
              "    <tr>\n",
              "      <th>2</th>\n",
              "      <td>32</td>\n",
              "      <td>17</td>\n",
              "      <td>4</td>\n",
              "      <td>3</td>\n",
              "      <td>4</td>\n",
              "      <td>193280</td>\n",
              "      <td>1</td>\n",
              "      <td>15</td>\n",
              "      <td>3</td>\n",
              "      <td>5</td>\n",
              "      <td>...</td>\n",
              "      <td>True</td>\n",
              "      <td>False</td>\n",
              "      <td>False</td>\n",
              "      <td>True</td>\n",
              "      <td>False</td>\n",
              "      <td>False</td>\n",
              "      <td>True</td>\n",
              "      <td>False</td>\n",
              "      <td>False</td>\n",
              "      <td>False</td>\n",
              "    </tr>\n",
              "    <tr>\n",
              "      <th>3</th>\n",
              "      <td>38</td>\n",
              "      <td>2</td>\n",
              "      <td>5</td>\n",
              "      <td>4</td>\n",
              "      <td>3</td>\n",
              "      <td>83210</td>\n",
              "      <td>3</td>\n",
              "      <td>11</td>\n",
              "      <td>3</td>\n",
              "      <td>13</td>\n",
              "      <td>...</td>\n",
              "      <td>True</td>\n",
              "      <td>False</td>\n",
              "      <td>False</td>\n",
              "      <td>True</td>\n",
              "      <td>False</td>\n",
              "      <td>False</td>\n",
              "      <td>True</td>\n",
              "      <td>False</td>\n",
              "      <td>False</td>\n",
              "      <td>False</td>\n",
              "    </tr>\n",
              "    <tr>\n",
              "      <th>4</th>\n",
              "      <td>32</td>\n",
              "      <td>10</td>\n",
              "      <td>1</td>\n",
              "      <td>5</td>\n",
              "      <td>1</td>\n",
              "      <td>23420</td>\n",
              "      <td>4</td>\n",
              "      <td>12</td>\n",
              "      <td>2</td>\n",
              "      <td>9</td>\n",
              "      <td>...</td>\n",
              "      <td>False</td>\n",
              "      <td>True</td>\n",
              "      <td>False</td>\n",
              "      <td>True</td>\n",
              "      <td>False</td>\n",
              "      <td>False</td>\n",
              "      <td>True</td>\n",
              "      <td>False</td>\n",
              "      <td>False</td>\n",
              "      <td>False</td>\n",
              "    </tr>\n",
              "  </tbody>\n",
              "</table>\n",
              "<p>5 rows × 54 columns</p>\n",
              "</div>"
            ],
            "text/plain": [
              "   Age  DistanceFromHome  Education EmployeeID  JobLevel  MonthlyIncome  \\\n",
              "0   51                 6          2          1         1         131160   \n",
              "1   31                10          1          2         1          41890   \n",
              "2   32                17          4          3         4         193280   \n",
              "3   38                 2          5          4         3          83210   \n",
              "4   32                10          1          5         1          23420   \n",
              "\n",
              "   NumCompaniesWorked  PercentSalaryHike  StockOptionLevel  TotalWorkingYears  \\\n",
              "0                   1                 11                 0                  1   \n",
              "1                   0                 23                 1                  6   \n",
              "2                   1                 15                 3                  5   \n",
              "3                   3                 11                 3                 13   \n",
              "4                   4                 12                 2                  9   \n",
              "\n",
              "   ...  MaritalStatus_Married  MaritalStatus_Single  retirementType_Fired  \\\n",
              "0  ...                   True                 False                 False   \n",
              "1  ...                  False                  True                 False   \n",
              "2  ...                   True                 False                 False   \n",
              "3  ...                   True                 False                 False   \n",
              "4  ...                  False                  True                 False   \n",
              "\n",
              "   retirementType_NoRetirement  retirementType_Resignation  \\\n",
              "0                         True                       False   \n",
              "1                        False                        True   \n",
              "2                         True                       False   \n",
              "3                         True                       False   \n",
              "4                         True                       False   \n",
              "\n",
              "   resignationReason_Fired  resignationReason_NoRetirement  \\\n",
              "0                    False                            True   \n",
              "1                    False                           False   \n",
              "2                    False                            True   \n",
              "3                    False                            True   \n",
              "4                    False                            True   \n",
              "\n",
              "   resignationReason_Others  resignationReason_Salary  \\\n",
              "0                     False                     False   \n",
              "1                      True                     False   \n",
              "2                     False                     False   \n",
              "3                     False                     False   \n",
              "4                     False                     False   \n",
              "\n",
              "   resignationReason_Stress  \n",
              "0                     False  \n",
              "1                     False  \n",
              "2                     False  \n",
              "3                     False  \n",
              "4                     False  \n",
              "\n",
              "[5 rows x 54 columns]"
            ]
          },
          "execution_count": 11,
          "metadata": {},
          "output_type": "execute_result"
        }
      ],
      "source": [
        "df_dummies.head()"
      ]
    },
    {
      "cell_type": "code",
      "execution_count": 12,
      "metadata": {
        "colab": {
          "base_uri": "https://localhost:8080/"
        },
        "id": "-9IRcIbFiUJ6",
        "outputId": "c868caf9-3e54-43bc-eacd-c2cb4e35b236"
      },
      "outputs": [
        {
          "name": "stdout",
          "output_type": "stream",
          "text": [
            "<class 'pandas.core.frame.DataFrame'>\n",
            "RangeIndex: 4410 entries, 0 to 4409\n",
            "Data columns (total 54 columns):\n",
            " #   Column                             Non-Null Count  Dtype \n",
            "---  ------                             --------------  ----- \n",
            " 0   Age                                4410 non-null   int64 \n",
            " 1   DistanceFromHome                   4410 non-null   int64 \n",
            " 2   Education                          4410 non-null   int64 \n",
            " 3   EmployeeID                         4410 non-null   object\n",
            " 4   JobLevel                           4410 non-null   int64 \n",
            " 5   MonthlyIncome                      4410 non-null   int64 \n",
            " 6   NumCompaniesWorked                 4410 non-null   int32 \n",
            " 7   PercentSalaryHike                  4410 non-null   int64 \n",
            " 8   StockOptionLevel                   4410 non-null   int64 \n",
            " 9   TotalWorkingYears                  4410 non-null   int32 \n",
            " 10  TrainingTimesLastYear              4410 non-null   int64 \n",
            " 11  YearsAtCompany                     4410 non-null   int64 \n",
            " 12  YearsSinceLastPromotion            4410 non-null   int64 \n",
            " 13  YearsWithCurrManager               4410 non-null   int64 \n",
            " 14  EnvironmentSatisfaction            4410 non-null   int32 \n",
            " 15  JobSatisfaction                    4410 non-null   int32 \n",
            " 16  WorkLifeBalance                    4410 non-null   int32 \n",
            " 17  JobInvolvement                     4410 non-null   int64 \n",
            " 18  PerformanceRating                  4410 non-null   int64 \n",
            " 19  Attrition                          4410 non-null   int64 \n",
            " 20  BusinessTravel_Non-Travel          4410 non-null   bool  \n",
            " 21  BusinessTravel_Travel_Frequently   4410 non-null   bool  \n",
            " 22  BusinessTravel_Travel_Rarely       4410 non-null   bool  \n",
            " 23  Department_Human Resources         4410 non-null   bool  \n",
            " 24  Department_Research & Development  4410 non-null   bool  \n",
            " 25  Department_Sales                   4410 non-null   bool  \n",
            " 26  EducationField_Human Resources     4410 non-null   bool  \n",
            " 27  EducationField_Life Sciences       4410 non-null   bool  \n",
            " 28  EducationField_Marketing           4410 non-null   bool  \n",
            " 29  EducationField_Medical             4410 non-null   bool  \n",
            " 30  EducationField_Other               4410 non-null   bool  \n",
            " 31  EducationField_Technical Degree    4410 non-null   bool  \n",
            " 32  Gender_Female                      4410 non-null   bool  \n",
            " 33  Gender_Male                        4410 non-null   bool  \n",
            " 34  JobRole_Healthcare Representative  4410 non-null   bool  \n",
            " 35  JobRole_Human Resources            4410 non-null   bool  \n",
            " 36  JobRole_Laboratory Technician      4410 non-null   bool  \n",
            " 37  JobRole_Manager                    4410 non-null   bool  \n",
            " 38  JobRole_Manufacturing Director     4410 non-null   bool  \n",
            " 39  JobRole_Research Director          4410 non-null   bool  \n",
            " 40  JobRole_Research Scientist         4410 non-null   bool  \n",
            " 41  JobRole_Sales Executive            4410 non-null   bool  \n",
            " 42  JobRole_Sales Representative       4410 non-null   bool  \n",
            " 43  MaritalStatus_Divorced             4410 non-null   bool  \n",
            " 44  MaritalStatus_Married              4410 non-null   bool  \n",
            " 45  MaritalStatus_Single               4410 non-null   bool  \n",
            " 46  retirementType_Fired               4410 non-null   bool  \n",
            " 47  retirementType_NoRetirement        4410 non-null   bool  \n",
            " 48  retirementType_Resignation         4410 non-null   bool  \n",
            " 49  resignationReason_Fired            4410 non-null   bool  \n",
            " 50  resignationReason_NoRetirement     4410 non-null   bool  \n",
            " 51  resignationReason_Others           4410 non-null   bool  \n",
            " 52  resignationReason_Salary           4410 non-null   bool  \n",
            " 53  resignationReason_Stress           4410 non-null   bool  \n",
            "dtypes: bool(34), int32(5), int64(14), object(1)\n",
            "memory usage: 749.5+ KB\n"
          ]
        }
      ],
      "source": [
        "df_dummies.info()"
      ]
    },
    {
      "cell_type": "code",
      "execution_count": 13,
      "metadata": {
        "id": "D3PtqyGPkxtK"
      },
      "outputs": [],
      "source": [
        "#Eliminacion de variables resignationReason ya que se presentan una alta correlación con la variable objetivo Attrition lo cual sesga el desempeño de los modelos.\n",
        "df_dummies=df_dummies.drop(columns=['resignationReason_Fired', 'resignationReason_NoRetirement',\n",
        "       'resignationReason_Others', 'resignationReason_Salary',\n",
        "       'resignationReason_Stress', 'retirementType_Fired',\n",
        "       'retirementType_NoRetirement', 'retirementType_Resignation' ])\n"
      ]
    },
    {
      "cell_type": "markdown",
      "metadata": {
        "id": "16p62OZ6iUJ7"
      },
      "source": [
        "# Selección de variables"
      ]
    },
    {
      "cell_type": "code",
      "execution_count": 14,
      "metadata": {
        "id": "tpWnS7gZjpPD"
      },
      "outputs": [],
      "source": [
        "y=df_dummies.Attrition\n",
        "X1= df_dummies.loc[:,~df_dummies.columns.isin(['Attrition',\n",
        "                                               'EmployeeID'])]"
      ]
    },
    {
      "cell_type": "markdown",
      "metadata": {
        "id": "8njlupEpkGGY"
      },
      "source": [
        "Escalada de variables numéricas"
      ]
    },
    {
      "cell_type": "code",
      "execution_count": 15,
      "metadata": {
        "id": "KSbLh_RMj7QM"
      },
      "outputs": [],
      "source": [
        "scaler=StandardScaler()\n",
        "scaler.fit(X1)\n",
        "X2=scaler.transform(X1)\n",
        "X=pd.DataFrame(X2,columns=X1.columns)"
      ]
    },
    {
      "cell_type": "markdown",
      "metadata": {
        "id": "4p6DNxAsmc93"
      },
      "source": [
        "# Definición de modelos\n"
      ]
    },
    {
      "cell_type": "code",
      "execution_count": 16,
      "metadata": {
        "id": "MWualo7amg2R"
      },
      "outputs": [],
      "source": [
        "m_rtree = tree.DecisionTreeClassifier()\n",
        "m_rf = RandomForestClassifier()\n",
        "m_gbt = GradientBoostingClassifier()\n",
        "\n",
        "modelos=list([m_rtree, m_rf, m_gbt])"
      ]
    },
    {
      "cell_type": "markdown",
      "metadata": {
        "id": "FUBf7iaFndEF"
      },
      "source": [
        "Selección de variables desde las funciones"
      ]
    },
    {
      "cell_type": "code",
      "execution_count": 17,
      "metadata": {
        "colab": {
          "base_uri": "https://localhost:8080/"
        },
        "id": "yyz2Jco2nhKH",
        "outputId": "dfba999d-4bff-4148-a9f7-248399f1aa66"
      },
      "outputs": [
        {
          "data": {
            "text/plain": [
              "(6,)"
            ]
          },
          "execution_count": 17,
          "metadata": {},
          "output_type": "execute_result"
        }
      ],
      "source": [
        "var_names=fn.sel_variables(modelos,X,y,threshold=\"2.5*mean\")\n",
        "var_names.shape\n"
      ]
    },
    {
      "cell_type": "code",
      "execution_count": 18,
      "metadata": {
        "colab": {
          "base_uri": "https://localhost:8080/"
        },
        "id": "mx7NcGYGrRA4",
        "outputId": "9fec8e74-58fa-459b-a52e-ceed2002d4b4"
      },
      "outputs": [
        {
          "name": "stdout",
          "output_type": "stream",
          "text": [
            "<class 'pandas.core.frame.DataFrame'>\n",
            "RangeIndex: 4410 entries, 0 to 4409\n",
            "Data columns (total 6 columns):\n",
            " #   Column                   Non-Null Count  Dtype  \n",
            "---  ------                   --------------  -----  \n",
            " 0   Age                      4410 non-null   float64\n",
            " 1   EnvironmentSatisfaction  4410 non-null   float64\n",
            " 2   MonthlyIncome            4410 non-null   float64\n",
            " 3   NumCompaniesWorked       4410 non-null   float64\n",
            " 4   TotalWorkingYears        4410 non-null   float64\n",
            " 5   YearsAtCompany           4410 non-null   float64\n",
            "dtypes: float64(6)\n",
            "memory usage: 206.8 KB\n"
          ]
        }
      ],
      "source": [
        "X2=X[var_names]\n",
        "X2.info()"
      ]
    },
    {
      "cell_type": "code",
      "execution_count": 19,
      "metadata": {
        "colab": {
          "base_uri": "https://localhost:8080/"
        },
        "id": "By74KUz-tB0j",
        "outputId": "7835dffd-febb-43ea-a08a-66d0f5589273"
      },
      "outputs": [
        {
          "name": "stdout",
          "output_type": "stream",
          "text": [
            "<class 'pandas.core.frame.DataFrame'>\n",
            "RangeIndex: 4410 entries, 0 to 4409\n",
            "Data columns (total 44 columns):\n",
            " #   Column                             Non-Null Count  Dtype  \n",
            "---  ------                             --------------  -----  \n",
            " 0   Age                                4410 non-null   float64\n",
            " 1   DistanceFromHome                   4410 non-null   float64\n",
            " 2   Education                          4410 non-null   float64\n",
            " 3   JobLevel                           4410 non-null   float64\n",
            " 4   MonthlyIncome                      4410 non-null   float64\n",
            " 5   NumCompaniesWorked                 4410 non-null   float64\n",
            " 6   PercentSalaryHike                  4410 non-null   float64\n",
            " 7   StockOptionLevel                   4410 non-null   float64\n",
            " 8   TotalWorkingYears                  4410 non-null   float64\n",
            " 9   TrainingTimesLastYear              4410 non-null   float64\n",
            " 10  YearsAtCompany                     4410 non-null   float64\n",
            " 11  YearsSinceLastPromotion            4410 non-null   float64\n",
            " 12  YearsWithCurrManager               4410 non-null   float64\n",
            " 13  EnvironmentSatisfaction            4410 non-null   float64\n",
            " 14  JobSatisfaction                    4410 non-null   float64\n",
            " 15  WorkLifeBalance                    4410 non-null   float64\n",
            " 16  JobInvolvement                     4410 non-null   float64\n",
            " 17  PerformanceRating                  4410 non-null   float64\n",
            " 18  BusinessTravel_Non-Travel          4410 non-null   float64\n",
            " 19  BusinessTravel_Travel_Frequently   4410 non-null   float64\n",
            " 20  BusinessTravel_Travel_Rarely       4410 non-null   float64\n",
            " 21  Department_Human Resources         4410 non-null   float64\n",
            " 22  Department_Research & Development  4410 non-null   float64\n",
            " 23  Department_Sales                   4410 non-null   float64\n",
            " 24  EducationField_Human Resources     4410 non-null   float64\n",
            " 25  EducationField_Life Sciences       4410 non-null   float64\n",
            " 26  EducationField_Marketing           4410 non-null   float64\n",
            " 27  EducationField_Medical             4410 non-null   float64\n",
            " 28  EducationField_Other               4410 non-null   float64\n",
            " 29  EducationField_Technical Degree    4410 non-null   float64\n",
            " 30  Gender_Female                      4410 non-null   float64\n",
            " 31  Gender_Male                        4410 non-null   float64\n",
            " 32  JobRole_Healthcare Representative  4410 non-null   float64\n",
            " 33  JobRole_Human Resources            4410 non-null   float64\n",
            " 34  JobRole_Laboratory Technician      4410 non-null   float64\n",
            " 35  JobRole_Manager                    4410 non-null   float64\n",
            " 36  JobRole_Manufacturing Director     4410 non-null   float64\n",
            " 37  JobRole_Research Director          4410 non-null   float64\n",
            " 38  JobRole_Research Scientist         4410 non-null   float64\n",
            " 39  JobRole_Sales Executive            4410 non-null   float64\n",
            " 40  JobRole_Sales Representative       4410 non-null   float64\n",
            " 41  MaritalStatus_Divorced             4410 non-null   float64\n",
            " 42  MaritalStatus_Married              4410 non-null   float64\n",
            " 43  MaritalStatus_Single               4410 non-null   float64\n",
            "dtypes: float64(44)\n",
            "memory usage: 1.5 MB\n"
          ]
        }
      ],
      "source": [
        "X.info()"
      ]
    },
    {
      "cell_type": "markdown",
      "metadata": {
        "id": "o9e8ANL-z9mN"
      },
      "source": [
        "#Validación de modelo utilizando K fold cross validation"
      ]
    },
    {
      "cell_type": "code",
      "execution_count": 20,
      "metadata": {
        "colab": {
          "base_uri": "https://localhost:8080/",
          "height": 206
        },
        "id": "ACPuLeOS0URP",
        "outputId": "1a611d9d-1a6d-40af-d8f9-6ecebe89d8eb"
      },
      "outputs": [
        {
          "data": {
            "text/html": [
              "<div>\n",
              "<style scoped>\n",
              "    .dataframe tbody tr th:only-of-type {\n",
              "        vertical-align: middle;\n",
              "    }\n",
              "\n",
              "    .dataframe tbody tr th {\n",
              "        vertical-align: top;\n",
              "    }\n",
              "\n",
              "    .dataframe thead th {\n",
              "        text-align: right;\n",
              "    }\n",
              "</style>\n",
              "<table border=\"1\" class=\"dataframe\">\n",
              "  <thead>\n",
              "    <tr style=\"text-align: right;\">\n",
              "      <th></th>\n",
              "      <th>dt</th>\n",
              "      <th>rf</th>\n",
              "      <th>gb</th>\n",
              "      <th>dt_sel</th>\n",
              "      <th>rf_sel</th>\n",
              "      <th>gb_Sel</th>\n",
              "    </tr>\n",
              "  </thead>\n",
              "  <tbody>\n",
              "    <tr>\n",
              "      <th>0</th>\n",
              "      <td>0.992248</td>\n",
              "      <td>1.000000</td>\n",
              "      <td>0.577540</td>\n",
              "      <td>0.992308</td>\n",
              "      <td>0.996139</td>\n",
              "      <td>0.483146</td>\n",
              "    </tr>\n",
              "    <tr>\n",
              "      <th>1</th>\n",
              "      <td>0.693467</td>\n",
              "      <td>0.755981</td>\n",
              "      <td>0.428571</td>\n",
              "      <td>0.676768</td>\n",
              "      <td>0.785047</td>\n",
              "      <td>0.327044</td>\n",
              "    </tr>\n",
              "    <tr>\n",
              "      <th>2</th>\n",
              "      <td>0.996139</td>\n",
              "      <td>1.000000</td>\n",
              "      <td>0.609626</td>\n",
              "      <td>1.000000</td>\n",
              "      <td>1.000000</td>\n",
              "      <td>0.450867</td>\n",
              "    </tr>\n",
              "    <tr>\n",
              "      <th>3</th>\n",
              "      <td>0.693467</td>\n",
              "      <td>0.761905</td>\n",
              "      <td>0.431138</td>\n",
              "      <td>0.693467</td>\n",
              "      <td>0.767773</td>\n",
              "      <td>0.358025</td>\n",
              "    </tr>\n",
              "    <tr>\n",
              "      <th>4</th>\n",
              "      <td>0.806250</td>\n",
              "      <td>0.809969</td>\n",
              "      <td>0.507463</td>\n",
              "      <td>0.809969</td>\n",
              "      <td>0.806250</td>\n",
              "      <td>0.422111</td>\n",
              "    </tr>\n",
              "  </tbody>\n",
              "</table>\n",
              "</div>"
            ],
            "text/plain": [
              "         dt        rf        gb    dt_sel    rf_sel    gb_Sel\n",
              "0  0.992248  1.000000  0.577540  0.992308  0.996139  0.483146\n",
              "1  0.693467  0.755981  0.428571  0.676768  0.785047  0.327044\n",
              "2  0.996139  1.000000  0.609626  1.000000  1.000000  0.450867\n",
              "3  0.693467  0.761905  0.431138  0.693467  0.767773  0.358025\n",
              "4  0.806250  0.809969  0.507463  0.809969  0.806250  0.422111"
            ]
          },
          "execution_count": 20,
          "metadata": {},
          "output_type": "execute_result"
        }
      ],
      "source": [
        "f1_full=fn.medir_modelos(modelos,\"f1\",X,y,5) ## base con todas las variables\n",
        "f1_varsel=fn.medir_modelos(modelos,\"f1\",X2,y,5) ### base con variables seleccionadas\n",
        "\n",
        "\n",
        "F1=pd.concat([f1_full,f1_varsel],axis=1)\n",
        "F1.columns=['dt', 'rf', 'gb',\n",
        "       'dt_sel', 'rf_sel', 'gb_Sel']\n",
        "F1\n",
        "\n"
      ]
    },
    {
      "cell_type": "code",
      "execution_count": 21,
      "metadata": {
        "colab": {
          "base_uri": "https://localhost:8080/",
          "height": 748
        },
        "id": "A8CNDkQs3H9S",
        "outputId": "373aa77e-d100-445d-bbbc-9a090081a548"
      },
      "outputs": [
        {
          "data": {
            "text/plain": [
              "dt        0.836314\n",
              "rf        0.865571\n",
              "gb        0.510868\n",
              "dt_sel    0.834502\n",
              "rf_sel    0.871042\n",
              "gb_Sel    0.408238\n",
              "dtype: float64"
            ]
          },
          "execution_count": 21,
          "metadata": {},
          "output_type": "execute_result"
        },
        {
          "data": {
            "image/png": "[encoded data removed]",
            "text/plain": [
              "<Figure size 640x480 with 1 Axes>"
            ]
          },
          "metadata": {},
          "output_type": "display_data"
        }
      ],
      "source": [
        "F1_2=F1[ ['dt', 'rf', 'gb', 'dt_sel', 'rf_sel', 'gb_Sel']]\n",
        "F1_2.plot(kind='box') ### gráfico para modelos sel y todas las variables\n",
        "\n",
        "F1.mean() ### medias de mape"
      ]
    },
    {
      "cell_type": "markdown",
      "metadata": {
        "id": "J2TOj2_WFo-3"
      },
      "source": [
        "#Evaluación_accuracy"
      ]
    },
    {
      "cell_type": "code",
      "execution_count": 23,
      "metadata": {
        "colab": {
          "base_uri": "https://localhost:8080/",
          "height": 206
        },
        "id": "3aj8jVhkFtic",
        "outputId": "d2cbdb70-924c-48b2-d0ce-17e295a4fe2c"
      },
      "outputs": [
        {
          "data": {
            "text/html": [
              "<div>\n",
              "<style scoped>\n",
              "    .dataframe tbody tr th:only-of-type {\n",
              "        vertical-align: middle;\n",
              "    }\n",
              "\n",
              "    .dataframe tbody tr th {\n",
              "        vertical-align: top;\n",
              "    }\n",
              "\n",
              "    .dataframe thead th {\n",
              "        text-align: right;\n",
              "    }\n",
              "</style>\n",
              "<table border=\"1\" class=\"dataframe\">\n",
              "  <thead>\n",
              "    <tr style=\"text-align: right;\">\n",
              "      <th></th>\n",
              "      <th>dt</th>\n",
              "      <th>rf</th>\n",
              "      <th>gb</th>\n",
              "      <th>dt_sel</th>\n",
              "      <th>rf_sel</th>\n",
              "      <th>gb_Sel</th>\n",
              "    </tr>\n",
              "  </thead>\n",
              "  <tbody>\n",
              "    <tr>\n",
              "      <th>0</th>\n",
              "      <td>0.997732</td>\n",
              "      <td>1.000000</td>\n",
              "      <td>0.910431</td>\n",
              "      <td>0.997732</td>\n",
              "      <td>0.998866</td>\n",
              "      <td>0.895692</td>\n",
              "    </tr>\n",
              "    <tr>\n",
              "      <th>1</th>\n",
              "      <td>0.930839</td>\n",
              "      <td>0.946712</td>\n",
              "      <td>0.891156</td>\n",
              "      <td>0.927438</td>\n",
              "      <td>0.950113</td>\n",
              "      <td>0.878685</td>\n",
              "    </tr>\n",
              "    <tr>\n",
              "      <th>2</th>\n",
              "      <td>1.000000</td>\n",
              "      <td>1.000000</td>\n",
              "      <td>0.917234</td>\n",
              "      <td>1.000000</td>\n",
              "      <td>1.000000</td>\n",
              "      <td>0.892290</td>\n",
              "    </tr>\n",
              "    <tr>\n",
              "      <th>3</th>\n",
              "      <td>0.930839</td>\n",
              "      <td>0.945578</td>\n",
              "      <td>0.892290</td>\n",
              "      <td>0.930839</td>\n",
              "      <td>0.944444</td>\n",
              "      <td>0.882086</td>\n",
              "    </tr>\n",
              "    <tr>\n",
              "      <th>4</th>\n",
              "      <td>0.929705</td>\n",
              "      <td>0.930839</td>\n",
              "      <td>0.887755</td>\n",
              "      <td>0.930839</td>\n",
              "      <td>0.929705</td>\n",
              "      <td>0.869615</td>\n",
              "    </tr>\n",
              "  </tbody>\n",
              "</table>\n",
              "</div>"
            ],
            "text/plain": [
              "         dt        rf        gb    dt_sel    rf_sel    gb_Sel\n",
              "0  0.997732  1.000000  0.910431  0.997732  0.998866  0.895692\n",
              "1  0.930839  0.946712  0.891156  0.927438  0.950113  0.878685\n",
              "2  1.000000  1.000000  0.917234  1.000000  1.000000  0.892290\n",
              "3  0.930839  0.945578  0.892290  0.930839  0.944444  0.882086\n",
              "4  0.929705  0.930839  0.887755  0.930839  0.929705  0.869615"
            ]
          },
          "execution_count": 23,
          "metadata": {},
          "output_type": "execute_result"
        }
      ],
      "source": [
        "accuracy_full=fn.medir_modelos(modelos,\"accuracy\",X,y,5) ## base con todas las variables\n",
        "accuracy_varsel=fn.medir_modelos(modelos,\"accuracy\",X2,y,5) ### base con variables seleccionadas\n",
        "\n",
        "\n",
        "accuracy=pd.concat([accuracy_full,accuracy_varsel],axis=1)\n",
        "accuracy.columns=['dt', 'rf', 'gb',\n",
        "       'dt_sel', 'rf_sel', 'gb_Sel']\n",
        "accuracy"
      ]
    },
    {
      "cell_type": "code",
      "execution_count": 24,
      "metadata": {
        "colab": {
          "base_uri": "https://localhost:8080/",
          "height": 748
        },
        "id": "Qx5Y0il7Hn_a",
        "outputId": "76d4bcd6-248a-416a-a29f-a5bb9f057eed"
      },
      "outputs": [
        {
          "data": {
            "text/plain": [
              "dt        0.957823\n",
              "rf        0.964626\n",
              "gb        0.899773\n",
              "dt_sel    0.957370\n",
              "rf_sel    0.964626\n",
              "gb_Sel    0.883673\n",
              "dtype: float64"
            ]
          },
          "execution_count": 24,
          "metadata": {},
          "output_type": "execute_result"
        },
        {
          "data": {
            "image/png": "[encoded data removed]",
            "text/plain": [
              "<Figure size 640x480 with 1 Axes>"
            ]
          },
          "metadata": {},
          "output_type": "display_data"
        }
      ],
      "source": [
        "accuracy_2=accuracy[ ['dt', 'rf', 'gb', 'dt_sel', 'rf_sel', 'gb_Sel']]\n",
        "accuracy_2.plot(kind='box') ### gráfico para modelos sel y todas las variables\n",
        "accuracy.mean() ### medias de mape"
      ]
    },
    {
      "cell_type": "markdown",
      "metadata": {},
      "source": [
        "Comparación de metricas (F1 vs Accuracy) de acuerdo al modelo"
      ]
    },
    {
      "cell_type": "code",
      "execution_count": 25,
      "metadata": {},
      "outputs": [
        {
          "data": {
            "text/html": [
              "<div>\n",
              "<style scoped>\n",
              "    .dataframe tbody tr th:only-of-type {\n",
              "        vertical-align: middle;\n",
              "    }\n",
              "\n",
              "    .dataframe tbody tr th {\n",
              "        vertical-align: top;\n",
              "    }\n",
              "\n",
              "    .dataframe thead th {\n",
              "        text-align: right;\n",
              "    }\n",
              "</style>\n",
              "<table border=\"1\" class=\"dataframe\">\n",
              "  <thead>\n",
              "    <tr style=\"text-align: right;\">\n",
              "      <th></th>\n",
              "      <th>Model</th>\n",
              "      <th>F1_Average</th>\n",
              "      <th>Accuracy_Average</th>\n",
              "    </tr>\n",
              "  </thead>\n",
              "  <tbody>\n",
              "    <tr>\n",
              "      <th>0</th>\n",
              "      <td>decision_tree</td>\n",
              "      <td>0.836314</td>\n",
              "      <td>0.957823</td>\n",
              "    </tr>\n",
              "    <tr>\n",
              "      <th>1</th>\n",
              "      <td>random_forest</td>\n",
              "      <td>0.865571</td>\n",
              "      <td>0.964626</td>\n",
              "    </tr>\n",
              "    <tr>\n",
              "      <th>2</th>\n",
              "      <td>gradient_boosting</td>\n",
              "      <td>0.510868</td>\n",
              "      <td>0.899773</td>\n",
              "    </tr>\n",
              "  </tbody>\n",
              "</table>\n",
              "</div>"
            ],
            "text/plain": [
              "               Model  F1_Average  Accuracy_Average\n",
              "0      decision_tree    0.836314          0.957823\n",
              "1      random_forest    0.865571          0.964626\n",
              "2  gradient_boosting    0.510868          0.899773"
            ]
          },
          "execution_count": 25,
          "metadata": {},
          "output_type": "execute_result"
        }
      ],
      "source": [
        "# Tabla con promedio de métricas con todas las variables\n",
        "average_metrics_full = pd.DataFrame({\n",
        "    'Model': ['decision_tree', 'random_forest', 'gradient_boosting'],\n",
        "    'F1_Average': [F1['dt'].mean(), F1['rf'].mean(), F1['gb'].mean()],\n",
        "    'Accuracy_Average': [accuracy['dt'].mean(), accuracy['rf'].mean(), accuracy['gb'].mean()]\n",
        "})\n",
        "average_metrics_full"
      ]
    },
    {
      "cell_type": "code",
      "execution_count": 26,
      "metadata": {},
      "outputs": [
        {
          "data": {
            "text/html": [
              "<div>\n",
              "<style scoped>\n",
              "    .dataframe tbody tr th:only-of-type {\n",
              "        vertical-align: middle;\n",
              "    }\n",
              "\n",
              "    .dataframe tbody tr th {\n",
              "        vertical-align: top;\n",
              "    }\n",
              "\n",
              "    .dataframe thead th {\n",
              "        text-align: right;\n",
              "    }\n",
              "</style>\n",
              "<table border=\"1\" class=\"dataframe\">\n",
              "  <thead>\n",
              "    <tr style=\"text-align: right;\">\n",
              "      <th></th>\n",
              "      <th>Model</th>\n",
              "      <th>F1_Average</th>\n",
              "      <th>Accuracy_Average</th>\n",
              "    </tr>\n",
              "  </thead>\n",
              "  <tbody>\n",
              "    <tr>\n",
              "      <th>0</th>\n",
              "      <td>decision_tree_sel</td>\n",
              "      <td>0.834502</td>\n",
              "      <td>0.957370</td>\n",
              "    </tr>\n",
              "    <tr>\n",
              "      <th>1</th>\n",
              "      <td>random_forest_sel</td>\n",
              "      <td>0.871042</td>\n",
              "      <td>0.964626</td>\n",
              "    </tr>\n",
              "    <tr>\n",
              "      <th>2</th>\n",
              "      <td>gradient_boosting_sel</td>\n",
              "      <td>0.408238</td>\n",
              "      <td>0.883673</td>\n",
              "    </tr>\n",
              "  </tbody>\n",
              "</table>\n",
              "</div>"
            ],
            "text/plain": [
              "                   Model  F1_Average  Accuracy_Average\n",
              "0      decision_tree_sel    0.834502          0.957370\n",
              "1      random_forest_sel    0.871042          0.964626\n",
              "2  gradient_boosting_sel    0.408238          0.883673"
            ]
          },
          "execution_count": 26,
          "metadata": {},
          "output_type": "execute_result"
        }
      ],
      "source": [
        "# Tabla con promedio de métricas segun Variables Seleccionadas\n",
        "average_metrics_varsel = pd.DataFrame({\n",
        "    'Model': ['decision_tree_sel', 'random_forest_sel', 'gradient_boosting_sel'],\n",
        "    'F1_Average': [F1['dt_sel'].mean(), F1['rf_sel'].mean(), F1['gb_Sel'].mean()],\n",
        "    'Accuracy_Average': [accuracy['dt_sel'].mean(), accuracy['rf_sel'].mean(), accuracy['gb_Sel'].mean()]\n",
        "})\n",
        "average_metrics_varsel"
      ]
    },
    {
      "cell_type": "markdown",
      "metadata": {},
      "source": [
        "## Respuesta de mejores modelos según métricas\n",
        "\n",
        "En la grafica boxplot y las tablas de las metricas, se visualiza los algoritmos con mejor rendimiento como el algoritmo arboles de decision y bosques aleatorios, se puede notar una mejora cuando se aplican a las variables seleccionadas mediante la funcion de selección de variables.\n",
        "\n",
        "Por lo anterior se procede a realizar el tuneo de hiperparametros para estos dos modelo los cuales tuvieron mejor desempeño"
      ]
    },
    {
      "cell_type": "markdown",
      "metadata": {},
      "source": [
        "# Tuneo de hiperparametros"
      ]
    },
    {
      "cell_type": "markdown",
      "metadata": {},
      "source": [
        "## Arboles de decisión"
      ]
    },
    {
      "cell_type": "code",
      "execution_count": 27,
      "metadata": {},
      "outputs": [
        {
          "name": "stdout",
          "output_type": "stream",
          "text": [
            "{'min_samples_split': 5, 'min_samples_leaf': 1, 'max_depth': 9}\n"
          ]
        },
        {
          "data": {
            "text/html": [
              "<div>\n",
              "<style scoped>\n",
              "    .dataframe tbody tr th:only-of-type {\n",
              "        vertical-align: middle;\n",
              "    }\n",
              "\n",
              "    .dataframe tbody tr th {\n",
              "        vertical-align: top;\n",
              "    }\n",
              "\n",
              "    .dataframe thead th {\n",
              "        text-align: right;\n",
              "    }\n",
              "</style>\n",
              "<table border=\"1\" class=\"dataframe\">\n",
              "  <thead>\n",
              "    <tr style=\"text-align: right;\">\n",
              "      <th></th>\n",
              "      <th>params</th>\n",
              "      <th>mean_test_score</th>\n",
              "    </tr>\n",
              "  </thead>\n",
              "  <tbody>\n",
              "    <tr>\n",
              "      <th>0</th>\n",
              "      <td>{'min_samples_split': 20, 'min_samples_leaf': 10, 'max_depth': 7}</td>\n",
              "      <td>0.874150</td>\n",
              "    </tr>\n",
              "    <tr>\n",
              "      <th>1</th>\n",
              "      <td>{'min_samples_split': 10, 'min_samples_leaf': 1, 'max_depth': 3}</td>\n",
              "      <td>0.855102</td>\n",
              "    </tr>\n",
              "    <tr>\n",
              "      <th>2</th>\n",
              "      <td>{'min_samples_split': 5, 'min_samples_leaf': 1, 'max_depth': 9}</td>\n",
              "      <td>0.902041</td>\n",
              "    </tr>\n",
              "    <tr>\n",
              "      <th>3</th>\n",
              "      <td>{'min_samples_split': 20, 'min_samples_leaf': 5, 'max_depth': 9}</td>\n",
              "      <td>0.881859</td>\n",
              "    </tr>\n",
              "    <tr>\n",
              "      <th>4</th>\n",
              "      <td>{'min_samples_split': 2, 'min_samples_leaf': 10, 'max_depth': None}</td>\n",
              "      <td>0.874150</td>\n",
              "    </tr>\n",
              "    <tr>\n",
              "      <th>5</th>\n",
              "      <td>{'min_samples_split': 10, 'min_samples_leaf': 5, 'max_depth': 5}</td>\n",
              "      <td>0.864626</td>\n",
              "    </tr>\n",
              "    <tr>\n",
              "      <th>6</th>\n",
              "      <td>{'min_samples_split': 10, 'min_samples_leaf': 20, 'max_depth': 9}</td>\n",
              "      <td>0.867800</td>\n",
              "    </tr>\n",
              "    <tr>\n",
              "      <th>7</th>\n",
              "      <td>{'min_samples_split': 10, 'min_samples_leaf': 1, 'max_depth': 9}</td>\n",
              "      <td>0.897052</td>\n",
              "    </tr>\n",
              "    <tr>\n",
              "      <th>8</th>\n",
              "      <td>{'min_samples_split': 5, 'min_samples_leaf': 5, 'max_depth': 7}</td>\n",
              "      <td>0.878685</td>\n",
              "    </tr>\n",
              "    <tr>\n",
              "      <th>9</th>\n",
              "      <td>{'min_samples_split': 20, 'min_samples_leaf': 20, 'max_depth': None}</td>\n",
              "      <td>0.867800</td>\n",
              "    </tr>\n",
              "  </tbody>\n",
              "</table>\n",
              "</div>"
            ],
            "text/plain": [
              "                                                                 params  \\\n",
              "0     {'min_samples_split': 20, 'min_samples_leaf': 10, 'max_depth': 7}   \n",
              "1      {'min_samples_split': 10, 'min_samples_leaf': 1, 'max_depth': 3}   \n",
              "2       {'min_samples_split': 5, 'min_samples_leaf': 1, 'max_depth': 9}   \n",
              "3      {'min_samples_split': 20, 'min_samples_leaf': 5, 'max_depth': 9}   \n",
              "4   {'min_samples_split': 2, 'min_samples_leaf': 10, 'max_depth': None}   \n",
              "5      {'min_samples_split': 10, 'min_samples_leaf': 5, 'max_depth': 5}   \n",
              "6     {'min_samples_split': 10, 'min_samples_leaf': 20, 'max_depth': 9}   \n",
              "7      {'min_samples_split': 10, 'min_samples_leaf': 1, 'max_depth': 9}   \n",
              "8       {'min_samples_split': 5, 'min_samples_leaf': 5, 'max_depth': 7}   \n",
              "9  {'min_samples_split': 20, 'min_samples_leaf': 20, 'max_depth': None}   \n",
              "\n",
              "   mean_test_score  \n",
              "0         0.874150  \n",
              "1         0.855102  \n",
              "2         0.902041  \n",
              "3         0.881859  \n",
              "4         0.874150  \n",
              "5         0.864626  \n",
              "6         0.867800  \n",
              "7         0.897052  \n",
              "8         0.878685  \n",
              "9         0.867800  "
            ]
          },
          "metadata": {},
          "output_type": "display_data"
        }
      ],
      "source": [
        "param_grid = [{'max_depth': [3, 5, 7, 9, 11, None], \n",
        "               'min_samples_split': [2, 5, 10, 20], \n",
        "               'min_samples_leaf': [1, 5, 10, 20]}]\n",
        "\n",
        "tun_rtree = RandomizedSearchCV(m_rtree, param_distributions=param_grid, n_iter=10, scoring=\"accuracy\")\n",
        "tun_rtree.fit(X2, y)\n",
        "\n",
        "pd.set_option('display.max_colwidth', 100)\n",
        "resultados = tun_rtree.cv_results_\n",
        "print(tun_rtree.best_params_)\n",
        "pd_resultados = pd.DataFrame(resultados)\n",
        "display(pd_resultados[[\"params\", \"mean_test_score\"]])\n",
        "rtree_final = tun_rtree.best_estimator_"
      ]
    },
    {
      "cell_type": "markdown",
      "metadata": {},
      "source": [
        "## Bosques Aleatorios"
      ]
    },
    {
      "cell_type": "code",
      "execution_count": 28,
      "metadata": {},
      "outputs": [
        {
          "data": {
            "text/html": [
              "<div>\n",
              "<style scoped>\n",
              "    .dataframe tbody tr th:only-of-type {\n",
              "        vertical-align: middle;\n",
              "    }\n",
              "\n",
              "    .dataframe tbody tr th {\n",
              "        vertical-align: top;\n",
              "    }\n",
              "\n",
              "    .dataframe thead th {\n",
              "        text-align: right;\n",
              "    }\n",
              "</style>\n",
              "<table border=\"1\" class=\"dataframe\">\n",
              "  <thead>\n",
              "    <tr style=\"text-align: right;\">\n",
              "      <th></th>\n",
              "      <th>params</th>\n",
              "      <th>mean_test_score</th>\n",
              "    </tr>\n",
              "  </thead>\n",
              "  <tbody>\n",
              "    <tr>\n",
              "      <th>0</th>\n",
              "      <td>{'n_estimators': 100, 'min_samples_split': 100, 'max_features': 5}</td>\n",
              "      <td>0.866893</td>\n",
              "    </tr>\n",
              "    <tr>\n",
              "      <th>1</th>\n",
              "      <td>{'n_estimators': 500, 'min_samples_split': 20, 'max_features': 5}</td>\n",
              "      <td>0.904082</td>\n",
              "    </tr>\n",
              "    <tr>\n",
              "      <th>2</th>\n",
              "      <td>{'n_estimators': 3, 'min_samples_split': 20, 'max_features': 20}</td>\n",
              "      <td>0.900907</td>\n",
              "    </tr>\n",
              "    <tr>\n",
              "      <th>3</th>\n",
              "      <td>{'n_estimators': 500, 'min_samples_split': 20, 'max_features': 20}</td>\n",
              "      <td>0.905896</td>\n",
              "    </tr>\n",
              "    <tr>\n",
              "      <th>4</th>\n",
              "      <td>{'n_estimators': 3, 'min_samples_split': 5, 'max_features': 5}</td>\n",
              "      <td>0.950340</td>\n",
              "    </tr>\n",
              "    <tr>\n",
              "      <th>5</th>\n",
              "      <td>{'n_estimators': 3, 'min_samples_split': 100, 'max_features': 5}</td>\n",
              "      <td>0.865533</td>\n",
              "    </tr>\n",
              "    <tr>\n",
              "      <th>6</th>\n",
              "      <td>{'n_estimators': 3, 'min_samples_split': 20, 'max_features': 5}</td>\n",
              "      <td>0.905442</td>\n",
              "    </tr>\n",
              "    <tr>\n",
              "      <th>7</th>\n",
              "      <td>{'n_estimators': 500, 'min_samples_split': 5, 'max_features': 20}</td>\n",
              "      <td>0.962812</td>\n",
              "    </tr>\n",
              "    <tr>\n",
              "      <th>8</th>\n",
              "      <td>{'n_estimators': 500, 'min_samples_split': 100, 'max_features': 20}</td>\n",
              "      <td>0.867120</td>\n",
              "    </tr>\n",
              "    <tr>\n",
              "      <th>9</th>\n",
              "      <td>{'n_estimators': 3, 'min_samples_split': 100, 'max_features': 20}</td>\n",
              "      <td>0.865760</td>\n",
              "    </tr>\n",
              "  </tbody>\n",
              "</table>\n",
              "</div>"
            ],
            "text/plain": [
              "                                                                params  \\\n",
              "0   {'n_estimators': 100, 'min_samples_split': 100, 'max_features': 5}   \n",
              "1    {'n_estimators': 500, 'min_samples_split': 20, 'max_features': 5}   \n",
              "2     {'n_estimators': 3, 'min_samples_split': 20, 'max_features': 20}   \n",
              "3   {'n_estimators': 500, 'min_samples_split': 20, 'max_features': 20}   \n",
              "4       {'n_estimators': 3, 'min_samples_split': 5, 'max_features': 5}   \n",
              "5     {'n_estimators': 3, 'min_samples_split': 100, 'max_features': 5}   \n",
              "6      {'n_estimators': 3, 'min_samples_split': 20, 'max_features': 5}   \n",
              "7    {'n_estimators': 500, 'min_samples_split': 5, 'max_features': 20}   \n",
              "8  {'n_estimators': 500, 'min_samples_split': 100, 'max_features': 20}   \n",
              "9    {'n_estimators': 3, 'min_samples_split': 100, 'max_features': 20}   \n",
              "\n",
              "   mean_test_score  \n",
              "0         0.866893  \n",
              "1         0.904082  \n",
              "2         0.900907  \n",
              "3         0.905896  \n",
              "4         0.950340  \n",
              "5         0.865533  \n",
              "6         0.905442  \n",
              "7         0.962812  \n",
              "8         0.867120  \n",
              "9         0.865760  "
            ]
          },
          "metadata": {},
          "output_type": "display_data"
        }
      ],
      "source": [
        "param_grid = [{'n_estimators': [3, 500, 100], 'max_features': [5,20],\n",
        "               'min_samples_split': [100, 20, 5]}]\n",
        "\n",
        "tun_rf=RandomizedSearchCV(m_rf,param_distributions=param_grid,n_iter=10,scoring=\"accuracy\")\n",
        "tun_rf.fit(X2,y)\n",
        "\n",
        "\n",
        "pd.set_option('display.max_colwidth', 100)\n",
        "resultados=tun_rf.cv_results_\n",
        "tun_rf.best_params_\n",
        "pd_resultados=pd.DataFrame(resultados)\n",
        "pd_resultados[[\"params\",\"mean_test_score\"]].sort_values(by=\"mean_test_score\", ascending=False)\n",
        "display(pd_resultados[[\"params\", \"mean_test_score\"]])\n",
        "rf_final=tun_rf.best_estimator_"
      ]
    },
    {
      "cell_type": "markdown",
      "metadata": {},
      "source": [
        "# Exportar y guardar objetos de python"
      ]
    },
    {
      "cell_type": "code",
      "execution_count": 29,
      "metadata": {},
      "outputs": [
        {
          "name": "stdout",
          "output_type": "stream",
          "text": [
            "True\n",
            "True\n"
          ]
        }
      ],
      "source": [
        "joblib.dump(rf_final, \"salidas\\\\rf_final.pkl\")\n",
        "joblib.dump(rtree_final, \"salidas\\\\rtree_final.pkl\")\n",
        "joblib.dump(list_dummies, \"salidas\\\\list_dummies.pkl\")  ### Las variables que se convierten a dummies\n",
        "joblib.dump(var_names, \"salidas\\\\var_names.pkl\")  ### las variables con que se entrena modelo\n",
        "joblib.dump(scaler, \"salidas\\\\scaler.pkl\")\n",
        "\n",
        "\n",
        "### funcion para cargar objeto guardado ###\n",
        "rf_final = joblib.load(\"salidas\\\\rf_final.pkl\")\n",
        "rtree_final = joblib.load(\"salidas\\\\rtree_final.pkl\")\n",
        "from sklearn.model_selection import cross_validate\n",
        "from sklearn.metrics import mean_squared_error\n",
        "\n",
        "list_dummies=joblib.load(\"salidas\\\\list_dummies.pkl\")\n",
        "var_names=joblib.load(\"salidas\\\\var_names.pkl\")\n",
        "scaler=joblib.load(\"salidas\\\\scaler.pkl\") \n",
        "\n",
        "print(hasattr(rf_final, 'fit'))  # Si es True, rf_final tiene un método fit\n",
        "print(hasattr(rtree_final, 'fit'))  # Si es True, rtree_final tiene un método fit"
      ]
    },
    {
      "cell_type": "markdown",
      "metadata": {},
      "source": [
        "# Evaluación\n",
        "\n",
        "Metrica para el entrenamiento y evaluación para mirar sobre ajuste"
      ]
    },
    {
      "cell_type": "code",
      "execution_count": 30,
      "metadata": {},
      "outputs": [],
      "source": [
        "eval=cross_validate(rf_final,X2,y,cv=5,scoring=\"accuracy\",return_train_score=True)\n",
        "eval2=cross_validate(rtree_final,X2,y,cv=5,scoring=\"accuracy\",return_train_score=True)"
      ]
    },
    {
      "cell_type": "markdown",
      "metadata": {},
      "source": [
        "## **Resultados para  RF y DTREE**"
      ]
    },
    {
      "cell_type": "code",
      "execution_count": 31,
      "metadata": {},
      "outputs": [],
      "source": [
        "#### convertir resultado de evaluacion entrenamiento y evaluacion en data frame para RF\n",
        "train_rf=pd.DataFrame(eval['train_score'])\n",
        "test_rf=pd.DataFrame(eval['test_score'])\n",
        "train_test_rf=pd.concat([train_rf, test_rf],axis=1)\n",
        "train_test_rf.columns=['train_score','test_score']\n",
        "\n",
        "#### convertir resultado de evaluacion entrenamiento y evaluacion en data frame para RTree\n",
        "train_rtree=pd.DataFrame(eval2['train_score'])\n",
        "test_rtree=pd.DataFrame(eval2['test_score'])\n",
        "train_test_rtree=pd.concat([train_rtree, test_rtree],axis=1)\n",
        "train_test_rtree.columns=['train_score','test_score']"
      ]
    },
    {
      "cell_type": "code",
      "execution_count": 32,
      "metadata": {},
      "outputs": [
        {
          "name": "stdout",
          "output_type": "stream",
          "text": [
            "train_test_rf:\n",
            "   train_score  test_score\n",
            "0     0.982426    0.998866\n",
            "1     0.982710    0.939909\n",
            "2     0.982426    1.000000\n",
            "3     0.982710    0.942177\n",
            "4     1.000000    0.929705\n",
            "\n",
            "train_test_rtree:\n",
            "   train_score  test_score\n",
            "0     0.913265    0.924036\n",
            "1     0.926304    0.894558\n",
            "2     0.909014    0.921769\n",
            "3     0.923469    0.893424\n",
            "4     0.917800    0.879819\n"
          ]
        }
      ],
      "source": [
        "print(\"train_test_rf:\")\n",
        "print(train_test_rf)\n",
        "print(\"\\ntrain_test_rtree:\")\n",
        "print(train_test_rtree)"
      ]
    },
    {
      "cell_type": "code",
      "execution_count": 33,
      "metadata": {},
      "outputs": [
        {
          "name": "stdout",
          "output_type": "stream",
          "text": [
            "train score rf :  0.9860544217687075\n",
            "\n",
            "test score rf:  0.9621315192743765\n",
            "\n",
            "train score rtree :  0.9179705215419502\n",
            "\n",
            "test score rtree:  0.902721088435374\n"
          ]
        }
      ],
      "source": [
        "print(\"train score rf : \", train_test_rf[\"train_score\"].mean())\n",
        "print(\"\\ntest score rf: \", train_test_rf[\"test_score\"].mean())\n",
        "print(\"\\ntrain score rtree : \", train_test_rtree[\"train_score\"].mean())\n",
        "print(\"\\ntest score rtree: \", train_test_rtree[\"test_score\"].mean())"
      ]
    },
    {
      "cell_type": "markdown",
      "metadata": {},
      "source": [
        "## **Importancia de variables**"
      ]
    },
    {
      "cell_type": "markdown",
      "metadata": {},
      "source": [
        "### Random Forest"
      ]
    },
    {
      "cell_type": "code",
      "execution_count": 34,
      "metadata": {},
      "outputs": [
        {
          "data": {
            "text/html": [
              "<div>\n",
              "<style scoped>\n",
              "    .dataframe tbody tr th:only-of-type {\n",
              "        vertical-align: middle;\n",
              "    }\n",
              "\n",
              "    .dataframe tbody tr th {\n",
              "        vertical-align: top;\n",
              "    }\n",
              "\n",
              "    .dataframe thead th {\n",
              "        text-align: right;\n",
              "    }\n",
              "</style>\n",
              "<table border=\"1\" class=\"dataframe\">\n",
              "  <thead>\n",
              "    <tr style=\"text-align: right;\">\n",
              "      <th></th>\n",
              "      <th>variable</th>\n",
              "      <th>peso</th>\n",
              "    </tr>\n",
              "  </thead>\n",
              "  <tbody>\n",
              "    <tr>\n",
              "      <th>2</th>\n",
              "      <td>MonthlyIncome</td>\n",
              "      <td>0.378778</td>\n",
              "    </tr>\n",
              "    <tr>\n",
              "      <th>0</th>\n",
              "      <td>Age</td>\n",
              "      <td>0.186086</td>\n",
              "    </tr>\n",
              "    <tr>\n",
              "      <th>4</th>\n",
              "      <td>TotalWorkingYears</td>\n",
              "      <td>0.158904</td>\n",
              "    </tr>\n",
              "    <tr>\n",
              "      <th>5</th>\n",
              "      <td>YearsAtCompany</td>\n",
              "      <td>0.100695</td>\n",
              "    </tr>\n",
              "    <tr>\n",
              "      <th>3</th>\n",
              "      <td>NumCompaniesWorked</td>\n",
              "      <td>0.092874</td>\n",
              "    </tr>\n",
              "    <tr>\n",
              "      <th>1</th>\n",
              "      <td>EnvironmentSatisfaction</td>\n",
              "      <td>0.082663</td>\n",
              "    </tr>\n",
              "  </tbody>\n",
              "</table>\n",
              "</div>"
            ],
            "text/plain": [
              "                  variable      peso\n",
              "2            MonthlyIncome  0.378778\n",
              "0                      Age  0.186086\n",
              "4        TotalWorkingYears  0.158904\n",
              "5           YearsAtCompany  0.100695\n",
              "3       NumCompaniesWorked  0.092874\n",
              "1  EnvironmentSatisfaction  0.082663"
            ]
          },
          "execution_count": 34,
          "metadata": {},
          "output_type": "execute_result"
        }
      ],
      "source": [
        "pd.set_option('display.max_rows', 100)\n",
        "importancia1=pd.DataFrame(rf_final.feature_names_in_)\n",
        "importancia2=pd.DataFrame(rf_final.feature_importances_)\n",
        "importancia=pd.concat([importancia1,importancia2],axis=1)\n",
        "importancia.columns=[\"variable\",\"peso\"]\n",
        "importancia.sort_values('peso')\n",
        "importancia.sort_values(by=[\"peso\"], ascending=False)"
      ]
    },
    {
      "cell_type": "markdown",
      "metadata": {},
      "source": [
        "### Decision Tree"
      ]
    },
    {
      "cell_type": "code",
      "execution_count": 35,
      "metadata": {},
      "outputs": [
        {
          "data": {
            "text/html": [
              "<div>\n",
              "<style scoped>\n",
              "    .dataframe tbody tr th:only-of-type {\n",
              "        vertical-align: middle;\n",
              "    }\n",
              "\n",
              "    .dataframe tbody tr th {\n",
              "        vertical-align: top;\n",
              "    }\n",
              "\n",
              "    .dataframe thead th {\n",
              "        text-align: right;\n",
              "    }\n",
              "</style>\n",
              "<table border=\"1\" class=\"dataframe\">\n",
              "  <thead>\n",
              "    <tr style=\"text-align: right;\">\n",
              "      <th></th>\n",
              "      <th>variable</th>\n",
              "      <th>peso</th>\n",
              "    </tr>\n",
              "  </thead>\n",
              "  <tbody>\n",
              "    <tr>\n",
              "      <th>2</th>\n",
              "      <td>MonthlyIncome</td>\n",
              "      <td>0.391950</td>\n",
              "    </tr>\n",
              "    <tr>\n",
              "      <th>0</th>\n",
              "      <td>Age</td>\n",
              "      <td>0.185934</td>\n",
              "    </tr>\n",
              "    <tr>\n",
              "      <th>4</th>\n",
              "      <td>TotalWorkingYears</td>\n",
              "      <td>0.158084</td>\n",
              "    </tr>\n",
              "    <tr>\n",
              "      <th>5</th>\n",
              "      <td>YearsAtCompany</td>\n",
              "      <td>0.112195</td>\n",
              "    </tr>\n",
              "    <tr>\n",
              "      <th>1</th>\n",
              "      <td>EnvironmentSatisfaction</td>\n",
              "      <td>0.103588</td>\n",
              "    </tr>\n",
              "    <tr>\n",
              "      <th>3</th>\n",
              "      <td>NumCompaniesWorked</td>\n",
              "      <td>0.048249</td>\n",
              "    </tr>\n",
              "  </tbody>\n",
              "</table>\n",
              "</div>"
            ],
            "text/plain": [
              "                  variable      peso\n",
              "2            MonthlyIncome  0.391950\n",
              "0                      Age  0.185934\n",
              "4        TotalWorkingYears  0.158084\n",
              "5           YearsAtCompany  0.112195\n",
              "1  EnvironmentSatisfaction  0.103588\n",
              "3       NumCompaniesWorked  0.048249"
            ]
          },
          "execution_count": 35,
          "metadata": {},
          "output_type": "execute_result"
        }
      ],
      "source": [
        "importancia1=pd.DataFrame( rtree_final.feature_names_in_)\n",
        "importancia2=pd.DataFrame(rtree_final.feature_importances_)\n",
        "importancia=pd.concat([importancia1,importancia2],axis=1)\n",
        "importancia.columns=[\"variable\",\"peso\"]\n",
        "importancia.sort_values('peso')\n",
        "importancia.sort_values(by=[\"peso\"], ascending=False)"
      ]
    },
    {
      "cell_type": "markdown",
      "metadata": {},
      "source": [
        "Despues del tuneo de hiperparametros y la evaluacion el modelo que mejor desempeño mantiene  es el RandomForest el cual usaremos finalmente en el despliegue del proyecto."
      ]
    },
    {
      "cell_type": "markdown",
      "metadata": {},
      "source": [
        "# Matriz de confusión (RandomForest)"
      ]
    },
    {
      "cell_type": "code",
      "execution_count": 36,
      "metadata": {},
      "outputs": [
        {
          "name": "stdout",
          "output_type": "stream",
          "text": [
            "[[736  21]\n",
            " [ 29  96]]\n"
          ]
        },
        {
          "data": {
            "image/png": "[encoded data removed]",
            "text/plain": [
              "<Figure size 640x480 with 2 Axes>"
            ]
          },
          "metadata": {},
          "output_type": "display_data"
        }
      ],
      "source": [
        "from sklearn.metrics import confusion_matrix\n",
        "from sklearn.model_selection import train_test_split\n",
        "\n",
        "X_train, X_test, y_train, y_test = train_test_split(X2, y, test_size=0.2, random_state=42)\n",
        "rf_final.fit(X_train, y_train)\n",
        "y_pred = rf_final.predict(X_test)\n",
        "\n",
        "cm = confusion_matrix(y_test, y_pred)\n",
        "print(cm)\n",
        "\n",
        "sns.heatmap(cm, annot=True, fmt='d')\n",
        "plt.ylabel('Etiqueta verdadera')\n",
        "plt.xlabel('Etiqueta predicha')\n",
        "\n",
        "plt.show()"
      ]
    },
    {
      "cell_type": "markdown",
      "metadata": {},
      "source": [
        "Finalmente realizamos la matriz de confucion con el algoritmo de RandomForest para confirmar su desempeño y rendimiento frente a los datos."
      ]
    }
  ],
  "metadata": {
    "colab": {
      "include_colab_link": true,
      "provenance": []
    },
    "kernelspec": {
      "display_name": "Python 3",
      "name": "python3"
    },
    "language_info": {
      "codemirror_mode": {
        "name": "ipython",
        "version": 3
      },
      "file_extension": ".py",
      "mimetype": "text/x-python",
      "name": "python",
      "nbconvert_exporter": "python",
      "pygments_lexer": "ipython3",
      "version": "3.12.2"
    }
  },
  "nbformat": 4,
  "nbformat_minor": 0
}
