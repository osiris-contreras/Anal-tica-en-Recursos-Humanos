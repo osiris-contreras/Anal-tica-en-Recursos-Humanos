{
  "cells": [
    {
      "cell_type": "markdown",
      "metadata": {
        "colab_type": "text",
        "id": "view-in-github"
      },
      "source": [
        "<a href=\"https://colab.research.google.com/github/osiris-contreras/Anal-tica-en-Recursos-Humanos/blob/main/modelos.ipynb\" target=\"_parent\"><img src=\"https://colab.research.google.com/assets/colab-badge.svg\" alt=\"Open In Colab\"/></a>"
      ]
    },
    {
      "cell_type": "markdown",
      "metadata": {
        "id": "3nk0yN4MiUJS"
      },
      "source": [
        "## Colab"
      ]
    },
    {
      "cell_type": "code",
      "execution_count": 17,
      "metadata": {
        "colab": {
          "base_uri": "https://localhost:8080/"
        },
        "id": "RS6Xl9C7Kv4o",
        "outputId": "d4e02a05-9ac6-40c5-d920-4088548e6c9a"
      },
      "outputs": [
        {
          "name": "stdout",
          "output_type": "stream",
          "text": [
            "Drive already mounted at /content/drive; to attempt to forcibly remount, call drive.mount(\"/content/drive\", force_remount=True).\n"
          ]
        }
      ],
      "source": [
        "from google.colab import drive\n",
        "drive.mount('/content/drive')"
      ]
    },
    {
      "cell_type": "code",
      "execution_count": null,
      "metadata": {
        "id": "I7UJT39ILkDA"
      },
      "outputs": [],
      "source": [
        "import sys\n",
        "import os\n",
        "path= '/content/drive/MyDrive/codigos/Anal-tica-en-Recursos-Humanos'\n",
        "os.chdir(path)\n",
        "sys.path.append(path+'/')"
      ]
    },
    {
      "cell_type": "markdown",
      "metadata": {
        "id": "G0gmoHlUiUJg"
      },
      "source": [
        "## Visual Studio"
      ]
    },
    {
      "cell_type": "code",
      "execution_count": 51,
      "metadata": {
        "id": "_ghzLvKYiUJi"
      },
      "outputs": [],
      "source": [
        "import os\n",
        "import sys\n",
        "\n",
        "ruta =os.getcwd()\n",
        "sys.path.append(ruta)"
      ]
    },
    {
      "cell_type": "markdown",
      "metadata": {
        "id": "EKtop0zQiUJj"
      },
      "source": [
        "# Modelo"
      ]
    },
    {
      "cell_type": "code",
      "execution_count": 52,
      "metadata": {
        "id": "CSihixx9MDLM"
      },
      "outputs": [],
      "source": [
        "import warnings\n",
        "warnings.filterwarnings(\"ignore\")\n",
        "\n",
        "\n",
        "\n",
        "# Importar librerias necesarias\n",
        "import sqlite3 as sql\n",
        "import pandas as pd\n",
        "import a_funciones as fn ### importar modulo de  funciones\n",
        "from a_funciones import * ### importar toddas las funciones del archivo\n",
        "\n",
        "from sklearn.linear_model import LogisticRegression ## para regresión lineal\n",
        "from sklearn import tree ###para ajustar arboles de decisión\n",
        "from sklearn.ensemble import RandomForestClassifier ##Ensamble con bagging\n",
        "from sklearn.ensemble import GradientBoostingClassifier ###Ensamble boosting\n",
        "from sklearn.model_selection import cross_val_predict, cross_val_score, cross_validate\n",
        "from sklearn.metrics import mean_squared_error\n",
        "from sklearn import metrics\n",
        "\n",
        "import numpy as np\n",
        "import seaborn as sns\n",
        "import matplotlib.pyplot as plt ### gráficos\n",
        "from sklearn.model_selection import RandomizedSearchCV\n",
        "import joblib  ### para guardar modelos\n",
        "from sklearn.preprocessing import StandardScaler ## escalar variables\n",
        "#import openpyxl"
      ]
    },
    {
      "cell_type": "code",
      "execution_count": 53,
      "metadata": {
        "id": "3IgMDpxdMhXG"
      },
      "outputs": [],
      "source": [
        "#### conectarse a base de datos preprocesada\n",
        "\n",
        "con=sql.connect('bases de datos RRHH/datos.db')\n",
        "cur=con.cursor()"
      ]
    },
    {
      "cell_type": "code",
      "execution_count": 54,
      "metadata": {
        "colab": {
          "base_uri": "https://localhost:8080/"
        },
        "id": "DOfH7BwLOLKK",
        "outputId": "707b11cb-8770-4d60-fb2b-f0e6fc38858c"
      },
      "outputs": [
        {
          "data": {
            "text/plain": [
              "[('completo',),\n",
              " ('retiros',),\n",
              " ('general',),\n",
              " ('employee_survey',),\n",
              " ('manager_survey',)]"
            ]
          },
          "execution_count": 54,
          "metadata": {},
          "output_type": "execute_result"
        }
      ],
      "source": [
        "### ver todas las bases de datos ###\n",
        "\n",
        "cur.execute(\"select name from sqlite_master where type='table';\")\n",
        "cur.fetchall()\n"
      ]
    },
    {
      "cell_type": "code",
      "execution_count": 55,
      "metadata": {
        "colab": {
          "base_uri": "https://localhost:8080/",
          "height": 617
        },
        "id": "Nz0BfBSYOY6K",
        "outputId": "41c44e79-901f-4d42-b024-9007c96e51a4"
      },
      "outputs": [
        {
          "data": {
            "text/html": [
              "<div>\n",
              "<style scoped>\n",
              "    .dataframe tbody tr th:only-of-type {\n",
              "        vertical-align: middle;\n",
              "    }\n",
              "\n",
              "    .dataframe tbody tr th {\n",
              "        vertical-align: top;\n",
              "    }\n",
              "\n",
              "    .dataframe thead th {\n",
              "        text-align: right;\n",
              "    }\n",
              "</style>\n",
              "<table border=\"1\" class=\"dataframe\">\n",
              "  <thead>\n",
              "    <tr style=\"text-align: right;\">\n",
              "      <th></th>\n",
              "      <th>Age</th>\n",
              "      <th>BusinessTravel</th>\n",
              "      <th>Department</th>\n",
              "      <th>DistanceFromHome</th>\n",
              "      <th>Education</th>\n",
              "      <th>EducationField</th>\n",
              "      <th>EmployeeID</th>\n",
              "      <th>Gender</th>\n",
              "      <th>JobLevel</th>\n",
              "      <th>JobRole</th>\n",
              "      <th>...</th>\n",
              "      <th>JobSatisfaction</th>\n",
              "      <th>WorkLifeBalance</th>\n",
              "      <th>DateSurvey</th>\n",
              "      <th>JobInvolvement</th>\n",
              "      <th>PerformanceRating</th>\n",
              "      <th>SurveyDate</th>\n",
              "      <th>Attrition</th>\n",
              "      <th>retirementDate</th>\n",
              "      <th>retirementType</th>\n",
              "      <th>resignationReason</th>\n",
              "    </tr>\n",
              "  </thead>\n",
              "  <tbody>\n",
              "    <tr>\n",
              "      <th>0</th>\n",
              "      <td>51</td>\n",
              "      <td>Travel_Rarely</td>\n",
              "      <td>Sales</td>\n",
              "      <td>6</td>\n",
              "      <td>2</td>\n",
              "      <td>Life Sciences</td>\n",
              "      <td>1</td>\n",
              "      <td>Female</td>\n",
              "      <td>1</td>\n",
              "      <td>Healthcare Representative</td>\n",
              "      <td>...</td>\n",
              "      <td>4.0</td>\n",
              "      <td>2.0</td>\n",
              "      <td>2015-12-31</td>\n",
              "      <td>3</td>\n",
              "      <td>3</td>\n",
              "      <td>2015-12-31</td>\n",
              "      <td>0</td>\n",
              "      <td>0</td>\n",
              "      <td>NoRetirement</td>\n",
              "      <td>NoRetirement</td>\n",
              "    </tr>\n",
              "    <tr>\n",
              "      <th>1</th>\n",
              "      <td>31</td>\n",
              "      <td>Travel_Frequently</td>\n",
              "      <td>Research &amp; Development</td>\n",
              "      <td>10</td>\n",
              "      <td>1</td>\n",
              "      <td>Life Sciences</td>\n",
              "      <td>2</td>\n",
              "      <td>Female</td>\n",
              "      <td>1</td>\n",
              "      <td>Research Scientist</td>\n",
              "      <td>...</td>\n",
              "      <td>2.0</td>\n",
              "      <td>4.0</td>\n",
              "      <td>2015-12-31</td>\n",
              "      <td>2</td>\n",
              "      <td>4</td>\n",
              "      <td>2015-12-31</td>\n",
              "      <td>1</td>\n",
              "      <td>2016-10-15</td>\n",
              "      <td>Resignation</td>\n",
              "      <td>Others</td>\n",
              "    </tr>\n",
              "    <tr>\n",
              "      <th>2</th>\n",
              "      <td>32</td>\n",
              "      <td>Travel_Frequently</td>\n",
              "      <td>Research &amp; Development</td>\n",
              "      <td>17</td>\n",
              "      <td>4</td>\n",
              "      <td>Other</td>\n",
              "      <td>3</td>\n",
              "      <td>Male</td>\n",
              "      <td>4</td>\n",
              "      <td>Sales Executive</td>\n",
              "      <td>...</td>\n",
              "      <td>2.0</td>\n",
              "      <td>1.0</td>\n",
              "      <td>2015-12-31</td>\n",
              "      <td>3</td>\n",
              "      <td>3</td>\n",
              "      <td>2015-12-31</td>\n",
              "      <td>0</td>\n",
              "      <td>0</td>\n",
              "      <td>NoRetirement</td>\n",
              "      <td>NoRetirement</td>\n",
              "    </tr>\n",
              "    <tr>\n",
              "      <th>3</th>\n",
              "      <td>38</td>\n",
              "      <td>Non-Travel</td>\n",
              "      <td>Research &amp; Development</td>\n",
              "      <td>2</td>\n",
              "      <td>5</td>\n",
              "      <td>Life Sciences</td>\n",
              "      <td>4</td>\n",
              "      <td>Male</td>\n",
              "      <td>3</td>\n",
              "      <td>Human Resources</td>\n",
              "      <td>...</td>\n",
              "      <td>4.0</td>\n",
              "      <td>3.0</td>\n",
              "      <td>2015-12-31</td>\n",
              "      <td>2</td>\n",
              "      <td>3</td>\n",
              "      <td>2015-12-31</td>\n",
              "      <td>0</td>\n",
              "      <td>0</td>\n",
              "      <td>NoRetirement</td>\n",
              "      <td>NoRetirement</td>\n",
              "    </tr>\n",
              "    <tr>\n",
              "      <th>4</th>\n",
              "      <td>32</td>\n",
              "      <td>Travel_Rarely</td>\n",
              "      <td>Research &amp; Development</td>\n",
              "      <td>10</td>\n",
              "      <td>1</td>\n",
              "      <td>Medical</td>\n",
              "      <td>5</td>\n",
              "      <td>Male</td>\n",
              "      <td>1</td>\n",
              "      <td>Sales Executive</td>\n",
              "      <td>...</td>\n",
              "      <td>1.0</td>\n",
              "      <td>3.0</td>\n",
              "      <td>2015-12-31</td>\n",
              "      <td>3</td>\n",
              "      <td>3</td>\n",
              "      <td>2015-12-31</td>\n",
              "      <td>0</td>\n",
              "      <td>0</td>\n",
              "      <td>NoRetirement</td>\n",
              "      <td>NoRetirement</td>\n",
              "    </tr>\n",
              "    <tr>\n",
              "      <th>...</th>\n",
              "      <td>...</td>\n",
              "      <td>...</td>\n",
              "      <td>...</td>\n",
              "      <td>...</td>\n",
              "      <td>...</td>\n",
              "      <td>...</td>\n",
              "      <td>...</td>\n",
              "      <td>...</td>\n",
              "      <td>...</td>\n",
              "      <td>...</td>\n",
              "      <td>...</td>\n",
              "      <td>...</td>\n",
              "      <td>...</td>\n",
              "      <td>...</td>\n",
              "      <td>...</td>\n",
              "      <td>...</td>\n",
              "      <td>...</td>\n",
              "      <td>...</td>\n",
              "      <td>...</td>\n",
              "      <td>...</td>\n",
              "      <td>...</td>\n",
              "    </tr>\n",
              "    <tr>\n",
              "      <th>8815</th>\n",
              "      <td>42</td>\n",
              "      <td>Travel_Rarely</td>\n",
              "      <td>Research &amp; Development</td>\n",
              "      <td>5</td>\n",
              "      <td>4</td>\n",
              "      <td>Medical</td>\n",
              "      <td>4406</td>\n",
              "      <td>Female</td>\n",
              "      <td>1</td>\n",
              "      <td>Research Scientist</td>\n",
              "      <td>...</td>\n",
              "      <td>1.0</td>\n",
              "      <td>3.0</td>\n",
              "      <td>2016-12-31</td>\n",
              "      <td>3</td>\n",
              "      <td>3</td>\n",
              "      <td>2016-12-31</td>\n",
              "      <td>0</td>\n",
              "      <td>0</td>\n",
              "      <td>NoRetirement</td>\n",
              "      <td>NoRetirement</td>\n",
              "    </tr>\n",
              "    <tr>\n",
              "      <th>8816</th>\n",
              "      <td>29</td>\n",
              "      <td>Travel_Rarely</td>\n",
              "      <td>Research &amp; Development</td>\n",
              "      <td>2</td>\n",
              "      <td>4</td>\n",
              "      <td>Medical</td>\n",
              "      <td>4407</td>\n",
              "      <td>Male</td>\n",
              "      <td>1</td>\n",
              "      <td>Laboratory Technician</td>\n",
              "      <td>...</td>\n",
              "      <td>4.0</td>\n",
              "      <td>3.0</td>\n",
              "      <td>2016-12-31</td>\n",
              "      <td>2</td>\n",
              "      <td>3</td>\n",
              "      <td>2016-12-31</td>\n",
              "      <td>0</td>\n",
              "      <td>0</td>\n",
              "      <td>NoRetirement</td>\n",
              "      <td>NoRetirement</td>\n",
              "    </tr>\n",
              "    <tr>\n",
              "      <th>8817</th>\n",
              "      <td>25</td>\n",
              "      <td>Travel_Rarely</td>\n",
              "      <td>Research &amp; Development</td>\n",
              "      <td>25</td>\n",
              "      <td>2</td>\n",
              "      <td>Life Sciences</td>\n",
              "      <td>4408</td>\n",
              "      <td>Male</td>\n",
              "      <td>2</td>\n",
              "      <td>Sales Executive</td>\n",
              "      <td>...</td>\n",
              "      <td>3.0</td>\n",
              "      <td>3.0</td>\n",
              "      <td>2016-12-31</td>\n",
              "      <td>3</td>\n",
              "      <td>4</td>\n",
              "      <td>2016-12-31</td>\n",
              "      <td>0</td>\n",
              "      <td>0</td>\n",
              "      <td>NoRetirement</td>\n",
              "      <td>NoRetirement</td>\n",
              "    </tr>\n",
              "    <tr>\n",
              "      <th>8818</th>\n",
              "      <td>42</td>\n",
              "      <td>Travel_Rarely</td>\n",
              "      <td>Sales</td>\n",
              "      <td>18</td>\n",
              "      <td>2</td>\n",
              "      <td>Medical</td>\n",
              "      <td>4409</td>\n",
              "      <td>Male</td>\n",
              "      <td>1</td>\n",
              "      <td>Laboratory Technician</td>\n",
              "      <td>...</td>\n",
              "      <td>1.0</td>\n",
              "      <td>3.0</td>\n",
              "      <td>2016-12-31</td>\n",
              "      <td>2</td>\n",
              "      <td>3</td>\n",
              "      <td>2016-12-31</td>\n",
              "      <td>0</td>\n",
              "      <td>0</td>\n",
              "      <td>NoRetirement</td>\n",
              "      <td>NoRetirement</td>\n",
              "    </tr>\n",
              "    <tr>\n",
              "      <th>8819</th>\n",
              "      <td>40</td>\n",
              "      <td>Travel_Rarely</td>\n",
              "      <td>Research &amp; Development</td>\n",
              "      <td>28</td>\n",
              "      <td>3</td>\n",
              "      <td>Medical</td>\n",
              "      <td>4410</td>\n",
              "      <td>Male</td>\n",
              "      <td>2</td>\n",
              "      <td>Laboratory Technician</td>\n",
              "      <td>...</td>\n",
              "      <td>3.0</td>\n",
              "      <td>3.0</td>\n",
              "      <td>2016-12-31</td>\n",
              "      <td>4</td>\n",
              "      <td>3</td>\n",
              "      <td>2016-12-31</td>\n",
              "      <td>0</td>\n",
              "      <td>0</td>\n",
              "      <td>NoRetirement</td>\n",
              "      <td>NoRetirement</td>\n",
              "    </tr>\n",
              "  </tbody>\n",
              "</table>\n",
              "<p>8820 rows × 32 columns</p>\n",
              "</div>"
            ],
            "text/plain": [
              "      Age     BusinessTravel              Department  DistanceFromHome  \\\n",
              "0      51      Travel_Rarely                   Sales                 6   \n",
              "1      31  Travel_Frequently  Research & Development                10   \n",
              "2      32  Travel_Frequently  Research & Development                17   \n",
              "3      38         Non-Travel  Research & Development                 2   \n",
              "4      32      Travel_Rarely  Research & Development                10   \n",
              "...   ...                ...                     ...               ...   \n",
              "8815   42      Travel_Rarely  Research & Development                 5   \n",
              "8816   29      Travel_Rarely  Research & Development                 2   \n",
              "8817   25      Travel_Rarely  Research & Development                25   \n",
              "8818   42      Travel_Rarely                   Sales                18   \n",
              "8819   40      Travel_Rarely  Research & Development                28   \n",
              "\n",
              "      Education EducationField EmployeeID  Gender  JobLevel  \\\n",
              "0             2  Life Sciences          1  Female         1   \n",
              "1             1  Life Sciences          2  Female         1   \n",
              "2             4          Other          3    Male         4   \n",
              "3             5  Life Sciences          4    Male         3   \n",
              "4             1        Medical          5    Male         1   \n",
              "...         ...            ...        ...     ...       ...   \n",
              "8815          4        Medical       4406  Female         1   \n",
              "8816          4        Medical       4407    Male         1   \n",
              "8817          2  Life Sciences       4408    Male         2   \n",
              "8818          2        Medical       4409    Male         1   \n",
              "8819          3        Medical       4410    Male         2   \n",
              "\n",
              "                        JobRole  ... JobSatisfaction  WorkLifeBalance  \\\n",
              "0     Healthcare Representative  ...             4.0              2.0   \n",
              "1            Research Scientist  ...             2.0              4.0   \n",
              "2               Sales Executive  ...             2.0              1.0   \n",
              "3               Human Resources  ...             4.0              3.0   \n",
              "4               Sales Executive  ...             1.0              3.0   \n",
              "...                         ...  ...             ...              ...   \n",
              "8815         Research Scientist  ...             1.0              3.0   \n",
              "8816      Laboratory Technician  ...             4.0              3.0   \n",
              "8817            Sales Executive  ...             3.0              3.0   \n",
              "8818      Laboratory Technician  ...             1.0              3.0   \n",
              "8819      Laboratory Technician  ...             3.0              3.0   \n",
              "\n",
              "      DateSurvey  JobInvolvement  PerformanceRating  SurveyDate  Attrition  \\\n",
              "0     2015-12-31               3                  3  2015-12-31          0   \n",
              "1     2015-12-31               2                  4  2015-12-31          1   \n",
              "2     2015-12-31               3                  3  2015-12-31          0   \n",
              "3     2015-12-31               2                  3  2015-12-31          0   \n",
              "4     2015-12-31               3                  3  2015-12-31          0   \n",
              "...          ...             ...                ...         ...        ...   \n",
              "8815  2016-12-31               3                  3  2016-12-31          0   \n",
              "8816  2016-12-31               2                  3  2016-12-31          0   \n",
              "8817  2016-12-31               3                  4  2016-12-31          0   \n",
              "8818  2016-12-31               2                  3  2016-12-31          0   \n",
              "8819  2016-12-31               4                  3  2016-12-31          0   \n",
              "\n",
              "      retirementDate  retirementType  resignationReason  \n",
              "0                  0    NoRetirement       NoRetirement  \n",
              "1         2016-10-15     Resignation             Others  \n",
              "2                  0    NoRetirement       NoRetirement  \n",
              "3                  0    NoRetirement       NoRetirement  \n",
              "4                  0    NoRetirement       NoRetirement  \n",
              "...              ...             ...                ...  \n",
              "8815               0    NoRetirement       NoRetirement  \n",
              "8816               0    NoRetirement       NoRetirement  \n",
              "8817               0    NoRetirement       NoRetirement  \n",
              "8818               0    NoRetirement       NoRetirement  \n",
              "8819               0    NoRetirement       NoRetirement  \n",
              "\n",
              "[8820 rows x 32 columns]"
            ]
          },
          "execution_count": 55,
          "metadata": {},
          "output_type": "execute_result"
        }
      ],
      "source": [
        "pd.read_sql(\"\"\" select * from completo\"\"\", con=con)"
      ]
    },
    {
      "cell_type": "code",
      "execution_count": 56,
      "metadata": {
        "id": "Ddq6Ue6sPykI"
      },
      "outputs": [],
      "source": [
        "#crear dataframe para el modelado(2015)\n",
        "df_m = pd.read_sql(\"\"\"select * from completo\n",
        "where InfoDate='2015-12-31'\n",
        "\"\"\",con=con)"
      ]
    },
    {
      "cell_type": "code",
      "execution_count": 57,
      "metadata": {
        "colab": {
          "base_uri": "https://localhost:8080/"
        },
        "id": "yNunKgxLRMlu",
        "outputId": "57e70d6d-cf46-41f8-b197-4e0b8c829895"
      },
      "outputs": [
        {
          "name": "stdout",
          "output_type": "stream",
          "text": [
            "<class 'pandas.core.frame.DataFrame'>\n",
            "RangeIndex: 4410 entries, 0 to 4409\n",
            "Data columns (total 32 columns):\n",
            " #   Column                   Non-Null Count  Dtype  \n",
            "---  ------                   --------------  -----  \n",
            " 0   Age                      4410 non-null   int64  \n",
            " 1   BusinessTravel           4410 non-null   object \n",
            " 2   Department               4410 non-null   object \n",
            " 3   DistanceFromHome         4410 non-null   int64  \n",
            " 4   Education                4410 non-null   int64  \n",
            " 5   EducationField           4410 non-null   object \n",
            " 6   EmployeeID               4410 non-null   object \n",
            " 7   Gender                   4410 non-null   object \n",
            " 8   JobLevel                 4410 non-null   int64  \n",
            " 9   JobRole                  4410 non-null   object \n",
            " 10  MaritalStatus            4410 non-null   object \n",
            " 11  MonthlyIncome            4410 non-null   int64  \n",
            " 12  NumCompaniesWorked       4410 non-null   float64\n",
            " 13  PercentSalaryHike        4410 non-null   int64  \n",
            " 14  StockOptionLevel         4410 non-null   int64  \n",
            " 15  TotalWorkingYears        4410 non-null   float64\n",
            " 16  TrainingTimesLastYear    4410 non-null   int64  \n",
            " 17  YearsAtCompany           4410 non-null   int64  \n",
            " 18  YearsSinceLastPromotion  4410 non-null   int64  \n",
            " 19  YearsWithCurrManager     4410 non-null   int64  \n",
            " 20  InfoDate                 4410 non-null   object \n",
            " 21  EnvironmentSatisfaction  4410 non-null   float64\n",
            " 22  JobSatisfaction          4410 non-null   float64\n",
            " 23  WorkLifeBalance          4410 non-null   float64\n",
            " 24  DateSurvey               4410 non-null   object \n",
            " 25  JobInvolvement           4410 non-null   int64  \n",
            " 26  PerformanceRating        4410 non-null   int64  \n",
            " 27  SurveyDate               4410 non-null   object \n",
            " 28  Attrition                4410 non-null   int64  \n",
            " 29  retirementDate           4410 non-null   object \n",
            " 30  retirementType           4410 non-null   object \n",
            " 31  resignationReason        4410 non-null   object \n",
            "dtypes: float64(5), int64(14), object(13)\n",
            "memory usage: 1.1+ MB\n"
          ]
        }
      ],
      "source": [
        "df_m.info()"
      ]
    },
    {
      "cell_type": "code",
      "execution_count": 58,
      "metadata": {
        "colab": {
          "base_uri": "https://localhost:8080/"
        },
        "id": "4xJ_Tf_gV8_m",
        "outputId": "0e9ca27b-5bff-4315-fc66-a6a7337b6dbb"
      },
      "outputs": [
        {
          "data": {
            "text/plain": [
              "Index(['Age', 'BusinessTravel', 'Department', 'DistanceFromHome', 'Education',\n",
              "       'EducationField', 'EmployeeID', 'Gender', 'JobLevel', 'JobRole',\n",
              "       'MaritalStatus', 'MonthlyIncome', 'NumCompaniesWorked',\n",
              "       'PercentSalaryHike', 'StockOptionLevel', 'TotalWorkingYears',\n",
              "       'TrainingTimesLastYear', 'YearsAtCompany', 'YearsSinceLastPromotion',\n",
              "       'YearsWithCurrManager', 'EnvironmentSatisfaction', 'JobSatisfaction',\n",
              "       'WorkLifeBalance', 'DateSurvey', 'JobInvolvement', 'PerformanceRating',\n",
              "       'SurveyDate', 'Attrition', 'retirementType', 'resignationReason'],\n",
              "      dtype='object')"
            ]
          },
          "execution_count": 58,
          "metadata": {},
          "output_type": "execute_result"
        }
      ],
      "source": [
        "#Eliminación de variables InfoDate y retirementDate, ya que no son relevantes dentro del dataframe (informacion 2015-retiros 2016)\n",
        "df_m=df_m.drop(columns=['InfoDate','retirementDate'])\n",
        "df_m.columns"
      ]
    },
    {
      "cell_type": "code",
      "execution_count": 59,
      "metadata": {
        "colab": {
          "base_uri": "https://localhost:8080/"
        },
        "id": "wnTGcfEYYIuu",
        "outputId": "b8fbdfef-4006-4e7b-d0ff-732e4aeee9ec"
      },
      "outputs": [
        {
          "name": "stdout",
          "output_type": "stream",
          "text": [
            "<class 'pandas.core.frame.DataFrame'>\n",
            "RangeIndex: 4410 entries, 0 to 4409\n",
            "Data columns (total 30 columns):\n",
            " #   Column                   Non-Null Count  Dtype \n",
            "---  ------                   --------------  ----- \n",
            " 0   Age                      4410 non-null   int64 \n",
            " 1   BusinessTravel           4410 non-null   object\n",
            " 2   Department               4410 non-null   object\n",
            " 3   DistanceFromHome         4410 non-null   int64 \n",
            " 4   Education                4410 non-null   int64 \n",
            " 5   EducationField           4410 non-null   object\n",
            " 6   EmployeeID               4410 non-null   object\n",
            " 7   Gender                   4410 non-null   object\n",
            " 8   JobLevel                 4410 non-null   int64 \n",
            " 9   JobRole                  4410 non-null   object\n",
            " 10  MaritalStatus            4410 non-null   object\n",
            " 11  MonthlyIncome            4410 non-null   int64 \n",
            " 12  NumCompaniesWorked       4410 non-null   int32 \n",
            " 13  PercentSalaryHike        4410 non-null   int64 \n",
            " 14  StockOptionLevel         4410 non-null   int64 \n",
            " 15  TotalWorkingYears        4410 non-null   int32 \n",
            " 16  TrainingTimesLastYear    4410 non-null   int64 \n",
            " 17  YearsAtCompany           4410 non-null   int64 \n",
            " 18  YearsSinceLastPromotion  4410 non-null   int64 \n",
            " 19  YearsWithCurrManager     4410 non-null   int64 \n",
            " 20  EnvironmentSatisfaction  4410 non-null   int32 \n",
            " 21  JobSatisfaction          4410 non-null   int32 \n",
            " 22  WorkLifeBalance          4410 non-null   int32 \n",
            " 23  DateSurvey               4410 non-null   object\n",
            " 24  JobInvolvement           4410 non-null   int64 \n",
            " 25  PerformanceRating        4410 non-null   int64 \n",
            " 26  SurveyDate               4410 non-null   object\n",
            " 27  Attrition                4410 non-null   int64 \n",
            " 28  retirementType           4410 non-null   object\n",
            " 29  resignationReason        4410 non-null   object\n",
            "dtypes: int32(5), int64(14), object(11)\n",
            "memory usage: 947.6+ KB\n"
          ]
        }
      ],
      "source": [
        "#Cambiar variables float a integer\n",
        "columnas_float=df_m.select_dtypes(include=['float']).columns\n",
        "\n",
        "df_m[columnas_float]=df_m[columnas_float].astype(int)\n",
        "df_m.info()"
      ]
    },
    {
      "cell_type": "code",
      "execution_count": 60,
      "metadata": {
        "id": "RxsHBVlVaJ3S"
      },
      "outputs": [],
      "source": [
        "#Conversion a Dummyes\n",
        "list_dummies=['BusinessTravel', 'Department','EducationField', 'Gender', 'JobRole', 'MaritalStatus', 'retirementType',\n",
        "       'resignationReason']\n",
        "\n",
        "\n",
        "df_dummies=pd.get_dummies(df_m,columns=list_dummies)\n",
        "\n"
      ]
    },
    {
      "cell_type": "code",
      "execution_count": 61,
      "metadata": {
        "colab": {
          "base_uri": "https://localhost:8080/",
          "height": 256
        },
        "id": "AMEEMmGlbP2t",
        "outputId": "ea906391-1915-4953-f97a-d60a2d3d6056"
      },
      "outputs": [
        {
          "data": {
            "text/html": [
              "<div>\n",
              "<style scoped>\n",
              "    .dataframe tbody tr th:only-of-type {\n",
              "        vertical-align: middle;\n",
              "    }\n",
              "\n",
              "    .dataframe tbody tr th {\n",
              "        vertical-align: top;\n",
              "    }\n",
              "\n",
              "    .dataframe thead th {\n",
              "        text-align: right;\n",
              "    }\n",
              "</style>\n",
              "<table border=\"1\" class=\"dataframe\">\n",
              "  <thead>\n",
              "    <tr style=\"text-align: right;\">\n",
              "      <th></th>\n",
              "      <th>Age</th>\n",
              "      <th>DistanceFromHome</th>\n",
              "      <th>Education</th>\n",
              "      <th>EmployeeID</th>\n",
              "      <th>JobLevel</th>\n",
              "      <th>MonthlyIncome</th>\n",
              "      <th>NumCompaniesWorked</th>\n",
              "      <th>PercentSalaryHike</th>\n",
              "      <th>StockOptionLevel</th>\n",
              "      <th>TotalWorkingYears</th>\n",
              "      <th>...</th>\n",
              "      <th>MaritalStatus_Married</th>\n",
              "      <th>MaritalStatus_Single</th>\n",
              "      <th>retirementType_Fired</th>\n",
              "      <th>retirementType_NoRetirement</th>\n",
              "      <th>retirementType_Resignation</th>\n",
              "      <th>resignationReason_Fired</th>\n",
              "      <th>resignationReason_NoRetirement</th>\n",
              "      <th>resignationReason_Others</th>\n",
              "      <th>resignationReason_Salary</th>\n",
              "      <th>resignationReason_Stress</th>\n",
              "    </tr>\n",
              "  </thead>\n",
              "  <tbody>\n",
              "    <tr>\n",
              "      <th>0</th>\n",
              "      <td>51</td>\n",
              "      <td>6</td>\n",
              "      <td>2</td>\n",
              "      <td>1</td>\n",
              "      <td>1</td>\n",
              "      <td>131160</td>\n",
              "      <td>1</td>\n",
              "      <td>11</td>\n",
              "      <td>0</td>\n",
              "      <td>1</td>\n",
              "      <td>...</td>\n",
              "      <td>True</td>\n",
              "      <td>False</td>\n",
              "      <td>False</td>\n",
              "      <td>True</td>\n",
              "      <td>False</td>\n",
              "      <td>False</td>\n",
              "      <td>True</td>\n",
              "      <td>False</td>\n",
              "      <td>False</td>\n",
              "      <td>False</td>\n",
              "    </tr>\n",
              "    <tr>\n",
              "      <th>1</th>\n",
              "      <td>31</td>\n",
              "      <td>10</td>\n",
              "      <td>1</td>\n",
              "      <td>2</td>\n",
              "      <td>1</td>\n",
              "      <td>41890</td>\n",
              "      <td>0</td>\n",
              "      <td>23</td>\n",
              "      <td>1</td>\n",
              "      <td>6</td>\n",
              "      <td>...</td>\n",
              "      <td>False</td>\n",
              "      <td>True</td>\n",
              "      <td>False</td>\n",
              "      <td>False</td>\n",
              "      <td>True</td>\n",
              "      <td>False</td>\n",
              "      <td>False</td>\n",
              "      <td>True</td>\n",
              "      <td>False</td>\n",
              "      <td>False</td>\n",
              "    </tr>\n",
              "    <tr>\n",
              "      <th>2</th>\n",
              "      <td>32</td>\n",
              "      <td>17</td>\n",
              "      <td>4</td>\n",
              "      <td>3</td>\n",
              "      <td>4</td>\n",
              "      <td>193280</td>\n",
              "      <td>1</td>\n",
              "      <td>15</td>\n",
              "      <td>3</td>\n",
              "      <td>5</td>\n",
              "      <td>...</td>\n",
              "      <td>True</td>\n",
              "      <td>False</td>\n",
              "      <td>False</td>\n",
              "      <td>True</td>\n",
              "      <td>False</td>\n",
              "      <td>False</td>\n",
              "      <td>True</td>\n",
              "      <td>False</td>\n",
              "      <td>False</td>\n",
              "      <td>False</td>\n",
              "    </tr>\n",
              "    <tr>\n",
              "      <th>3</th>\n",
              "      <td>38</td>\n",
              "      <td>2</td>\n",
              "      <td>5</td>\n",
              "      <td>4</td>\n",
              "      <td>3</td>\n",
              "      <td>83210</td>\n",
              "      <td>3</td>\n",
              "      <td>11</td>\n",
              "      <td>3</td>\n",
              "      <td>13</td>\n",
              "      <td>...</td>\n",
              "      <td>True</td>\n",
              "      <td>False</td>\n",
              "      <td>False</td>\n",
              "      <td>True</td>\n",
              "      <td>False</td>\n",
              "      <td>False</td>\n",
              "      <td>True</td>\n",
              "      <td>False</td>\n",
              "      <td>False</td>\n",
              "      <td>False</td>\n",
              "    </tr>\n",
              "    <tr>\n",
              "      <th>4</th>\n",
              "      <td>32</td>\n",
              "      <td>10</td>\n",
              "      <td>1</td>\n",
              "      <td>5</td>\n",
              "      <td>1</td>\n",
              "      <td>23420</td>\n",
              "      <td>4</td>\n",
              "      <td>12</td>\n",
              "      <td>2</td>\n",
              "      <td>9</td>\n",
              "      <td>...</td>\n",
              "      <td>False</td>\n",
              "      <td>True</td>\n",
              "      <td>False</td>\n",
              "      <td>True</td>\n",
              "      <td>False</td>\n",
              "      <td>False</td>\n",
              "      <td>True</td>\n",
              "      <td>False</td>\n",
              "      <td>False</td>\n",
              "      <td>False</td>\n",
              "    </tr>\n",
              "  </tbody>\n",
              "</table>\n",
              "<p>5 rows × 56 columns</p>\n",
              "</div>"
            ],
            "text/plain": [
              "   Age  DistanceFromHome  Education EmployeeID  JobLevel  MonthlyIncome  \\\n",
              "0   51                 6          2          1         1         131160   \n",
              "1   31                10          1          2         1          41890   \n",
              "2   32                17          4          3         4         193280   \n",
              "3   38                 2          5          4         3          83210   \n",
              "4   32                10          1          5         1          23420   \n",
              "\n",
              "   NumCompaniesWorked  PercentSalaryHike  StockOptionLevel  TotalWorkingYears  \\\n",
              "0                   1                 11                 0                  1   \n",
              "1                   0                 23                 1                  6   \n",
              "2                   1                 15                 3                  5   \n",
              "3                   3                 11                 3                 13   \n",
              "4                   4                 12                 2                  9   \n",
              "\n",
              "   ...  MaritalStatus_Married  MaritalStatus_Single  retirementType_Fired  \\\n",
              "0  ...                   True                 False                 False   \n",
              "1  ...                  False                  True                 False   \n",
              "2  ...                   True                 False                 False   \n",
              "3  ...                   True                 False                 False   \n",
              "4  ...                  False                  True                 False   \n",
              "\n",
              "   retirementType_NoRetirement  retirementType_Resignation  \\\n",
              "0                         True                       False   \n",
              "1                        False                        True   \n",
              "2                         True                       False   \n",
              "3                         True                       False   \n",
              "4                         True                       False   \n",
              "\n",
              "   resignationReason_Fired  resignationReason_NoRetirement  \\\n",
              "0                    False                            True   \n",
              "1                    False                           False   \n",
              "2                    False                            True   \n",
              "3                    False                            True   \n",
              "4                    False                            True   \n",
              "\n",
              "  resignationReason_Others  resignationReason_Salary  resignationReason_Stress  \n",
              "0                    False                     False                     False  \n",
              "1                     True                     False                     False  \n",
              "2                    False                     False                     False  \n",
              "3                    False                     False                     False  \n",
              "4                    False                     False                     False  \n",
              "\n",
              "[5 rows x 56 columns]"
            ]
          },
          "execution_count": 61,
          "metadata": {},
          "output_type": "execute_result"
        }
      ],
      "source": [
        "df_dummies.head()"
      ]
    },
    {
      "cell_type": "code",
      "execution_count": 62,
      "metadata": {
        "colab": {
          "base_uri": "https://localhost:8080/"
        },
        "id": "-9IRcIbFiUJ6",
        "outputId": "c868caf9-3e54-43bc-eacd-c2cb4e35b236"
      },
      "outputs": [
        {
          "name": "stdout",
          "output_type": "stream",
          "text": [
            "<class 'pandas.core.frame.DataFrame'>\n",
            "RangeIndex: 4410 entries, 0 to 4409\n",
            "Data columns (total 56 columns):\n",
            " #   Column                             Non-Null Count  Dtype \n",
            "---  ------                             --------------  ----- \n",
            " 0   Age                                4410 non-null   int64 \n",
            " 1   DistanceFromHome                   4410 non-null   int64 \n",
            " 2   Education                          4410 non-null   int64 \n",
            " 3   EmployeeID                         4410 non-null   object\n",
            " 4   JobLevel                           4410 non-null   int64 \n",
            " 5   MonthlyIncome                      4410 non-null   int64 \n",
            " 6   NumCompaniesWorked                 4410 non-null   int32 \n",
            " 7   PercentSalaryHike                  4410 non-null   int64 \n",
            " 8   StockOptionLevel                   4410 non-null   int64 \n",
            " 9   TotalWorkingYears                  4410 non-null   int32 \n",
            " 10  TrainingTimesLastYear              4410 non-null   int64 \n",
            " 11  YearsAtCompany                     4410 non-null   int64 \n",
            " 12  YearsSinceLastPromotion            4410 non-null   int64 \n",
            " 13  YearsWithCurrManager               4410 non-null   int64 \n",
            " 14  EnvironmentSatisfaction            4410 non-null   int32 \n",
            " 15  JobSatisfaction                    4410 non-null   int32 \n",
            " 16  WorkLifeBalance                    4410 non-null   int32 \n",
            " 17  DateSurvey                         4410 non-null   object\n",
            " 18  JobInvolvement                     4410 non-null   int64 \n",
            " 19  PerformanceRating                  4410 non-null   int64 \n",
            " 20  SurveyDate                         4410 non-null   object\n",
            " 21  Attrition                          4410 non-null   int64 \n",
            " 22  BusinessTravel_Non-Travel          4410 non-null   bool  \n",
            " 23  BusinessTravel_Travel_Frequently   4410 non-null   bool  \n",
            " 24  BusinessTravel_Travel_Rarely       4410 non-null   bool  \n",
            " 25  Department_Human Resources         4410 non-null   bool  \n",
            " 26  Department_Research & Development  4410 non-null   bool  \n",
            " 27  Department_Sales                   4410 non-null   bool  \n",
            " 28  EducationField_Human Resources     4410 non-null   bool  \n",
            " 29  EducationField_Life Sciences       4410 non-null   bool  \n",
            " 30  EducationField_Marketing           4410 non-null   bool  \n",
            " 31  EducationField_Medical             4410 non-null   bool  \n",
            " 32  EducationField_Other               4410 non-null   bool  \n",
            " 33  EducationField_Technical Degree    4410 non-null   bool  \n",
            " 34  Gender_Female                      4410 non-null   bool  \n",
            " 35  Gender_Male                        4410 non-null   bool  \n",
            " 36  JobRole_Healthcare Representative  4410 non-null   bool  \n",
            " 37  JobRole_Human Resources            4410 non-null   bool  \n",
            " 38  JobRole_Laboratory Technician      4410 non-null   bool  \n",
            " 39  JobRole_Manager                    4410 non-null   bool  \n",
            " 40  JobRole_Manufacturing Director     4410 non-null   bool  \n",
            " 41  JobRole_Research Director          4410 non-null   bool  \n",
            " 42  JobRole_Research Scientist         4410 non-null   bool  \n",
            " 43  JobRole_Sales Executive            4410 non-null   bool  \n",
            " 44  JobRole_Sales Representative       4410 non-null   bool  \n",
            " 45  MaritalStatus_Divorced             4410 non-null   bool  \n",
            " 46  MaritalStatus_Married              4410 non-null   bool  \n",
            " 47  MaritalStatus_Single               4410 non-null   bool  \n",
            " 48  retirementType_Fired               4410 non-null   bool  \n",
            " 49  retirementType_NoRetirement        4410 non-null   bool  \n",
            " 50  retirementType_Resignation         4410 non-null   bool  \n",
            " 51  resignationReason_Fired            4410 non-null   bool  \n",
            " 52  resignationReason_NoRetirement     4410 non-null   bool  \n",
            " 53  resignationReason_Others           4410 non-null   bool  \n",
            " 54  resignationReason_Salary           4410 non-null   bool  \n",
            " 55  resignationReason_Stress           4410 non-null   bool  \n",
            "dtypes: bool(34), int32(5), int64(14), object(3)\n",
            "memory usage: 818.4+ KB\n"
          ]
        }
      ],
      "source": [
        "df_dummies.info()"
      ]
    },
    {
      "cell_type": "code",
      "execution_count": 63,
      "metadata": {
        "id": "D3PtqyGPkxtK"
      },
      "outputs": [],
      "source": [
        "#Eliminacion de variables categoricas(fecha) y variables resignationReason ya que se presentan una alta correlación con la variable objetivo Attrition lo cual sesga el desempeño de los modelos.\n",
        "df_dummies=df_dummies.drop(columns=['DateSurvey','SurveyDate','resignationReason_Fired', 'resignationReason_NoRetirement',\n",
        "       'resignationReason_Others', 'resignationReason_Salary',\n",
        "       'resignationReason_Stress', 'retirementType_Fired',\n",
        "       'retirementType_NoRetirement', 'retirementType_Resignation' ])\n"
      ]
    },
    {
      "cell_type": "markdown",
      "metadata": {
        "id": "16p62OZ6iUJ7"
      },
      "source": [
        "# Selección de variables"
      ]
    },
    {
      "cell_type": "code",
      "execution_count": 64,
      "metadata": {
        "id": "tpWnS7gZjpPD"
      },
      "outputs": [],
      "source": [
        "y=df_dummies.Attrition\n",
        "X1= df_dummies.loc[:,~df_dummies.columns.isin(['Attrition',\n",
        "                                               'EmployeeID'])]"
      ]
    },
    {
      "cell_type": "markdown",
      "metadata": {
        "id": "8njlupEpkGGY"
      },
      "source": [
        "Escalada de variables numéricas"
      ]
    },
    {
      "cell_type": "code",
      "execution_count": 65,
      "metadata": {
        "id": "KSbLh_RMj7QM"
      },
      "outputs": [],
      "source": [
        "scaler=StandardScaler()\n",
        "scaler.fit(X1)\n",
        "X2=scaler.transform(X1)\n",
        "X=pd.DataFrame(X2,columns=X1.columns)"
      ]
    },
    {
      "cell_type": "markdown",
      "metadata": {
        "id": "4p6DNxAsmc93"
      },
      "source": [
        "# Definición de modelos\n"
      ]
    },
    {
      "cell_type": "code",
      "execution_count": 69,
      "metadata": {
        "id": "MWualo7amg2R"
      },
      "outputs": [],
      "source": [
        "m_lreg = LogisticRegression()\n",
        "m_rtree = tree.DecisionTreeClassifier()\n",
        "m_rf = RandomForestClassifier()\n",
        "m_gbt = GradientBoostingClassifier()\n",
        "\n",
        "modelos=list([m_lreg,m_rtree, m_rf, m_gbt])"
      ]
    },
    {
      "cell_type": "markdown",
      "metadata": {
        "id": "FUBf7iaFndEF"
      },
      "source": [
        "Selección de variables desde las funciones"
      ]
    },
    {
      "cell_type": "code",
      "execution_count": 70,
      "metadata": {
        "colab": {
          "base_uri": "https://localhost:8080/"
        },
        "id": "yyz2Jco2nhKH",
        "outputId": "dfba999d-4bff-4148-a9f7-248399f1aa66"
      },
      "outputs": [
        {
          "data": {
            "text/plain": [
              "(10,)"
            ]
          },
          "execution_count": 70,
          "metadata": {},
          "output_type": "execute_result"
        }
      ],
      "source": [
        "var_names=fn.sel_variables(modelos,X,y,threshold=\"2.5*mean\")\n",
        "var_names.shape\n"
      ]
    },
    {
      "cell_type": "code",
      "execution_count": 71,
      "metadata": {
        "colab": {
          "base_uri": "https://localhost:8080/"
        },
        "id": "mx7NcGYGrRA4",
        "outputId": "9fec8e74-58fa-459b-a52e-ceed2002d4b4"
      },
      "outputs": [
        {
          "name": "stdout",
          "output_type": "stream",
          "text": [
            "<class 'pandas.core.frame.DataFrame'>\n",
            "RangeIndex: 4410 entries, 0 to 4409\n",
            "Data columns (total 10 columns):\n",
            " #   Column                   Non-Null Count  Dtype  \n",
            "---  ------                   --------------  -----  \n",
            " 0   Age                      4410 non-null   float64\n",
            " 1   DistanceFromHome         4410 non-null   float64\n",
            " 2   EnvironmentSatisfaction  4410 non-null   float64\n",
            " 3   JobSatisfaction          4410 non-null   float64\n",
            " 4   MonthlyIncome            4410 non-null   float64\n",
            " 5   NumCompaniesWorked       4410 non-null   float64\n",
            " 6   PercentSalaryHike        4410 non-null   float64\n",
            " 7   TotalWorkingYears        4410 non-null   float64\n",
            " 8   YearsSinceLastPromotion  4410 non-null   float64\n",
            " 9   YearsWithCurrManager     4410 non-null   float64\n",
            "dtypes: float64(10)\n",
            "memory usage: 344.7 KB\n"
          ]
        }
      ],
      "source": [
        "X2=X[var_names]\n",
        "X2.info()"
      ]
    },
    {
      "cell_type": "code",
      "execution_count": 72,
      "metadata": {
        "colab": {
          "base_uri": "https://localhost:8080/"
        },
        "id": "By74KUz-tB0j",
        "outputId": "7835dffd-febb-43ea-a08a-66d0f5589273"
      },
      "outputs": [
        {
          "name": "stdout",
          "output_type": "stream",
          "text": [
            "<class 'pandas.core.frame.DataFrame'>\n",
            "RangeIndex: 4410 entries, 0 to 4409\n",
            "Data columns (total 44 columns):\n",
            " #   Column                             Non-Null Count  Dtype  \n",
            "---  ------                             --------------  -----  \n",
            " 0   Age                                4410 non-null   float64\n",
            " 1   DistanceFromHome                   4410 non-null   float64\n",
            " 2   Education                          4410 non-null   float64\n",
            " 3   JobLevel                           4410 non-null   float64\n",
            " 4   MonthlyIncome                      4410 non-null   float64\n",
            " 5   NumCompaniesWorked                 4410 non-null   float64\n",
            " 6   PercentSalaryHike                  4410 non-null   float64\n",
            " 7   StockOptionLevel                   4410 non-null   float64\n",
            " 8   TotalWorkingYears                  4410 non-null   float64\n",
            " 9   TrainingTimesLastYear              4410 non-null   float64\n",
            " 10  YearsAtCompany                     4410 non-null   float64\n",
            " 11  YearsSinceLastPromotion            4410 non-null   float64\n",
            " 12  YearsWithCurrManager               4410 non-null   float64\n",
            " 13  EnvironmentSatisfaction            4410 non-null   float64\n",
            " 14  JobSatisfaction                    4410 non-null   float64\n",
            " 15  WorkLifeBalance                    4410 non-null   float64\n",
            " 16  JobInvolvement                     4410 non-null   float64\n",
            " 17  PerformanceRating                  4410 non-null   float64\n",
            " 18  BusinessTravel_Non-Travel          4410 non-null   float64\n",
            " 19  BusinessTravel_Travel_Frequently   4410 non-null   float64\n",
            " 20  BusinessTravel_Travel_Rarely       4410 non-null   float64\n",
            " 21  Department_Human Resources         4410 non-null   float64\n",
            " 22  Department_Research & Development  4410 non-null   float64\n",
            " 23  Department_Sales                   4410 non-null   float64\n",
            " 24  EducationField_Human Resources     4410 non-null   float64\n",
            " 25  EducationField_Life Sciences       4410 non-null   float64\n",
            " 26  EducationField_Marketing           4410 non-null   float64\n",
            " 27  EducationField_Medical             4410 non-null   float64\n",
            " 28  EducationField_Other               4410 non-null   float64\n",
            " 29  EducationField_Technical Degree    4410 non-null   float64\n",
            " 30  Gender_Female                      4410 non-null   float64\n",
            " 31  Gender_Male                        4410 non-null   float64\n",
            " 32  JobRole_Healthcare Representative  4410 non-null   float64\n",
            " 33  JobRole_Human Resources            4410 non-null   float64\n",
            " 34  JobRole_Laboratory Technician      4410 non-null   float64\n",
            " 35  JobRole_Manager                    4410 non-null   float64\n",
            " 36  JobRole_Manufacturing Director     4410 non-null   float64\n",
            " 37  JobRole_Research Director          4410 non-null   float64\n",
            " 38  JobRole_Research Scientist         4410 non-null   float64\n",
            " 39  JobRole_Sales Executive            4410 non-null   float64\n",
            " 40  JobRole_Sales Representative       4410 non-null   float64\n",
            " 41  MaritalStatus_Divorced             4410 non-null   float64\n",
            " 42  MaritalStatus_Married              4410 non-null   float64\n",
            " 43  MaritalStatus_Single               4410 non-null   float64\n",
            "dtypes: float64(44)\n",
            "memory usage: 1.5 MB\n"
          ]
        }
      ],
      "source": [
        "X.info()"
      ]
    },
    {
      "cell_type": "markdown",
      "metadata": {
        "id": "o9e8ANL-z9mN"
      },
      "source": [
        "#Validación de modelo utilizando K fold cross validation"
      ]
    },
    {
      "cell_type": "code",
      "execution_count": 73,
      "metadata": {
        "colab": {
          "base_uri": "https://localhost:8080/",
          "height": 206
        },
        "id": "ACPuLeOS0URP",
        "outputId": "1a611d9d-1a6d-40af-d8f9-6ecebe89d8eb"
      },
      "outputs": [
        {
          "data": {
            "text/html": [
              "<div>\n",
              "<style scoped>\n",
              "    .dataframe tbody tr th:only-of-type {\n",
              "        vertical-align: middle;\n",
              "    }\n",
              "\n",
              "    .dataframe tbody tr th {\n",
              "        vertical-align: top;\n",
              "    }\n",
              "\n",
              "    .dataframe thead th {\n",
              "        text-align: right;\n",
              "    }\n",
              "</style>\n",
              "<table border=\"1\" class=\"dataframe\">\n",
              "  <thead>\n",
              "    <tr style=\"text-align: right;\">\n",
              "      <th></th>\n",
              "      <th>rl</th>\n",
              "      <th>dt</th>\n",
              "      <th>rf</th>\n",
              "      <th>gb</th>\n",
              "      <th>rl_Sel</th>\n",
              "      <th>dt_sel</th>\n",
              "      <th>rf_sel</th>\n",
              "      <th>gb_Sel</th>\n",
              "    </tr>\n",
              "  </thead>\n",
              "  <tbody>\n",
              "    <tr>\n",
              "      <th>0</th>\n",
              "      <td>0.219355</td>\n",
              "      <td>0.992248</td>\n",
              "      <td>1.000000</td>\n",
              "      <td>0.577540</td>\n",
              "      <td>0.045113</td>\n",
              "      <td>0.992248</td>\n",
              "      <td>1.000000</td>\n",
              "      <td>0.482759</td>\n",
              "    </tr>\n",
              "    <tr>\n",
              "      <th>1</th>\n",
              "      <td>0.230769</td>\n",
              "      <td>0.693467</td>\n",
              "      <td>0.790698</td>\n",
              "      <td>0.428571</td>\n",
              "      <td>0.030075</td>\n",
              "      <td>0.680203</td>\n",
              "      <td>0.796296</td>\n",
              "      <td>0.331288</td>\n",
              "    </tr>\n",
              "    <tr>\n",
              "      <th>2</th>\n",
              "      <td>0.219355</td>\n",
              "      <td>1.000000</td>\n",
              "      <td>1.000000</td>\n",
              "      <td>0.609626</td>\n",
              "      <td>0.044776</td>\n",
              "      <td>1.000000</td>\n",
              "      <td>1.000000</td>\n",
              "      <td>0.491429</td>\n",
              "    </tr>\n",
              "    <tr>\n",
              "      <th>3</th>\n",
              "      <td>0.220779</td>\n",
              "      <td>0.693467</td>\n",
              "      <td>0.737864</td>\n",
              "      <td>0.431138</td>\n",
              "      <td>0.045113</td>\n",
              "      <td>0.693467</td>\n",
              "      <td>0.785047</td>\n",
              "      <td>0.305732</td>\n",
              "    </tr>\n",
              "    <tr>\n",
              "      <th>4</th>\n",
              "      <td>0.208092</td>\n",
              "      <td>0.806250</td>\n",
              "      <td>0.809969</td>\n",
              "      <td>0.507463</td>\n",
              "      <td>0.044118</td>\n",
              "      <td>0.809969</td>\n",
              "      <td>0.806250</td>\n",
              "      <td>0.427083</td>\n",
              "    </tr>\n",
              "  </tbody>\n",
              "</table>\n",
              "</div>"
            ],
            "text/plain": [
              "         rl        dt        rf        gb    rl_Sel    dt_sel    rf_sel  \\\n",
              "0  0.219355  0.992248  1.000000  0.577540  0.045113  0.992248  1.000000   \n",
              "1  0.230769  0.693467  0.790698  0.428571  0.030075  0.680203  0.796296   \n",
              "2  0.219355  1.000000  1.000000  0.609626  0.044776  1.000000  1.000000   \n",
              "3  0.220779  0.693467  0.737864  0.431138  0.045113  0.693467  0.785047   \n",
              "4  0.208092  0.806250  0.809969  0.507463  0.044118  0.809969  0.806250   \n",
              "\n",
              "     gb_Sel  \n",
              "0  0.482759  \n",
              "1  0.331288  \n",
              "2  0.491429  \n",
              "3  0.305732  \n",
              "4  0.427083  "
            ]
          },
          "execution_count": 73,
          "metadata": {},
          "output_type": "execute_result"
        }
      ],
      "source": [
        "f1_full=fn.medir_modelos(modelos,\"f1\",X,y,5) ## base con todas las variables\n",
        "f1_varsel=fn.medir_modelos(modelos,\"f1\",X2,y,5) ### base con variables seleccionadas\n",
        "\n",
        "\n",
        "F1=pd.concat([f1_full,f1_varsel],axis=1)\n",
        "F1.columns=['rl', 'dt', 'rf', 'gb',\n",
        "       'rl_Sel', 'dt_sel', 'rf_sel', 'gb_Sel']\n",
        "F1\n",
        "\n"
      ]
    },
    {
      "cell_type": "code",
      "execution_count": 74,
      "metadata": {
        "colab": {
          "base_uri": "https://localhost:8080/",
          "height": 748
        },
        "id": "A8CNDkQs3H9S",
        "outputId": "373aa77e-d100-445d-bbbc-9a090081a548"
      },
      "outputs": [
        {
          "data": {
            "text/plain": [
              "rl        0.219670\n",
              "dt        0.837087\n",
              "rf        0.867706\n",
              "gb        0.510868\n",
              "rl_Sel    0.041839\n",
              "dt_sel    0.835177\n",
              "rf_sel    0.877519\n",
              "gb_Sel    0.407658\n",
              "dtype: float64"
            ]
          },
          "execution_count": 74,
          "metadata": {},
          "output_type": "execute_result"
        },
        {
          "data": {
            "image/png": "[encoded data removed]",
            "text/plain": [
              "<Figure size 640x480 with 1 Axes>"
            ]
          },
          "metadata": {},
          "output_type": "display_data"
        }
      ],
      "source": [
        "F1_2=F1[ ['dt', 'rf', 'gb', 'dt_sel', 'rf_sel', 'gb_Sel']]\n",
        "F1_2.plot(kind='box') ### gráfico para modelos sel y todas las variables\n",
        "\n",
        "F1.mean() ### medias de mape"
      ]
    },
    {
      "cell_type": "markdown",
      "metadata": {
        "id": "J2TOj2_WFo-3"
      },
      "source": [
        "#Evaluación_accuracy"
      ]
    },
    {
      "cell_type": "code",
      "execution_count": 75,
      "metadata": {
        "colab": {
          "base_uri": "https://localhost:8080/",
          "height": 206
        },
        "id": "3aj8jVhkFtic",
        "outputId": "d2cbdb70-924c-48b2-d0ce-17e295a4fe2c"
      },
      "outputs": [
        {
          "data": {
            "text/html": [
              "<div>\n",
              "<style scoped>\n",
              "    .dataframe tbody tr th:only-of-type {\n",
              "        vertical-align: middle;\n",
              "    }\n",
              "\n",
              "    .dataframe tbody tr th {\n",
              "        vertical-align: top;\n",
              "    }\n",
              "\n",
              "    .dataframe thead th {\n",
              "        text-align: right;\n",
              "    }\n",
              "</style>\n",
              "<table border=\"1\" class=\"dataframe\">\n",
              "  <thead>\n",
              "    <tr style=\"text-align: right;\">\n",
              "      <th></th>\n",
              "      <th>rl</th>\n",
              "      <th>dt</th>\n",
              "      <th>rf</th>\n",
              "      <th>gb</th>\n",
              "      <th>rl_Sel</th>\n",
              "      <th>dt_sel</th>\n",
              "      <th>rf_sel</th>\n",
              "      <th>gb_Sel</th>\n",
              "    </tr>\n",
              "  </thead>\n",
              "  <tbody>\n",
              "    <tr>\n",
              "      <th>0</th>\n",
              "      <td>0.862812</td>\n",
              "      <td>0.996599</td>\n",
              "      <td>1.000000</td>\n",
              "      <td>0.910431</td>\n",
              "      <td>0.856009</td>\n",
              "      <td>0.997732</td>\n",
              "      <td>1.000000</td>\n",
              "      <td>0.897959</td>\n",
              "    </tr>\n",
              "    <tr>\n",
              "      <th>1</th>\n",
              "      <td>0.863946</td>\n",
              "      <td>0.930839</td>\n",
              "      <td>0.945578</td>\n",
              "      <td>0.891156</td>\n",
              "      <td>0.853741</td>\n",
              "      <td>0.928571</td>\n",
              "      <td>0.945578</td>\n",
              "      <td>0.876417</td>\n",
              "    </tr>\n",
              "    <tr>\n",
              "      <th>2</th>\n",
              "      <td>0.862812</td>\n",
              "      <td>0.998866</td>\n",
              "      <td>1.000000</td>\n",
              "      <td>0.917234</td>\n",
              "      <td>0.854875</td>\n",
              "      <td>1.000000</td>\n",
              "      <td>1.000000</td>\n",
              "      <td>0.899093</td>\n",
              "    </tr>\n",
              "    <tr>\n",
              "      <th>3</th>\n",
              "      <td>0.863946</td>\n",
              "      <td>0.930839</td>\n",
              "      <td>0.938776</td>\n",
              "      <td>0.892290</td>\n",
              "      <td>0.856009</td>\n",
              "      <td>0.930839</td>\n",
              "      <td>0.944444</td>\n",
              "      <td>0.876417</td>\n",
              "    </tr>\n",
              "    <tr>\n",
              "      <th>4</th>\n",
              "      <td>0.844671</td>\n",
              "      <td>0.929705</td>\n",
              "      <td>0.930839</td>\n",
              "      <td>0.887755</td>\n",
              "      <td>0.852608</td>\n",
              "      <td>0.930839</td>\n",
              "      <td>0.929705</td>\n",
              "      <td>0.875283</td>\n",
              "    </tr>\n",
              "  </tbody>\n",
              "</table>\n",
              "</div>"
            ],
            "text/plain": [
              "         rl        dt        rf        gb    rl_Sel    dt_sel    rf_sel  \\\n",
              "0  0.862812  0.996599  1.000000  0.910431  0.856009  0.997732  1.000000   \n",
              "1  0.863946  0.930839  0.945578  0.891156  0.853741  0.928571  0.945578   \n",
              "2  0.862812  0.998866  1.000000  0.917234  0.854875  1.000000  1.000000   \n",
              "3  0.863946  0.930839  0.938776  0.892290  0.856009  0.930839  0.944444   \n",
              "4  0.844671  0.929705  0.930839  0.887755  0.852608  0.930839  0.929705   \n",
              "\n",
              "     gb_Sel  \n",
              "0  0.897959  \n",
              "1  0.876417  \n",
              "2  0.899093  \n",
              "3  0.876417  \n",
              "4  0.875283  "
            ]
          },
          "execution_count": 75,
          "metadata": {},
          "output_type": "execute_result"
        }
      ],
      "source": [
        "accuracy_full=fn.medir_modelos(modelos,\"accuracy\",X,y,5) ## base con todas las variables\n",
        "accuracy_varsel=fn.medir_modelos(modelos,\"accuracy\",X2,y,5) ### base con variables seleccionadas\n",
        "\n",
        "\n",
        "accuracy=pd.concat([accuracy_full,accuracy_varsel],axis=1)\n",
        "accuracy.columns=['rl', 'dt', 'rf', 'gb',\n",
        "       'rl_Sel', 'dt_sel', 'rf_sel', 'gb_Sel']\n",
        "accuracy"
      ]
    },
    {
      "cell_type": "code",
      "execution_count": 76,
      "metadata": {
        "colab": {
          "base_uri": "https://localhost:8080/",
          "height": 748
        },
        "id": "Qx5Y0il7Hn_a",
        "outputId": "76d4bcd6-248a-416a-a29f-a5bb9f057eed"
      },
      "outputs": [
        {
          "data": {
            "text/plain": [
              "rl        0.859637\n",
              "dt        0.957370\n",
              "rf        0.963039\n",
              "gb        0.899773\n",
              "rl_Sel    0.854649\n",
              "dt_sel    0.957596\n",
              "rf_sel    0.963946\n",
              "gb_Sel    0.885034\n",
              "dtype: float64"
            ]
          },
          "execution_count": 76,
          "metadata": {},
          "output_type": "execute_result"
        },
        {
          "data": {
            "image/png": "[encoded data removed]",
            "text/plain": [
              "<Figure size 640x480 with 1 Axes>"
            ]
          },
          "metadata": {},
          "output_type": "display_data"
        }
      ],
      "source": [
        "accuracy_2=accuracy[ ['dt', 'rf', 'gb', 'dt_sel', 'rf_sel', 'gb_Sel']]\n",
        "accuracy_2.plot(kind='box') ### gráfico para modelos sel y todas las variables\n",
        "accuracy.mean() ### medias de mape"
      ]
    },
    {
      "cell_type": "markdown",
      "metadata": {},
      "source": [
        "Comparación de metricas (F1 vs Accuracy) de acuerdo al modelo"
      ]
    },
    {
      "cell_type": "code",
      "execution_count": 77,
      "metadata": {},
      "outputs": [
        {
          "data": {
            "text/html": [
              "<div>\n",
              "<style scoped>\n",
              "    .dataframe tbody tr th:only-of-type {\n",
              "        vertical-align: middle;\n",
              "    }\n",
              "\n",
              "    .dataframe tbody tr th {\n",
              "        vertical-align: top;\n",
              "    }\n",
              "\n",
              "    .dataframe thead th {\n",
              "        text-align: right;\n",
              "    }\n",
              "</style>\n",
              "<table border=\"1\" class=\"dataframe\">\n",
              "  <thead>\n",
              "    <tr style=\"text-align: right;\">\n",
              "      <th></th>\n",
              "      <th>Model</th>\n",
              "      <th>F1_Average</th>\n",
              "      <th>Accuracy_Average</th>\n",
              "    </tr>\n",
              "  </thead>\n",
              "  <tbody>\n",
              "    <tr>\n",
              "      <th>0</th>\n",
              "      <td>reg_lineal</td>\n",
              "      <td>0.219670</td>\n",
              "      <td>0.859637</td>\n",
              "    </tr>\n",
              "    <tr>\n",
              "      <th>1</th>\n",
              "      <td>decision_tree</td>\n",
              "      <td>0.837087</td>\n",
              "      <td>0.957370</td>\n",
              "    </tr>\n",
              "    <tr>\n",
              "      <th>2</th>\n",
              "      <td>random_forest</td>\n",
              "      <td>0.867706</td>\n",
              "      <td>0.963039</td>\n",
              "    </tr>\n",
              "    <tr>\n",
              "      <th>3</th>\n",
              "      <td>gradient_boosting</td>\n",
              "      <td>0.510868</td>\n",
              "      <td>0.899773</td>\n",
              "    </tr>\n",
              "  </tbody>\n",
              "</table>\n",
              "</div>"
            ],
            "text/plain": [
              "               Model  F1_Average  Accuracy_Average\n",
              "0         reg_lineal    0.219670          0.859637\n",
              "1      decision_tree    0.837087          0.957370\n",
              "2      random_forest    0.867706          0.963039\n",
              "3  gradient_boosting    0.510868          0.899773"
            ]
          },
          "execution_count": 77,
          "metadata": {},
          "output_type": "execute_result"
        }
      ],
      "source": [
        "# Tabla con promedio de métricas con todas las variables\n",
        "average_metrics_full = pd.DataFrame({\n",
        "    'Model': ['reg_lineal', 'decision_tree', 'random_forest', 'gradient_boosting'],\n",
        "    'F1_Average': [F1['rl'].mean(), F1['dt'].mean(), F1['rf'].mean(), F1['gb'].mean()],\n",
        "    'Accuracy_Average': [accuracy['rl'].mean(), accuracy['dt'].mean(), accuracy['rf'].mean(), accuracy['gb'].mean()]\n",
        "})\n",
        "average_metrics_full"
      ]
    },
    {
      "cell_type": "code",
      "execution_count": 78,
      "metadata": {},
      "outputs": [
        {
          "data": {
            "text/html": [
              "<div>\n",
              "<style scoped>\n",
              "    .dataframe tbody tr th:only-of-type {\n",
              "        vertical-align: middle;\n",
              "    }\n",
              "\n",
              "    .dataframe tbody tr th {\n",
              "        vertical-align: top;\n",
              "    }\n",
              "\n",
              "    .dataframe thead th {\n",
              "        text-align: right;\n",
              "    }\n",
              "</style>\n",
              "<table border=\"1\" class=\"dataframe\">\n",
              "  <thead>\n",
              "    <tr style=\"text-align: right;\">\n",
              "      <th></th>\n",
              "      <th>Model</th>\n",
              "      <th>F1_Average</th>\n",
              "      <th>Accuracy_Average</th>\n",
              "    </tr>\n",
              "  </thead>\n",
              "  <tbody>\n",
              "    <tr>\n",
              "      <th>0</th>\n",
              "      <td>reg_lineal_sel</td>\n",
              "      <td>0.041839</td>\n",
              "      <td>0.854649</td>\n",
              "    </tr>\n",
              "    <tr>\n",
              "      <th>1</th>\n",
              "      <td>decision_tree_sel</td>\n",
              "      <td>0.835177</td>\n",
              "      <td>0.957596</td>\n",
              "    </tr>\n",
              "    <tr>\n",
              "      <th>2</th>\n",
              "      <td>random_forest_sel</td>\n",
              "      <td>0.877519</td>\n",
              "      <td>0.963946</td>\n",
              "    </tr>\n",
              "    <tr>\n",
              "      <th>3</th>\n",
              "      <td>gradient_boosting_sel</td>\n",
              "      <td>0.407658</td>\n",
              "      <td>0.885034</td>\n",
              "    </tr>\n",
              "  </tbody>\n",
              "</table>\n",
              "</div>"
            ],
            "text/plain": [
              "                   Model  F1_Average  Accuracy_Average\n",
              "0         reg_lineal_sel    0.041839          0.854649\n",
              "1      decision_tree_sel    0.835177          0.957596\n",
              "2      random_forest_sel    0.877519          0.963946\n",
              "3  gradient_boosting_sel    0.407658          0.885034"
            ]
          },
          "execution_count": 78,
          "metadata": {},
          "output_type": "execute_result"
        }
      ],
      "source": [
        "# Tabla con promedio de métricas segun Variables Seleccionadas\n",
        "average_metrics_varsel = pd.DataFrame({\n",
        "    'Model': ['reg_lineal_sel', 'decision_tree_sel', 'random_forest_sel', 'gradient_boosting_sel'],\n",
        "    'F1_Average': [F1['rl_Sel'].mean(), F1['dt_sel'].mean(), F1['rf_sel'].mean(), F1['gb_Sel'].mean()],\n",
        "    'Accuracy_Average': [accuracy['rl_Sel'].mean(), accuracy['dt_sel'].mean(), accuracy['rf_sel'].mean(), accuracy['gb_Sel'].mean()]\n",
        "})\n",
        "average_metrics_varsel"
      ]
    },
    {
      "cell_type": "markdown",
      "metadata": {},
      "source": [
        "## Respuesta de mejores modelos según métricas\n",
        "\n",
        "En la grafica boxplot y las tablas de las metricas, se visualiza los algoritmos con mejor rendimiento como el algoritmo arboles de decision y bosques aleatorios, se puede notar una mejora cuando se aplican a las variables seleccionadas mediante la funcion de selección de variables.\n",
        "\n",
        "Por lo anterior se procede a realizar el tuneo de hiperparametros para estos dos modelo los cuales tuvieron mejor desempeño"
      ]
    },
    {
      "cell_type": "markdown",
      "metadata": {},
      "source": [
        "# Tuneo de hiperparametros"
      ]
    },
    {
      "cell_type": "markdown",
      "metadata": {},
      "source": [
        "## Arboles de decisión"
      ]
    },
    {
      "cell_type": "code",
      "execution_count": 79,
      "metadata": {},
      "outputs": [
        {
          "name": "stdout",
          "output_type": "stream",
          "text": [
            "{'min_samples_split': 10, 'min_samples_leaf': 5, 'max_depth': None}\n"
          ]
        },
        {
          "data": {
            "text/html": [
              "<div>\n",
              "<style scoped>\n",
              "    .dataframe tbody tr th:only-of-type {\n",
              "        vertical-align: middle;\n",
              "    }\n",
              "\n",
              "    .dataframe tbody tr th {\n",
              "        vertical-align: top;\n",
              "    }\n",
              "\n",
              "    .dataframe thead th {\n",
              "        text-align: right;\n",
              "    }\n",
              "</style>\n",
              "<table border=\"1\" class=\"dataframe\">\n",
              "  <thead>\n",
              "    <tr style=\"text-align: right;\">\n",
              "      <th></th>\n",
              "      <th>params</th>\n",
              "      <th>mean_test_score</th>\n",
              "    </tr>\n",
              "  </thead>\n",
              "  <tbody>\n",
              "    <tr>\n",
              "      <th>0</th>\n",
              "      <td>{'min_samples_split': 20, 'min_samples_leaf': 10, 'max_depth': 7}</td>\n",
              "      <td>0.874376</td>\n",
              "    </tr>\n",
              "    <tr>\n",
              "      <th>1</th>\n",
              "      <td>{'min_samples_split': 20, 'min_samples_leaf': 20, 'max_depth': None}</td>\n",
              "      <td>0.868481</td>\n",
              "    </tr>\n",
              "    <tr>\n",
              "      <th>2</th>\n",
              "      <td>{'min_samples_split': 5, 'min_samples_leaf': 1, 'max_depth': 7}</td>\n",
              "      <td>0.886168</td>\n",
              "    </tr>\n",
              "    <tr>\n",
              "      <th>3</th>\n",
              "      <td>{'min_samples_split': 10, 'min_samples_leaf': 5, 'max_depth': 11}</td>\n",
              "      <td>0.899320</td>\n",
              "    </tr>\n",
              "    <tr>\n",
              "      <th>4</th>\n",
              "      <td>{'min_samples_split': 2, 'min_samples_leaf': 5, 'max_depth': 9}</td>\n",
              "      <td>0.893651</td>\n",
              "    </tr>\n",
              "    <tr>\n",
              "      <th>5</th>\n",
              "      <td>{'min_samples_split': 5, 'min_samples_leaf': 10, 'max_depth': 11}</td>\n",
              "      <td>0.877324</td>\n",
              "    </tr>\n",
              "    <tr>\n",
              "      <th>6</th>\n",
              "      <td>{'min_samples_split': 10, 'min_samples_leaf': 10, 'max_depth': 5}</td>\n",
              "      <td>0.861451</td>\n",
              "    </tr>\n",
              "    <tr>\n",
              "      <th>7</th>\n",
              "      <td>{'min_samples_split': 10, 'min_samples_leaf': 20, 'max_depth': None}</td>\n",
              "      <td>0.868481</td>\n",
              "    </tr>\n",
              "    <tr>\n",
              "      <th>8</th>\n",
              "      <td>{'min_samples_split': 20, 'min_samples_leaf': 5, 'max_depth': 7}</td>\n",
              "      <td>0.875510</td>\n",
              "    </tr>\n",
              "    <tr>\n",
              "      <th>9</th>\n",
              "      <td>{'min_samples_split': 10, 'min_samples_leaf': 5, 'max_depth': None}</td>\n",
              "      <td>0.906576</td>\n",
              "    </tr>\n",
              "  </tbody>\n",
              "</table>\n",
              "</div>"
            ],
            "text/plain": [
              "                                                                 params  \\\n",
              "0     {'min_samples_split': 20, 'min_samples_leaf': 10, 'max_depth': 7}   \n",
              "1  {'min_samples_split': 20, 'min_samples_leaf': 20, 'max_depth': None}   \n",
              "2       {'min_samples_split': 5, 'min_samples_leaf': 1, 'max_depth': 7}   \n",
              "3     {'min_samples_split': 10, 'min_samples_leaf': 5, 'max_depth': 11}   \n",
              "4       {'min_samples_split': 2, 'min_samples_leaf': 5, 'max_depth': 9}   \n",
              "5     {'min_samples_split': 5, 'min_samples_leaf': 10, 'max_depth': 11}   \n",
              "6     {'min_samples_split': 10, 'min_samples_leaf': 10, 'max_depth': 5}   \n",
              "7  {'min_samples_split': 10, 'min_samples_leaf': 20, 'max_depth': None}   \n",
              "8      {'min_samples_split': 20, 'min_samples_leaf': 5, 'max_depth': 7}   \n",
              "9   {'min_samples_split': 10, 'min_samples_leaf': 5, 'max_depth': None}   \n",
              "\n",
              "   mean_test_score  \n",
              "0         0.874376  \n",
              "1         0.868481  \n",
              "2         0.886168  \n",
              "3         0.899320  \n",
              "4         0.893651  \n",
              "5         0.877324  \n",
              "6         0.861451  \n",
              "7         0.868481  \n",
              "8         0.875510  \n",
              "9         0.906576  "
            ]
          },
          "metadata": {},
          "output_type": "display_data"
        }
      ],
      "source": [
        "param_grid = [{'max_depth': [3, 5, 7, 9, 11, None], \n",
        "               'min_samples_split': [2, 5, 10, 20], \n",
        "               'min_samples_leaf': [1, 5, 10, 20]}]\n",
        "\n",
        "tun_rtree = RandomizedSearchCV(m_rtree, param_distributions=param_grid, n_iter=10, scoring=\"accuracy\")\n",
        "tun_rtree.fit(X2, y)\n",
        "\n",
        "pd.set_option('display.max_colwidth', 100)\n",
        "resultados = tun_rtree.cv_results_\n",
        "print(tun_rtree.best_params_)\n",
        "pd_resultados = pd.DataFrame(resultados)\n",
        "display(pd_resultados[[\"params\", \"mean_test_score\"]])\n",
        "rtree_final = tun_rtree.best_estimator_"
      ]
    },
    {
      "cell_type": "markdown",
      "metadata": {},
      "source": [
        "## Bosques Aleatorios"
      ]
    },
    {
      "cell_type": "code",
      "execution_count": 80,
      "metadata": {},
      "outputs": [
        {
          "data": {
            "text/html": [
              "<div>\n",
              "<style scoped>\n",
              "    .dataframe tbody tr th:only-of-type {\n",
              "        vertical-align: middle;\n",
              "    }\n",
              "\n",
              "    .dataframe tbody tr th {\n",
              "        vertical-align: top;\n",
              "    }\n",
              "\n",
              "    .dataframe thead th {\n",
              "        text-align: right;\n",
              "    }\n",
              "</style>\n",
              "<table border=\"1\" class=\"dataframe\">\n",
              "  <thead>\n",
              "    <tr style=\"text-align: right;\">\n",
              "      <th></th>\n",
              "      <th>params</th>\n",
              "      <th>mean_test_score</th>\n",
              "    </tr>\n",
              "  </thead>\n",
              "  <tbody>\n",
              "    <tr>\n",
              "      <th>0</th>\n",
              "      <td>{'n_estimators': 3, 'min_samples_split': 5, 'max_features': 5}</td>\n",
              "      <td>0.955556</td>\n",
              "    </tr>\n",
              "    <tr>\n",
              "      <th>1</th>\n",
              "      <td>{'n_estimators': 100, 'min_samples_split': 100, 'max_features': 20}</td>\n",
              "      <td>0.865079</td>\n",
              "    </tr>\n",
              "    <tr>\n",
              "      <th>2</th>\n",
              "      <td>{'n_estimators': 3, 'min_samples_split': 20, 'max_features': 5}</td>\n",
              "      <td>0.908390</td>\n",
              "    </tr>\n",
              "    <tr>\n",
              "      <th>3</th>\n",
              "      <td>{'n_estimators': 3, 'min_samples_split': 5, 'max_features': 20}</td>\n",
              "      <td>0.955329</td>\n",
              "    </tr>\n",
              "    <tr>\n",
              "      <th>4</th>\n",
              "      <td>{'n_estimators': 100, 'min_samples_split': 20, 'max_features': 20}</td>\n",
              "      <td>0.921995</td>\n",
              "    </tr>\n",
              "    <tr>\n",
              "      <th>5</th>\n",
              "      <td>{'n_estimators': 500, 'min_samples_split': 100, 'max_features': 20}</td>\n",
              "      <td>0.864853</td>\n",
              "    </tr>\n",
              "    <tr>\n",
              "      <th>6</th>\n",
              "      <td>{'n_estimators': 3, 'min_samples_split': 100, 'max_features': 5}</td>\n",
              "      <td>0.863946</td>\n",
              "    </tr>\n",
              "    <tr>\n",
              "      <th>7</th>\n",
              "      <td>{'n_estimators': 3, 'min_samples_split': 20, 'max_features': 20}</td>\n",
              "      <td>0.912018</td>\n",
              "    </tr>\n",
              "    <tr>\n",
              "      <th>8</th>\n",
              "      <td>{'n_estimators': 100, 'min_samples_split': 5, 'max_features': 20}</td>\n",
              "      <td>0.961224</td>\n",
              "    </tr>\n",
              "    <tr>\n",
              "      <th>9</th>\n",
              "      <td>{'n_estimators': 3, 'min_samples_split': 100, 'max_features': 20}</td>\n",
              "      <td>0.867347</td>\n",
              "    </tr>\n",
              "  </tbody>\n",
              "</table>\n",
              "</div>"
            ],
            "text/plain": [
              "                                                                params  \\\n",
              "0       {'n_estimators': 3, 'min_samples_split': 5, 'max_features': 5}   \n",
              "1  {'n_estimators': 100, 'min_samples_split': 100, 'max_features': 20}   \n",
              "2      {'n_estimators': 3, 'min_samples_split': 20, 'max_features': 5}   \n",
              "3      {'n_estimators': 3, 'min_samples_split': 5, 'max_features': 20}   \n",
              "4   {'n_estimators': 100, 'min_samples_split': 20, 'max_features': 20}   \n",
              "5  {'n_estimators': 500, 'min_samples_split': 100, 'max_features': 20}   \n",
              "6     {'n_estimators': 3, 'min_samples_split': 100, 'max_features': 5}   \n",
              "7     {'n_estimators': 3, 'min_samples_split': 20, 'max_features': 20}   \n",
              "8    {'n_estimators': 100, 'min_samples_split': 5, 'max_features': 20}   \n",
              "9    {'n_estimators': 3, 'min_samples_split': 100, 'max_features': 20}   \n",
              "\n",
              "   mean_test_score  \n",
              "0         0.955556  \n",
              "1         0.865079  \n",
              "2         0.908390  \n",
              "3         0.955329  \n",
              "4         0.921995  \n",
              "5         0.864853  \n",
              "6         0.863946  \n",
              "7         0.912018  \n",
              "8         0.961224  \n",
              "9         0.867347  "
            ]
          },
          "metadata": {},
          "output_type": "display_data"
        }
      ],
      "source": [
        "param_grid = [{'n_estimators': [3, 500, 100], 'max_features': [5,20],\n",
        "               'min_samples_split': [100, 20, 5]}]\n",
        "\n",
        "tun_rf=RandomizedSearchCV(m_rf,param_distributions=param_grid,n_iter=10,scoring=\"accuracy\")\n",
        "tun_rf.fit(X2,y)\n",
        "\n",
        "\n",
        "pd.set_option('display.max_colwidth', 100)\n",
        "resultados=tun_rf.cv_results_\n",
        "tun_rf.best_params_\n",
        "pd_resultados=pd.DataFrame(resultados)\n",
        "pd_resultados[[\"params\",\"mean_test_score\"]].sort_values(by=\"mean_test_score\", ascending=False)\n",
        "display(pd_resultados[[\"params\", \"mean_test_score\"]])\n",
        "rf_final=tun_rf.best_estimator_"
      ]
    },
    {
      "cell_type": "markdown",
      "metadata": {},
      "source": [
        "# Exportar y guardar objetos de python"
      ]
    },
    {
      "cell_type": "code",
      "execution_count": 81,
      "metadata": {},
      "outputs": [
        {
          "name": "stdout",
          "output_type": "stream",
          "text": [
            "True\n",
            "True\n"
          ]
        }
      ],
      "source": [
        "joblib.dump(rf_final, \"salidas\\\\rf_final.pkl\")\n",
        "joblib.dump(m_lreg, \"salidas\\\\m_lreg.pkl\")\n",
        "joblib.dump(rtree_final, \"salidas\\\\rtree_final.pkl\")\n",
        "joblib.dump(list_dummies, \"salidas\\\\list_dummies.pkl\")  ### Las variables que se convierten a dummies\n",
        "joblib.dump(var_names, \"salidas\\\\var_names.pkl\")  ### las variables con que se entrena modelo\n",
        "joblib.dump(scaler, \"salidas\\\\scaler.pkl\")\n",
        "\n",
        "\n",
        "### funcion para cargar objeto guardado ###\n",
        "rf_final = joblib.load(\"salidas\\\\rf_final.pkl\")\n",
        "rtree_final = joblib.load(\"salidas\\\\rtree_final.pkl\")\n",
        "from sklearn.model_selection import cross_validate\n",
        "from sklearn.metrics import mean_squared_error\n",
        "\n",
        "list_dummies=joblib.load(\"salidas\\\\list_dummies.pkl\")\n",
        "var_names=joblib.load(\"salidas\\\\var_names.pkl\")\n",
        "scaler=joblib.load(\"salidas\\\\scaler.pkl\") \n",
        "\n",
        "print(hasattr(rf_final, 'fit'))  # Si es True, rf_final tiene un método fit\n",
        "print(hasattr(rtree_final, 'fit'))  # Si es True, rtree_final tiene un método fit"
      ]
    },
    {
      "cell_type": "markdown",
      "metadata": {},
      "source": [
        "# Evaluación\n",
        "\n",
        "Metrica para el entrenamiento y evaluación para mirar sobre ajuste"
      ]
    },
    {
      "cell_type": "code",
      "execution_count": 82,
      "metadata": {},
      "outputs": [],
      "source": [
        "eval=cross_validate(rf_final,X2,y,cv=5,scoring=\"accuracy\",return_train_score=True)\n",
        "eval2=cross_validate(rtree_final,X2,y,cv=5,scoring=\"accuracy\",return_train_score=True)"
      ]
    },
    {
      "cell_type": "markdown",
      "metadata": {},
      "source": [
        "## **Resultados para  RF y DTREE**"
      ]
    },
    {
      "cell_type": "code",
      "execution_count": 83,
      "metadata": {},
      "outputs": [],
      "source": [
        "#### convertir resultado de evaluacion entrenamiento y evaluacion en data frame para RF\n",
        "train_rf=pd.DataFrame(eval['train_score'])\n",
        "test_rf=pd.DataFrame(eval['test_score'])\n",
        "train_test_rf=pd.concat([train_rf, test_rf],axis=1)\n",
        "train_test_rf.columns=['train_score','test_score']\n",
        "\n",
        "#### convertir resultado de evaluacion entrenamiento y evaluacion en data frame para RTree\n",
        "train_rtree=pd.DataFrame(eval2['train_score'])\n",
        "test_rtree=pd.DataFrame(eval2['test_score'])\n",
        "train_test_rtree=pd.concat([train_rtree, test_rtree],axis=1)\n",
        "train_test_rtree.columns=['train_score','test_score']"
      ]
    },
    {
      "cell_type": "code",
      "execution_count": 84,
      "metadata": {},
      "outputs": [
        {
          "name": "stdout",
          "output_type": "stream",
          "text": [
            "train_test_rf:\n",
            "   train_score  test_score\n",
            "0     0.982426    1.000000\n",
            "1     0.982710    0.943311\n",
            "2     0.982710    1.000000\n",
            "3     0.982710    0.942177\n",
            "4     1.000000    0.929705\n",
            "\n",
            "train_test_rtree:\n",
            "   train_score  test_score\n",
            "0     0.942177    0.942177\n",
            "1     0.943311    0.891156\n",
            "2     0.942744    0.937642\n",
            "3     0.943027    0.894558\n",
            "4     0.948413    0.871882\n"
          ]
        }
      ],
      "source": [
        "print(\"train_test_rf:\")\n",
        "print(train_test_rf)\n",
        "print(\"\\ntrain_test_rtree:\")\n",
        "print(train_test_rtree)"
      ]
    },
    {
      "cell_type": "code",
      "execution_count": 85,
      "metadata": {},
      "outputs": [
        {
          "name": "stdout",
          "output_type": "stream",
          "text": [
            "train score rf :  0.986111111111111\n",
            "\n",
            "test score rf:  0.9630385487528346\n",
            "\n",
            "train score rtree :  0.9439342403628117\n",
            "\n",
            "test score rtree:  0.907482993197279\n"
          ]
        }
      ],
      "source": [
        "print(\"train score rf : \", train_test_rf[\"train_score\"].mean())\n",
        "print(\"\\ntest score rf: \", train_test_rf[\"test_score\"].mean())\n",
        "print(\"\\ntrain score rtree : \", train_test_rtree[\"train_score\"].mean())\n",
        "print(\"\\ntest score rtree: \", train_test_rtree[\"test_score\"].mean())"
      ]
    },
    {
      "cell_type": "markdown",
      "metadata": {},
      "source": [
        "## **Importancia de variables**"
      ]
    },
    {
      "cell_type": "markdown",
      "metadata": {},
      "source": [
        "### Random Forest"
      ]
    },
    {
      "cell_type": "code",
      "execution_count": 86,
      "metadata": {},
      "outputs": [
        {
          "data": {
            "text/html": [
              "<div>\n",
              "<style scoped>\n",
              "    .dataframe tbody tr th:only-of-type {\n",
              "        vertical-align: middle;\n",
              "    }\n",
              "\n",
              "    .dataframe tbody tr th {\n",
              "        vertical-align: top;\n",
              "    }\n",
              "\n",
              "    .dataframe thead th {\n",
              "        text-align: right;\n",
              "    }\n",
              "</style>\n",
              "<table border=\"1\" class=\"dataframe\">\n",
              "  <thead>\n",
              "    <tr style=\"text-align: right;\">\n",
              "      <th></th>\n",
              "      <th>variable</th>\n",
              "      <th>peso</th>\n",
              "    </tr>\n",
              "  </thead>\n",
              "  <tbody>\n",
              "    <tr>\n",
              "      <th>4</th>\n",
              "      <td>MonthlyIncome</td>\n",
              "      <td>0.208482</td>\n",
              "    </tr>\n",
              "    <tr>\n",
              "      <th>7</th>\n",
              "      <td>TotalWorkingYears</td>\n",
              "      <td>0.138026</td>\n",
              "    </tr>\n",
              "    <tr>\n",
              "      <th>0</th>\n",
              "      <td>Age</td>\n",
              "      <td>0.137334</td>\n",
              "    </tr>\n",
              "    <tr>\n",
              "      <th>1</th>\n",
              "      <td>DistanceFromHome</td>\n",
              "      <td>0.110096</td>\n",
              "    </tr>\n",
              "    <tr>\n",
              "      <th>6</th>\n",
              "      <td>PercentSalaryHike</td>\n",
              "      <td>0.093171</td>\n",
              "    </tr>\n",
              "    <tr>\n",
              "      <th>5</th>\n",
              "      <td>NumCompaniesWorked</td>\n",
              "      <td>0.078187</td>\n",
              "    </tr>\n",
              "    <tr>\n",
              "      <th>2</th>\n",
              "      <td>EnvironmentSatisfaction</td>\n",
              "      <td>0.066988</td>\n",
              "    </tr>\n",
              "    <tr>\n",
              "      <th>8</th>\n",
              "      <td>YearsSinceLastPromotion</td>\n",
              "      <td>0.061191</td>\n",
              "    </tr>\n",
              "    <tr>\n",
              "      <th>9</th>\n",
              "      <td>YearsWithCurrManager</td>\n",
              "      <td>0.057153</td>\n",
              "    </tr>\n",
              "    <tr>\n",
              "      <th>3</th>\n",
              "      <td>JobSatisfaction</td>\n",
              "      <td>0.049373</td>\n",
              "    </tr>\n",
              "  </tbody>\n",
              "</table>\n",
              "</div>"
            ],
            "text/plain": [
              "                  variable      peso\n",
              "4            MonthlyIncome  0.208482\n",
              "7        TotalWorkingYears  0.138026\n",
              "0                      Age  0.137334\n",
              "1         DistanceFromHome  0.110096\n",
              "6        PercentSalaryHike  0.093171\n",
              "5       NumCompaniesWorked  0.078187\n",
              "2  EnvironmentSatisfaction  0.066988\n",
              "8  YearsSinceLastPromotion  0.061191\n",
              "9     YearsWithCurrManager  0.057153\n",
              "3          JobSatisfaction  0.049373"
            ]
          },
          "execution_count": 86,
          "metadata": {},
          "output_type": "execute_result"
        }
      ],
      "source": [
        "pd.set_option('display.max_rows', 100)\n",
        "importancia1=pd.DataFrame(rf_final.feature_names_in_)\n",
        "importancia2=pd.DataFrame(rf_final.feature_importances_)\n",
        "importancia=pd.concat([importancia1,importancia2],axis=1)\n",
        "importancia.columns=[\"variable\",\"peso\"]\n",
        "importancia.sort_values('peso')\n",
        "importancia.sort_values(by=[\"peso\"], ascending=False)"
      ]
    },
    {
      "cell_type": "markdown",
      "metadata": {},
      "source": [
        "### Decision Tree"
      ]
    },
    {
      "cell_type": "code",
      "execution_count": 48,
      "metadata": {},
      "outputs": [
        {
          "data": {
            "text/html": [
              "<div>\n",
              "<style scoped>\n",
              "    .dataframe tbody tr th:only-of-type {\n",
              "        vertical-align: middle;\n",
              "    }\n",
              "\n",
              "    .dataframe tbody tr th {\n",
              "        vertical-align: top;\n",
              "    }\n",
              "\n",
              "    .dataframe thead th {\n",
              "        text-align: right;\n",
              "    }\n",
              "</style>\n",
              "<table border=\"1\" class=\"dataframe\">\n",
              "  <thead>\n",
              "    <tr style=\"text-align: right;\">\n",
              "      <th></th>\n",
              "      <th>variable</th>\n",
              "      <th>peso</th>\n",
              "    </tr>\n",
              "  </thead>\n",
              "  <tbody>\n",
              "    <tr>\n",
              "      <th>4</th>\n",
              "      <td>MonthlyIncome</td>\n",
              "      <td>0.180683</td>\n",
              "    </tr>\n",
              "    <tr>\n",
              "      <th>0</th>\n",
              "      <td>Age</td>\n",
              "      <td>0.157347</td>\n",
              "    </tr>\n",
              "    <tr>\n",
              "      <th>7</th>\n",
              "      <td>TotalWorkingYears</td>\n",
              "      <td>0.148005</td>\n",
              "    </tr>\n",
              "    <tr>\n",
              "      <th>1</th>\n",
              "      <td>DistanceFromHome</td>\n",
              "      <td>0.128828</td>\n",
              "    </tr>\n",
              "    <tr>\n",
              "      <th>2</th>\n",
              "      <td>EnvironmentSatisfaction</td>\n",
              "      <td>0.108889</td>\n",
              "    </tr>\n",
              "    <tr>\n",
              "      <th>8</th>\n",
              "      <td>YearsAtCompany</td>\n",
              "      <td>0.093525</td>\n",
              "    </tr>\n",
              "    <tr>\n",
              "      <th>6</th>\n",
              "      <td>PercentSalaryHike</td>\n",
              "      <td>0.068382</td>\n",
              "    </tr>\n",
              "    <tr>\n",
              "      <th>5</th>\n",
              "      <td>NumCompaniesWorked</td>\n",
              "      <td>0.055488</td>\n",
              "    </tr>\n",
              "    <tr>\n",
              "      <th>3</th>\n",
              "      <td>JobSatisfaction</td>\n",
              "      <td>0.039614</td>\n",
              "    </tr>\n",
              "    <tr>\n",
              "      <th>9</th>\n",
              "      <td>YearsSinceLastPromotion</td>\n",
              "      <td>0.012108</td>\n",
              "    </tr>\n",
              "    <tr>\n",
              "      <th>10</th>\n",
              "      <td>YearsWithCurrManager</td>\n",
              "      <td>0.007131</td>\n",
              "    </tr>\n",
              "  </tbody>\n",
              "</table>\n",
              "</div>"
            ],
            "text/plain": [
              "                   variable      peso\n",
              "4             MonthlyIncome  0.180683\n",
              "0                       Age  0.157347\n",
              "7         TotalWorkingYears  0.148005\n",
              "1          DistanceFromHome  0.128828\n",
              "2   EnvironmentSatisfaction  0.108889\n",
              "8            YearsAtCompany  0.093525\n",
              "6         PercentSalaryHike  0.068382\n",
              "5        NumCompaniesWorked  0.055488\n",
              "3           JobSatisfaction  0.039614\n",
              "9   YearsSinceLastPromotion  0.012108\n",
              "10     YearsWithCurrManager  0.007131"
            ]
          },
          "execution_count": 48,
          "metadata": {},
          "output_type": "execute_result"
        }
      ],
      "source": [
        "importancia1=pd.DataFrame( rtree_final.feature_names_in_)\n",
        "importancia2=pd.DataFrame(rtree_final.feature_importances_)\n",
        "importancia=pd.concat([importancia1,importancia2],axis=1)\n",
        "importancia.columns=[\"variable\",\"peso\"]\n",
        "importancia.sort_values('peso')\n",
        "importancia.sort_values(by=[\"peso\"], ascending=False)"
      ]
    },
    {
      "cell_type": "markdown",
      "metadata": {},
      "source": [
        "Despues del tuneo de hiperparametros y la evaluacion el modelo que mejor desempeño mantiene  es el RandomForest el cual usaremos finalmente en el despliegue del proyecto."
      ]
    },
    {
      "cell_type": "markdown",
      "metadata": {},
      "source": [
        "# Matriz de confusión (RandomForest)"
      ]
    },
    {
      "cell_type": "code",
      "execution_count": 87,
      "metadata": {},
      "outputs": [
        {
          "name": "stdout",
          "output_type": "stream",
          "text": [
            "[[742  15]\n",
            " [ 23 102]]\n"
          ]
        },
        {
          "data": {
            "image/png": "[encoded data removed]",
            "text/plain": [
              "<Figure size 640x480 with 2 Axes>"
            ]
          },
          "metadata": {},
          "output_type": "display_data"
        }
      ],
      "source": [
        "from sklearn.metrics import confusion_matrix\n",
        "from sklearn.model_selection import train_test_split\n",
        "\n",
        "X_train, X_test, y_train, y_test = train_test_split(X2, y, test_size=0.2, random_state=42)\n",
        "rf_final.fit(X_train, y_train)\n",
        "y_pred = rf_final.predict(X_test)\n",
        "\n",
        "cm = confusion_matrix(y_test, y_pred)\n",
        "print(cm)\n",
        "\n",
        "sns.heatmap(cm, annot=True, fmt='d')\n",
        "plt.ylabel('Etiqueta verdadera')\n",
        "plt.xlabel('Etiqueta predicha')\n",
        "\n",
        "plt.show()"
      ]
    },
    {
      "cell_type": "markdown",
      "metadata": {},
      "source": [
        "Finalmente realizamos la matriz de confucion con el algoritmo de RandomForest para confirmar su desempeño y rendimiento frente a los datos."
      ]
    }
  ],
  "metadata": {
    "colab": {
      "include_colab_link": true,
      "provenance": []
    },
    "kernelspec": {
      "display_name": "Python 3",
      "name": "python3"
    },
    "language_info": {
      "codemirror_mode": {
        "name": "ipython",
        "version": 3
      },
      "file_extension": ".py",
      "mimetype": "text/x-python",
      "name": "python",
      "nbconvert_exporter": "python",
      "pygments_lexer": "ipython3",
      "version": "3.12.2"
    }
  },
  "nbformat": 4,
  "nbformat_minor": 0
}
