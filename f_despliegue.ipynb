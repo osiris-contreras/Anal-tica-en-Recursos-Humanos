{
 "cells": [
  {
   "cell_type": "markdown",
   "metadata": {},
   "source": [
    "# Despliegue"
   ]
  },
  {
   "cell_type": "code",
   "execution_count": 1,
   "metadata": {},
   "outputs": [],
   "source": [
    "import a_funciones as fn ### importar modulo de  funciones\n",
    "from a_funciones import * ### importar toddas llas funciones del archivo\n",
    "import pandas as pd ### para manejo de datos\n",
    "import sqlite3 as sql\n",
    "import joblib\n",
    "#!pip install openpyxl\n",
    "import openpyxl\n",
    "\n",
    "import numpy as np"
   ]
  },
  {
   "cell_type": "markdown",
   "metadata": {},
   "source": [
    "El despliegue consiste en dejar todo el código listo para una ejecucion automática en el periodo definido:\n",
    "En este caso se ejecutara el proceso de entrenamiento y prediccion anualmente."
   ]
  },
  {
   "cell_type": "code",
   "execution_count": 2,
   "metadata": {},
   "outputs": [],
   "source": [
    "#### conectarse a base de datos preprocesada\n",
    "\n",
    "con=sql.connect('bases de datos RRHH/datos.db')\n",
    "cur=con.cursor()"
   ]
  },
  {
   "cell_type": "code",
   "execution_count": 3,
   "metadata": {},
   "outputs": [],
   "source": [
    "#crear dataframe para el modelado(2015)\n",
    "df = pd.read_sql(\"\"\"select * from completo\n",
    "where InfoDate='2016-12-31'\n",
    "\"\"\",con=con)"
   ]
  },
  {
   "cell_type": "code",
   "execution_count": 4,
   "metadata": {},
   "outputs": [],
   "source": [
    "# Hacer la preparacion de los datos nuevos\n",
    "df_t= fn.preparar_datos(df)"
   ]
  },
  {
   "cell_type": "code",
   "execution_count": 5,
   "metadata": {},
   "outputs": [],
   "source": [
    "# Cargar modelo entrenado\n",
    "rf_final = joblib.load(\"salidas\\\\rf_final.pkl\")"
   ]
  },
  {
   "cell_type": "code",
   "execution_count": 6,
   "metadata": {},
   "outputs": [],
   "source": [
    "# Realizar predicciones\n",
    "predicciones = rf_final.predict(df_t)\n",
    "pd_pred = pd.DataFrame(predicciones, columns=['Atrition'])\n",
    "\n",
    "# Crear DataFrame con predicciones\n",
    "perf_pred = pd.concat([df['EmployeeID'], df_t, pd_pred], axis=1)\n",
    "\n",
    "# Guardar predicciones en archivos\n",
    "perf_pred[['EmployeeID', 'Atrition']].to_excel(\"salidas\\\\prediccion.xlsx\")\n",
    "#Guardar importancia de las caracteristicas a la hora de predecir\n",
    "feature_names = df_t.columns\n"
   ]
  },
  {
   "cell_type": "code",
   "execution_count": 7,
   "metadata": {},
   "outputs": [],
   "source": [
    "importances = pd.DataFrame({'Feature': feature_names, 'Importance': rf_final.feature_importances_})\n",
    "importances.to_excel(\"salidas\\\\importances.xlsx\")"
   ]
  },
  {
   "cell_type": "code",
   "execution_count": 8,
   "metadata": {},
   "outputs": [
    {
     "name": "stdout",
     "output_type": "stream",
     "text": [
      "EmployeeID                      1      2816      2817      2818      2820  \\\n",
      "Age                      1.541369  0.446350 -1.196177 -0.101159  0.227347   \n",
      "DistanceFromHome        -0.393938  0.963398  0.963398  1.950552 -0.270544   \n",
      "EnvironmentSatisfaction  0.252200  0.252200  0.252200 -0.665460  1.169861   \n",
      "MonthlyIncome            1.405136 -0.275145 -0.345476 -0.719438  2.795171   \n",
      "NumCompaniesWorked      -0.677862  0.124008 -0.677862  1.326812  0.524943   \n",
      "PercentSalaryHike       -1.150554 -1.150554 -0.603911  1.582663 -0.603911   \n",
      "TotalWorkingYears       -1.320847  0.093097 -0.421064 -0.549605  0.735799   \n",
      "YearsAtCompany          -0.981014  0.325228  0.161947 -0.654454  1.304909   \n",
      "Atrition                 0.000000  0.000000  0.000000  0.000000  0.000000   \n",
      "\n",
      "EmployeeID                   2821      2822      2824      2825      2826  \n",
      "Age                     -1.305679 -0.758170  0.884358  0.117845 -0.758170  \n",
      "DistanceFromHome         2.444129  1.456975 -0.887515 -0.270544  0.469821  \n",
      "EnvironmentSatisfaction -1.583120  0.252200  0.252200  1.169861 -1.583120  \n",
      "MonthlyIncome           -0.729637  0.835481 -0.156157 -0.310417 -0.155732  \n",
      "NumCompaniesWorked      -0.276927 -1.078797  0.925878  0.124008 -0.677862  \n",
      "PercentSalaryHike       -0.330589 -1.150554  2.129306  0.216054  0.216054  \n",
      "TotalWorkingYears       -0.678145  0.093097 -0.292524  0.992880 -0.806686  \n",
      "YearsAtCompany          -0.817734  0.651788 -0.164613 -0.654454 -0.327893  \n",
      "Atrition                 0.000000  0.000000  0.000000  0.000000  0.000000  \n"
     ]
    }
   ],
   "source": [
    "# Ver las 10 predicciones más bajas\n",
    "emp_pred_bajo = perf_pred.sort_values(by=[\"Atrition\"], ascending=True).head(10)\n",
    "emp_pred_bajo.set_index('EmployeeID', inplace=True)\n",
    "pred = emp_pred_bajo.T\n",
    "print(pred)"
   ]
  },
  {
   "cell_type": "code",
   "execution_count": 9,
   "metadata": {},
   "outputs": [
    {
     "name": "stdout",
     "output_type": "stream",
     "text": [
      "EmployeeID                      1     2816     2817     2818      2820  \\\n",
      "Atrition                      0.0      0.0      0.0      0.0       0.0   \n",
      "Age                          51.0     41.0     26.0     36.0      39.0   \n",
      "EnvironmentSatisfaction       3.0      3.0      3.0      2.0       4.0   \n",
      "MonthlyIncome            131160.0  52080.0  48770.0  31170.0  196580.0   \n",
      "NumCompaniesWorked            1.0      3.0      1.0      6.0       4.0   \n",
      "TotalWorkingYears             1.0     12.0      8.0      7.0      17.0   \n",
      "YearsAtCompany                1.0      9.0      8.0      3.0      15.0   \n",
      "\n",
      "EmployeeID                  2821      2822     2824     2825     2826  \n",
      "Atrition                     0.0       0.0      0.0      0.0      0.0  \n",
      "Age                         25.0      30.0     45.0     38.0     30.0  \n",
      "EnvironmentSatisfaction      1.0       3.0      3.0      4.0      1.0  \n",
      "MonthlyIncome            30690.0  104350.0  57680.0  50420.0  57700.0  \n",
      "NumCompaniesWorked           2.0       0.0      5.0      3.0      1.0  \n",
      "TotalWorkingYears            6.0      12.0      9.0     19.0      5.0  \n",
      "YearsAtCompany               2.0      11.0      6.0      3.0      5.0  \n"
     ]
    }
   ],
   "source": [
    "import joblib\n",
    "import warnings\n",
    "from sklearn.preprocessing import StandardScaler\n",
    "\n",
    "# Suprimir advertencias específicas de sklearn\n",
    "warnings.filterwarnings(\"ignore\", category=UserWarning)\n",
    "\n",
    "# Cargar el scaler previamente guardado\n",
    "scaler = joblib.load('salidas/scaler.pkl')\n",
    "\n",
    "# Seleccionar las columnas escaladas\n",
    "columnas_escaladas = ['Age', 'EnvironmentSatisfaction', 'MonthlyIncome', 'NumCompaniesWorked', 'TotalWorkingYears', 'YearsAtCompany']\n",
    "\n",
    "# Extraer las posiciones de las columnas en el scaler original\n",
    "columnas_idx = [list(scaler.feature_names_in_).index(col) for col in columnas_escaladas]\n",
    "\n",
    "# Crear un nuevo scaler solo para las columnas seleccionadas\n",
    "scaler_reducido = StandardScaler()\n",
    "scaler_reducido.mean_ = scaler.mean_[columnas_idx]\n",
    "scaler_reducido.scale_ = scaler.scale_[columnas_idx]\n",
    "scaler_reducido.var_ = scaler.var_[columnas_idx]  # Incluyendo la varianza si es necesario\n",
    "\n",
    "# Ordenar las predicciones más bajas\n",
    "emp_pred_bajo = perf_pred.sort_values(by=[\"Atrition\"], ascending=True).head(10)\n",
    "emp_pred_bajo.set_index('EmployeeID', inplace=True)\n",
    "\n",
    "# Seleccionar solo las columnas que fueron escaladas\n",
    "df_pred_bajo_escalado = emp_pred_bajo[columnas_escaladas]\n",
    "\n",
    "# Desescalar las predicciones\n",
    "df_pred_bajo_original = pd.DataFrame(scaler_reducido.inverse_transform(df_pred_bajo_escalado), columns=df_pred_bajo_escalado.columns, index=df_pred_bajo_escalado.index)\n",
    "\n",
    "# Concatenar las predicciones desescaladas con las columnas relevantes\n",
    "df_pred_final = pd.concat([emp_pred_bajo[['Atrition']], df_pred_bajo_original], axis=1)\n",
    "\n",
    "# Trasponer la tabla final\n",
    "df_pred_final_traspuesta = df_pred_final.T\n",
    "\n",
    "# Mostrar los resultados traspuestos\n",
    "print(df_pred_final_traspuesta)\n"
   ]
  },
  {
   "cell_type": "markdown",
   "metadata": {},
   "source": [
    "* Edad: Los empleados predichos a renunciar presentan edades muy diversas, desde 22 hasta 51 años\n",
    "Satisfacción con el ambiente laboral: La satisfacción laboral de los empleados varía entre valores bajos y moderados. El EmployeeID 2801 tiene una satisfacción laboral de 1, lo que sugiere una insatisfacción significativa.\n",
    "Otros empleados, como el EmployeeID 1, tienen una satisfacción laboral de 3, lo que indica una satisfacción moderada, aunque no máxima.\n",
    "Dado que ninguno de los empleados con predicción de renuncia tiene un valor de 4 en satisfacción laboral, podemos deducir que la insatisfacción o la satisfacción moderada está presente en estos empleados, lo que puede influir en su decisión de abandonar la empresa.\n",
    "* Años en la empresa: Hay una diferencia considerable en los años trabajados en la empresa, desde 1 hasta 25 años. Los empleados que han estado en la empresa durante más tiempo, como el EmployeeID 2802 (25 años), también están en riesgo de renuncia, lo que podría deberse a factores como el agotamiento laboral o la falta de oportunidades de crecimiento.\n"
   ]
  },
  {
   "cell_type": "markdown",
   "metadata": {},
   "source": [
    "Recomendaciones:\n",
    "* Intervenir en la satisfacción laboral: Dado que varios de los empleados con riesgo de renuncia tienen una baja satisfacción con el ambiente laboral, se recomienda implementar programas para mejorar este aspecto, como fomentar una cultura laboral positiva y ofrecer canales de retroalimentación abierta.\n",
    "\n",
    "* Revisión salarial: La variabilidad en los ingresos sugiere que podría haber una correlación entre los salarios más bajos y el riesgo de renuncia. Sería recomendable realizar una revisión salarial, especialmente para los empleados con ingresos bajos, para reducir el riesgo de pérdida de talento.\n",
    "\n",
    "* Desarrollo y oportunidades de crecimiento: Los empleados que han trabajado en la empresa durante muchos años podrían estar enfrentando estancamiento profesional. Ofrecer oportunidades de desarrollo profesional y planes de carrera podría ayudar a retener a estos empleados.\n",
    "\n",
    "* Monitorear a los empleados jóvenes y con movilidad laboral previa: Los empleados más jóvenes y aquellos que han trabajado en varias empresas parecen tener un mayor riesgo de rotación. Sería prudente ofrecerles más atención para aumentar su compromiso con la empresa."
   ]
  }
 ],
 "metadata": {
  "kernelspec": {
   "display_name": "Python 3",
   "language": "python",
   "name": "python3"
  },
  "language_info": {
   "codemirror_mode": {
    "name": "ipython",
    "version": 3
   },
   "file_extension": ".py",
   "mimetype": "text/x-python",
   "name": "python",
   "nbconvert_exporter": "python",
   "pygments_lexer": "ipython3",
   "version": "3.12.2"
  }
 },
 "nbformat": 4,
 "nbformat_minor": 2
}
