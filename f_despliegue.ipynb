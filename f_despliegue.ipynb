{
  "cells": [
    {
      "cell_type": "markdown",
      "metadata": {
        "id": "zW-VOLYY2r8B"
      },
      "source": [
        "Importamos librerias necesarias"
      ]
    },
    {
      "cell_type": "code",
      "execution_count": 1,
      "metadata": {
        "id": "bbeYJOZP2kRo"
      },
      "outputs": [],
      "source": [
        "import a_funciones as fn ### importar modulo de  funciones\n",
        "from a_funciones import * ### importar toddas llas funciones del archivo\n",
        "import pandas as pd ### para manejo de datos\n",
        "import sqlite3 as sql\n",
        "import joblib\n",
        "#!pip install openpyxl\n",
        "import openpyxl\n",
        "import numpy as np\n",
        "\n",
        "import warnings\n",
        "from sklearn.preprocessing import StandardScaler\n",
        "\n",
        "# Suprimir advertencias específicas de sklearn\n",
        "warnings.filterwarnings(\"ignore\", category=UserWarning)"
      ]
    },
    {
      "cell_type": "markdown",
      "metadata": {
        "id": "mN0liPRc2kRq"
      },
      "source": [
        "El despliegue consiste en dejar todo el código listo para una ejecucion automática en el periodo definido:\n",
        "En este caso se ejecutara el proceso de entrenamiento y prediccion anualmente."
      ]
    },
    {
      "cell_type": "markdown",
      "metadata": {
        "id": "WopxpbyX20Ya"
      },
      "source": [
        "# Conectarse a base de datos preprocesada"
      ]
    },
    {
      "cell_type": "code",
      "execution_count": 2,
      "metadata": {
        "id": "7RkAyM_x2kRq"
      },
      "outputs": [],
      "source": [
        "con=sql.connect('bases de datos RRHH/datos.db')\n",
        "cur=con.cursor()"
      ]
    },
    {
      "cell_type": "markdown",
      "metadata": {
        "id": "uC2MXAx829VH"
      },
      "source": [
        "#Crear dataframe para el modelado(2016)"
      ]
    },
    {
      "cell_type": "code",
      "execution_count": 3,
      "metadata": {
        "id": "iK8A7MwK2kRr"
      },
      "outputs": [],
      "source": [
        "df = pd.read_sql(\"\"\"select * from completo\n",
        "where InfoDate='2016-12-31'\n",
        "\"\"\",con=con)"
      ]
    },
    {
      "cell_type": "markdown",
      "metadata": {
        "id": "QbT_r7jX3Phs"
      },
      "source": [
        "# Preparación de los datos nuevos"
      ]
    },
    {
      "cell_type": "code",
      "execution_count": 4,
      "metadata": {
        "id": "k4PMccAY2kRr"
      },
      "outputs": [],
      "source": [
        "df_t= fn.preparar_datos(df)"
      ]
    },
    {
      "cell_type": "markdown",
      "metadata": {
        "id": "JwNHoLYY3lbj"
      },
      "source": [
        "# Cargar modelo entrenado"
      ]
    },
    {
      "cell_type": "code",
      "execution_count": 5,
      "metadata": {
        "id": "WuZf-qOF2kRr"
      },
      "outputs": [],
      "source": [
        "rf_final = joblib.load(\"salidas\\\\rf_final.pkl\")"
      ]
    },
    {
      "cell_type": "markdown",
      "metadata": {
        "id": "DTObnkUP3qAo"
      },
      "source": [
        "# Realizar predicciones"
      ]
    },
    {
      "cell_type": "code",
      "execution_count": 6,
      "metadata": {
        "id": "g5cwDsRH2kRs"
      },
      "outputs": [],
      "source": [
        "predicciones = rf_final.predict(df_t)\n",
        "pd_pred = pd.DataFrame(predicciones, columns=['Atrition'])\n",
        "\n",
        "# Crear DataFrame con predicciones\n",
        "perf_pred = pd.concat([df['EmployeeID'], df_t, pd_pred], axis=1)\n",
        "\n",
        "# Guardar predicciones en archivos\n",
        "perf_pred[['EmployeeID', 'Atrition']].to_excel(\"salidas\\\\prediccion.xlsx\")\n",
        "#Guardar importancia de las caracteristicas a la hora de predecir\n",
        "feature_names = df_t.columns\n"
      ]
    },
    {
      "cell_type": "code",
      "execution_count": 7,
      "metadata": {
        "id": "f7FFhoqW2kRs"
      },
      "outputs": [],
      "source": [
        "importances = pd.DataFrame({'Feature': feature_names, 'Importance': rf_final.feature_importances_})\n",
        "importances.to_excel(\"salidas\\\\importances.xlsx\")"
      ]
    },
    {
      "cell_type": "code",
      "execution_count": 8,
      "metadata": {
        "id": "Hfjw2WRW2kRt",
        "outputId": "3ae05fca-31aa-49e6-d374-b2218e2e6803"
      },
      "outputs": [
        {
          "name": "stdout",
          "output_type": "stream",
          "text": [
            "EmployeeID                   7813      6414      6400      6399      6005  \\\n",
            "Age                     -0.758170 -0.210661 -1.743687 -1.853188 -1.196177   \n",
            "DistanceFromHome        -0.887515 -0.270544 -1.010909 -0.147150  0.593216   \n",
            "EnvironmentSatisfaction -1.583120  1.169861  0.252200  1.169861  0.252200   \n",
            "MonthlyIncome           -0.531819 -0.081790 -0.154670 -0.645708  0.213981   \n",
            "NumCompaniesWorked       0.524943 -1.078797 -0.677862 -0.677862 -1.078797   \n",
            "PercentSalaryHike       -0.877232  1.582663  0.762698  1.309341  0.762698   \n",
            "TotalWorkingYears       -0.549605 -0.292524 -1.320847 -1.192307 -0.549605   \n",
            "YearsAtCompany          -0.327893  0.161947 -0.981014 -0.817734 -0.164613   \n",
            "Atrition                 1.000000  1.000000  1.000000  1.000000  1.000000   \n",
            "\n",
            "EmployeeID                   8366      5507      8364      7135      5506  \\\n",
            "Age                     -1.634185  2.088878 -1.743687 -1.196177 -0.320163   \n",
            "DistanceFromHome        -1.010909 -1.010909 -1.010909 -0.640727  2.197341   \n",
            "EnvironmentSatisfaction  0.252200 -1.583120 -0.665460 -1.583120  1.169861   \n",
            "MonthlyIncome           -0.326140 -0.838001 -0.788706 -0.870935 -0.597263   \n",
            "NumCompaniesWorked      -0.677862 -0.677862 -0.677862 -0.677862 -0.677862   \n",
            "PercentSalaryHike       -0.330589  1.582663 -0.330589 -0.877232 -0.877232   \n",
            "TotalWorkingYears       -1.320847 -0.806686 -1.320847 -1.320847 -0.806686   \n",
            "YearsAtCompany          -0.981014 -0.491174 -0.981014 -0.981014 -0.327893   \n",
            "Atrition                 1.000000  1.000000  1.000000  1.000000  1.000000   \n",
            "\n",
            "EmployeeID                   7459      4966      6008      7906      8355  \n",
            "Age                      0.446350  0.227347 -0.758170  0.227347  0.665354  \n",
            "DistanceFromHome         0.840004 -1.010909 -0.764121 -1.010909 -1.010909  \n",
            "EnvironmentSatisfaction -1.583120 -1.583120  0.252200 -1.583120  0.252200  \n",
            "MonthlyIncome           -0.784669  0.053559 -1.141846  0.053559  0.244790  \n",
            "NumCompaniesWorked      -0.677862  1.727747  2.529617  1.727747  2.529617  \n",
            "PercentSalaryHike       -1.150554 -0.330589  1.036019 -0.330589 -0.877232  \n",
            "TotalWorkingYears       -0.421064  1.249960 -1.063766  1.249960 -0.678145  \n",
            "YearsAtCompany           0.161947  1.794749 -0.981014  1.794749 -0.981014  \n",
            "Atrition                 1.000000  1.000000  1.000000  1.000000  1.000000  \n"
          ]
        }
      ],
      "source": [
        "# Ver las 15 predicciones más bajas\n",
        "emp_pred_bajo = perf_pred.sort_values(by=[\"Atrition\"], ascending=False).head(15)\n",
        "emp_pred_bajo.set_index('EmployeeID', inplace=True)\n",
        "pred = emp_pred_bajo.T\n",
        "print(pred)"
      ]
    },
    {
      "cell_type": "code",
      "execution_count": 10,
      "metadata": {
        "id": "89TWf5ux2kRu",
        "outputId": "2450411a-195a-4580-c414-08c0b60a9c94"
      },
      "outputs": [
        {
          "name": "stdout",
          "output_type": "stream",
          "text": [
            "EmployeeID                  7813     6414     6400     6399     6005     8366  \\\n",
            "Atrition                     1.0      1.0      1.0      1.0      1.0      1.0   \n",
            "Age                         30.0     35.0     21.0     20.0     26.0     22.0   \n",
            "DistanceFromHome             2.0      7.0      1.0      8.0     14.0      1.0   \n",
            "EnvironmentSatisfaction      1.0      4.0      3.0      4.0      3.0      3.0   \n",
            "MonthlyIncome            40000.0  61180.0  57750.0  34640.0  75100.0  49680.0   \n",
            "NumCompaniesWorked           4.0      0.0      1.0      1.0      0.0      1.0   \n",
            "PercentSalaryHike           12.0     21.0     18.0     20.0     18.0     14.0   \n",
            "TotalWorkingYears            7.0      9.0      1.0      2.0      7.0      1.0   \n",
            "YearsAtCompany               5.0      8.0      1.0      2.0      6.0      1.0   \n",
            "\n",
            "EmployeeID                  5507     8364     7135     5506     7459     4966  \\\n",
            "Atrition                     1.0      1.0      1.0      1.0      1.0      1.0   \n",
            "Age                         56.0     21.0     26.0     34.0     41.0     39.0   \n",
            "DistanceFromHome             1.0      1.0      4.0     27.0     16.0      1.0   \n",
            "EnvironmentSatisfaction      1.0      2.0      1.0      4.0      1.0      1.0   \n",
            "MonthlyIncome            25590.0  27910.0  24040.0  36920.0  28100.0  67550.0   \n",
            "NumCompaniesWorked           1.0      1.0      1.0      1.0      1.0      7.0   \n",
            "PercentSalaryHike           21.0     14.0     12.0     12.0     11.0     14.0   \n",
            "TotalWorkingYears            5.0      1.0      1.0      5.0      8.0     21.0   \n",
            "YearsAtCompany               4.0      1.0      1.0      5.0      8.0     18.0   \n",
            "\n",
            "EmployeeID                  6008     7906     8355  \n",
            "Atrition                     1.0      1.0      1.0  \n",
            "Age                         30.0     39.0     43.0  \n",
            "DistanceFromHome             3.0      1.0      1.0  \n",
            "EnvironmentSatisfaction      3.0      1.0      3.0  \n",
            "MonthlyIncome            11290.0  67550.0  76550.0  \n",
            "NumCompaniesWorked           9.0      7.0      9.0  \n",
            "PercentSalaryHike           19.0     14.0     12.0  \n",
            "TotalWorkingYears            3.0     21.0      6.0  \n",
            "YearsAtCompany               1.0     18.0      1.0  \n"
          ]
        }
      ],
      "source": [
        "# Cargar el scaler previamente guardado\n",
        "scaler = joblib.load('salidas/scaler.pkl')\n",
        "\n",
        "# Seleccionar las columnas escaladas\n",
        "columnas_escaladas = ['Age', 'DistanceFromHome', 'EnvironmentSatisfaction', 'MonthlyIncome', \n",
        "                      'NumCompaniesWorked', 'PercentSalaryHike','TotalWorkingYears', 'YearsAtCompany']\n",
        "\n",
        "# Extraer las posiciones de las columnas en el scaler original\n",
        "columnas_idx = [list(scaler.feature_names_in_).index(col) for col in columnas_escaladas]\n",
        "\n",
        "# Crear un nuevo scaler solo para las columnas seleccionadas\n",
        "scaler_reducido = StandardScaler()\n",
        "scaler_reducido.mean_ = scaler.mean_[columnas_idx]\n",
        "scaler_reducido.scale_ = scaler.scale_[columnas_idx]\n",
        "scaler_reducido.var_ = scaler.var_[columnas_idx]  # Incluyendo la varianza si es necesario\n",
        "\n",
        "# Seleccionar solo las columnas que fueron escaladas\n",
        "df_pred_bajo_escalado = emp_pred_bajo[columnas_escaladas]\n",
        "\n",
        "# Desescalar las predicciones\n",
        "df_pred_bajo_original = pd.DataFrame(scaler_reducido.inverse_transform(df_pred_bajo_escalado), columns=df_pred_bajo_escalado.columns, index=df_pred_bajo_escalado.index)\n",
        "\n",
        "# Concatenar las predicciones desescaladas con las columnas relevantes\n",
        "df_pred_final = pd.concat([emp_pred_bajo[['Atrition']], df_pred_bajo_original], axis=1)\n",
        "\n",
        "# Trasponer la tabla final\n",
        "df_pred_final_traspuesta = df_pred_final.T\n",
        "\n",
        "# Mostrar los resultados traspuestos\n",
        "print(df_pred_final_traspuesta)\n"
      ]
    },
    {
      "cell_type": "markdown",
      "metadata": {
        "id": "zaJTEYbQ2kRv"
      },
      "source": [
        "# Análisis y recomendaciones\n"
      ]
    },
    {
      "cell_type": "markdown",
      "metadata": {
        "id": "xKxE6yHM2kRv"
      },
      "source": [
        "***Satisfacción con el ambiente laboral:*** Hay empleados con baja satisfacción laboral (EnvironmentSatisfaction = 1 o 2). Se podría mejorar el ambiente mediante:\n",
        "\n",
        "* Encuestas más frecuentes sobre satisfacción laboral.\n",
        "* Cambios en la cultura o clima organizacional.\n",
        "* Incentivos para un mejor balance vida-trabajo."
      ]
    },
    {
      "cell_type": "markdown",
      "metadata": {},
      "source": [
        "***Ingresos bajos:*** Algunos empleados tienen ingresos relativamente bajos comparados con otros en situaciones similares. Por ejemplo, el EmployeeID 6008 tiene un ingreso mensual de solo 11,290, mucho menor que el de otros con la misma antigüedad.\n",
        "\n",
        "* Revisar si los salarios están alineados con el mercado y con el desempeño.\n",
        "* Incrementar los incentivos salariales a través de bonos o ajustes anuales basados en méritos."
      ]
    },
    {
      "cell_type": "markdown",
      "metadata": {},
      "source": [
        "***Distancia desde el hogar:*** Varios empleados viven lejos del lugar de trabajo, como el EmployeeID 7459, que vive a 16 km, o el 5506, a 27 km. Considerar políticas como:\n",
        "\n",
        "* Flexibilidad laboral, teletrabajo o esquemas híbridos.\n",
        "* Subsidios de transporte o reubicación para empleados que viven lejos."
      ]
    },
    {
      "cell_type": "markdown",
      "metadata": {},
      "source": [
        "***Aumento salarial:*** Aumentos salariales bajos pueden impactar la retención, ya que algunos empleados tienen un PercentSalaryHike bajo, como el EmployeeID 7459 con solo un 11% de aumento. Revisar:\n",
        "\n",
        "* Incrementar los aumentos salariales para mantener la competitividad.\n",
        "* Implementar bonos por desempeño o promociones."
      ]
    },
    {
      "cell_type": "markdown",
      "metadata": {},
      "source": [
        "***Años en la compañia:*** Empleados con poca experiencia o antigüedad pueden sentir menos compromiso con la empresa. Esto se nota en varios empleados con menos de 2 años en la empresa o pocos años de experiencia. Estrategias para retenerlos incluyen:\n",
        "\n",
        "* Programas de mentoría o capacitación para fomentar crecimiento interno.\n",
        "* Crear planes de carrera claros para motivar a estos empleados a quedarse."
      ]
    },
    {
      "cell_type": "markdown",
      "metadata": {},
      "source": [
        "***Cantidad de compañias trabajadas***: Algunos empleados han trabajado en muchas empresas (NumCompaniesWorked alto), lo cual puede indicar falta de estabilidad o compromiso a largo plazo. Se podría ofrecer:\n",
        "\n",
        "* Oportunidades de crecimiento interno y movilidad lateral para mantener su interés.\n",
        "* Retos nuevos o proyectos más ambiciosos que aumenten su sentido de pertenencia."
      ]
    }
  ],
  "metadata": {
    "colab": {
      "provenance": []
    },
    "kernelspec": {
      "display_name": "Python 3",
      "language": "python",
      "name": "python3"
    },
    "language_info": {
      "codemirror_mode": {
        "name": "ipython",
        "version": 3
      },
      "file_extension": ".py",
      "mimetype": "text/x-python",
      "name": "python",
      "nbconvert_exporter": "python",
      "pygments_lexer": "ipython3",
      "version": "3.12.2"
    }
  },
  "nbformat": 4,
  "nbformat_minor": 0
}
