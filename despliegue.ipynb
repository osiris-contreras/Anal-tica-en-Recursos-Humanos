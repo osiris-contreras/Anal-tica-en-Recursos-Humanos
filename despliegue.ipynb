{
 "cells": [
  {
   "cell_type": "markdown",
   "metadata": {},
   "source": [
    "# Colab"
   ]
  },
  {
   "cell_type": "code",
   "execution_count": null,
   "metadata": {},
   "outputs": [],
   "source": [
    "from google.colab import drive\n",
    "drive.mount('/content/drive')"
   ]
  },
  {
   "cell_type": "code",
   "execution_count": null,
   "metadata": {},
   "outputs": [],
   "source": [
    "import sys\n",
    "import os\n",
    "path= '/content/drive/MyDrive/codigos/Anal-tica-en-Recursos-Humanos'\n",
    "os.chdir(path)\n",
    "sys.path.append(path+'/')"
   ]
  },
  {
   "cell_type": "markdown",
   "metadata": {},
   "source": [
    "# Visual Studio"
   ]
  },
  {
   "cell_type": "code",
   "execution_count": 16,
   "metadata": {},
   "outputs": [],
   "source": [
    "import os\n",
    "import sys\n",
    "\n",
    "ruta =os.getcwd()\n",
    "sys.path.append(ruta)"
   ]
  },
  {
   "cell_type": "markdown",
   "metadata": {},
   "source": [
    "# Despliegue"
   ]
  },
  {
   "cell_type": "code",
   "execution_count": 1,
   "metadata": {},
   "outputs": [],
   "source": [
    "import a_funciones as fn ### importar modulo de  funciones\n",
    "from a_funciones import * ### importar toddas llas funciones del archivo\n",
    "import pandas as pd ### para manejo de datos\n",
    "import sqlite3 as sql\n",
    "import joblib\n",
    "\n",
    "\n",
    "import numpy as np"
   ]
  },
  {
   "cell_type": "markdown",
   "metadata": {},
   "source": [
    "El despliegue consiste en dejar todo el código listo para una ejecucion automática en el periodo definido:\n",
    "En este caso se ejecutara el proceso de entrenamiento y prediccion anualmente."
   ]
  },
  {
   "cell_type": "code",
   "execution_count": 2,
   "metadata": {},
   "outputs": [],
   "source": [
    "#### conectarse a base de datos preprocesada\n",
    "\n",
    "con=sql.connect('bases de datos RRHH/datos.db')\n",
    "cur=con.cursor()"
   ]
  },
  {
   "cell_type": "code",
   "execution_count": 3,
   "metadata": {},
   "outputs": [],
   "source": [
    "#crear dataframe para el modelado(2015)\n",
    "df = pd.read_sql(\"\"\"select * from completo\n",
    "where InfoDate='2016-12-31'\n",
    "\"\"\",con=con)"
   ]
  },
  {
   "cell_type": "code",
   "execution_count": null,
   "metadata": {},
   "outputs": [],
   "source": [
    "# Hacer la preparacion de los datos nuevos\n",
    "df_t= preparar_datos(df)"
   ]
  },
  {
   "cell_type": "code",
   "execution_count": null,
   "metadata": {},
   "outputs": [],
   "source": [
    "# Cargar modelo entrenado\n",
    "rf_final = joblib.load(\"salidas\\\\rf_final.pkl\")"
   ]
  },
  {
   "cell_type": "code",
   "execution_count": null,
   "metadata": {},
   "outputs": [],
   "source": [
    "# Realizar predicciones\n",
    "predicciones = rf_final.predict(df_t)\n",
    "pd_pred = pd.DataFrame(predicciones, columns=['Atrition'])\n",
    "\n",
    "# Crear DataFrame con predicciones\n",
    "perf_pred = pd.concat([df['EmployeeID'], df_t, pd_pred], axis=1)\n",
    "\n",
    "# Guardar predicciones en archivos\n",
    "perf_pred[['EmployeeID', 'Atrition']].to_excel(\"salidas\\\\prediccion.xlsx\")\n",
    "#Guardar importancia de las caracteristicas a la hora de predecir\n",
    "feature_names = df_t.columns\n"
   ]
  },
  {
   "cell_type": "code",
   "execution_count": null,
   "metadata": {},
   "outputs": [],
   "source": [
    "importances = pd.DataFrame({'Feature': feature_names, 'Importance': rf_final.feature_importances_})\n",
    "importances.to_excel(\"salidas\\\\importances.xlsx\")"
   ]
  },
  {
   "cell_type": "code",
   "execution_count": null,
   "metadata": {},
   "outputs": [],
   "source": [
    "# Ver las 10 predicciones más bajas\n",
    "emp_pred_bajo = perf_pred.sort_values(by=[\"Atrition\"], ascending=True).head(10)\n",
    "emp_pred_bajo.set_index('EmployeeID', inplace=True)\n",
    "pred = emp_pred_bajo.T\n",
    "print(pred)"
   ]
  }
 ],
 "metadata": {
  "kernelspec": {
   "display_name": "Python 3",
   "language": "python",
   "name": "python3"
  },
  "language_info": {
   "codemirror_mode": {
    "name": "ipython",
    "version": 3
   },
   "file_extension": ".py",
   "mimetype": "text/x-python",
   "name": "python",
   "nbconvert_exporter": "python",
   "pygments_lexer": "ipython3",
   "version": "3.12.2"
  }
 },
 "nbformat": 4,
 "nbformat_minor": 2
}
