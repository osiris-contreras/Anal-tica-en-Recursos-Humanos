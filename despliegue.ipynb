{
 "cells": [
  {
   "cell_type": "markdown",
   "metadata": {},
   "source": [
    "# Colab"
   ]
  },
  {
   "cell_type": "code",
   "execution_count": null,
   "metadata": {},
   "outputs": [],
   "source": [
    "from google.colab import drive\n",
    "drive.mount('/content/drive')"
   ]
  },
  {
   "cell_type": "code",
   "execution_count": null,
   "metadata": {},
   "outputs": [],
   "source": [
    "import sys\n",
    "import os\n",
    "path= '/content/drive/MyDrive/codigos/Anal-tica-en-Recursos-Humanos'\n",
    "os.chdir(path)\n",
    "sys.path.append(path+'/')"
   ]
  },
  {
   "cell_type": "markdown",
   "metadata": {},
   "source": [
    "# Visual Studio"
   ]
  },
  {
   "cell_type": "code",
   "execution_count": 16,
   "metadata": {},
   "outputs": [],
   "source": [
    "import os\n",
    "import sys\n",
    "\n",
    "ruta =os.getcwd()\n",
    "sys.path.append(ruta)"
   ]
  },
  {
   "cell_type": "markdown",
   "metadata": {},
   "source": [
    "# Despliegue"
   ]
  },
  {
   "cell_type": "code",
   "execution_count": null,
   "metadata": {},
   "outputs": [],
   "source": [
    "import a_funciones as fn ### importar modulo de  funciones\n",
    "from a_funciones import * ### importar toddas llas funciones del archivo\n",
    "import pandas as pd ### para manejo de datos\n",
    "import sqlite3 as sql\n",
    "import joblib\n",
    "!pip install openpyxl\n",
    "import openpyxl\n",
    "\n",
    "import numpy as np"
   ]
  },
  {
   "cell_type": "markdown",
   "metadata": {},
   "source": [
    "El despliegue consiste en dejar todo el código listo para una ejecucion automática en el periodo definido:\n",
    "En este caso se ejecutara el proceso de entrenamiento y prediccion anualmente."
   ]
  },
  {
   "cell_type": "code",
   "execution_count": 2,
   "metadata": {},
   "outputs": [],
   "source": [
    "#### conectarse a base de datos preprocesada\n",
    "\n",
    "con=sql.connect('bases de datos RRHH/datos.db')\n",
    "cur=con.cursor()"
   ]
  },
  {
   "cell_type": "code",
   "execution_count": 3,
   "metadata": {},
   "outputs": [],
   "source": [
    "#crear dataframe para el modelado(2015)\n",
    "df = pd.read_sql(\"\"\"select * from completo\n",
    "where InfoDate='2016-12-31'\n",
    "\"\"\",con=con)"
   ]
  },
  {
   "cell_type": "code",
   "execution_count": 4,
   "metadata": {},
   "outputs": [],
   "source": [
    "# Hacer la preparacion de los datos nuevos\n",
    "df_t= fn.preparar_datos(df)"
   ]
  },
  {
   "cell_type": "code",
   "execution_count": 5,
   "metadata": {},
   "outputs": [],
   "source": [
    "# Cargar modelo entrenado\n",
    "rf_final = joblib.load(\"salidas\\\\rf_final.pkl\")"
   ]
  },
  {
   "cell_type": "code",
   "execution_count": 10,
   "metadata": {},
   "outputs": [],
   "source": [
    "# Realizar predicciones\n",
    "predicciones = rf_final.predict(df_t)\n",
    "pd_pred = pd.DataFrame(predicciones, columns=['Atrition'])\n",
    "\n",
    "# Crear DataFrame con predicciones\n",
    "perf_pred = pd.concat([df['EmployeeID'], df_t, pd_pred], axis=1)\n",
    "\n",
    "# Guardar predicciones en archivos\n",
    "perf_pred[['EmployeeID', 'Atrition']].to_excel(\"salidas\\\\prediccion.xlsx\")\n",
    "#Guardar importancia de las caracteristicas a la hora de predecir\n",
    "feature_names = df_t.columns\n"
   ]
  },
  {
   "cell_type": "code",
   "execution_count": 11,
   "metadata": {},
   "outputs": [],
   "source": [
    "importances = pd.DataFrame({'Feature': feature_names, 'Importance': rf_final.feature_importances_})\n",
    "importances.to_excel(\"salidas\\\\importances.xlsx\")"
   ]
  },
  {
   "cell_type": "code",
   "execution_count": 12,
   "metadata": {},
   "outputs": [
    {
     "name": "stdout",
     "output_type": "stream",
     "text": [
      "EmployeeID                      1      2800      2801      2802      2803  \\\n",
      "Age                      1.541369 -0.101159 -0.101159  0.665354 -0.758170   \n",
      "DistanceFromHome        -0.393938 -0.270544 -1.010909 -0.764121  0.099639   \n",
      "EnvironmentSatisfaction  0.252200 -0.665460 -1.583120  0.252200 -1.583120   \n",
      "JobSatisfaction          1.156302  1.156302  1.156302  1.156302  0.246202   \n",
      "MonthlyIncome            1.405136 -0.810167  2.350878 -0.870085 -0.783819   \n",
      "NumCompaniesWorked      -0.677862 -1.078797  0.925878 -0.677862 -0.677862   \n",
      "PercentSalaryHike       -1.150554 -1.150554 -0.603911 -0.877232  2.402628   \n",
      "TotalWorkingYears       -1.320847 -0.163984 -0.549605  1.764122 -0.163984   \n",
      "YearsSinceLastPromotion -0.679146 -0.058285 -0.679146  0.562576 -0.679146   \n",
      "YearsWithCurrManager    -1.155935  1.086895 -1.155935  2.208310  1.367249   \n",
      "Atrition                 0.000000  0.000000  0.000000  0.000000  0.000000   \n",
      "\n",
      "EmployeeID                   2804      2806      2808      2811      2812  \n",
      "Age                     -0.429664  1.541369 -1.196177 -1.634185  1.322365  \n",
      "DistanceFromHome        -0.270544 -0.764121  0.963398  2.444129 -0.887515  \n",
      "EnvironmentSatisfaction  0.252200 -1.583120  0.252200  0.252200  0.252200  \n",
      "JobSatisfaction         -0.663899  0.246202 -0.663899  1.156302 -1.573999  \n",
      "MonthlyIncome            1.007588  2.665772 -0.155945 -0.390946 -0.377985  \n",
      "NumCompaniesWorked      -1.078797  1.727747 -0.677862 -1.078797 -0.677862  \n",
      "PercentSalaryHike        1.582663 -0.330589  1.036019 -0.603911 -1.150554  \n",
      "TotalWorkingYears       -0.421064  1.507041 -0.806686 -1.063766  0.607259  \n",
      "YearsSinceLastPromotion -0.679146  3.977310  0.562576 -0.058285  0.873006  \n",
      "YearsWithCurrManager     0.806541  3.049371 -0.314873 -0.875581  1.927956  \n",
      "Atrition                 0.000000  0.000000  0.000000  0.000000  0.000000  \n"
     ]
    }
   ],
   "source": [
    "# Ver las 10 predicciones más bajas\n",
    "emp_pred_bajo = perf_pred.sort_values(by=[\"Atrition\"], ascending=True).head(10)\n",
    "emp_pred_bajo.set_index('EmployeeID', inplace=True)\n",
    "pred = emp_pred_bajo.T\n",
    "print(pred)"
   ]
  }
 ],
 "metadata": {
  "kernelspec": {
   "display_name": "Python 3",
   "language": "python",
   "name": "python3"
  },
  "language_info": {
   "codemirror_mode": {
    "name": "ipython",
    "version": 3
   },
   "file_extension": ".py",
   "mimetype": "text/x-python",
   "name": "python",
   "nbconvert_exporter": "python",
   "pygments_lexer": "ipython3",
   "version": "3.12.2"
  }
 },
 "nbformat": 4,
 "nbformat_minor": 2
}
