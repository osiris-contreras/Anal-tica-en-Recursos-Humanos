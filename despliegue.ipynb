{
 "cells": [
  {
   "cell_type": "markdown",
   "metadata": {},
   "source": [
    "# Despliegue"
   ]
  },
  {
   "cell_type": "code",
   "execution_count": 2,
   "metadata": {},
   "outputs": [],
   "source": [
    "import a_funciones as fn ### importar modulo de  funciones\n",
    "from a_funciones import * ### importar toddas llas funciones del archivo\n",
    "import pandas as pd ### para manejo de datos\n",
    "import sqlite3 as sql\n",
    "import joblib\n",
    "#!pip install openpyxl\n",
    "import openpyxl\n",
    "\n",
    "import numpy as np"
   ]
  },
  {
   "cell_type": "markdown",
   "metadata": {},
   "source": [
    "El despliegue consiste en dejar todo el código listo para una ejecucion automática en el periodo definido:\n",
    "En este caso se ejecutara el proceso de entrenamiento y prediccion anualmente."
   ]
  },
  {
   "cell_type": "code",
   "execution_count": 3,
   "metadata": {},
   "outputs": [],
   "source": [
    "#### conectarse a base de datos preprocesada\n",
    "\n",
    "con=sql.connect('bases de datos RRHH/datos.db')\n",
    "cur=con.cursor()"
   ]
  },
  {
   "cell_type": "code",
   "execution_count": 4,
   "metadata": {},
   "outputs": [],
   "source": [
    "#crear dataframe para el modelado(2015)\n",
    "df = pd.read_sql(\"\"\"select * from completo\n",
    "where InfoDate='2016-12-31'\n",
    "\"\"\",con=con)"
   ]
  },
  {
   "cell_type": "code",
   "execution_count": 5,
   "metadata": {},
   "outputs": [
    {
     "name": "stderr",
     "output_type": "stream",
     "text": [
      "c:\\Users\\osiri\\anaconda3\\Lib\\site-packages\\sklearn\\base.py:347: InconsistentVersionWarning: Trying to unpickle estimator StandardScaler from version 1.4.1.post1 when using version 1.3.0. This might lead to breaking code or invalid results. Use at your own risk. For more info please refer to:\n",
      "https://scikit-learn.org/stable/model_persistence.html#security-maintainability-limitations\n",
      "  warnings.warn(\n"
     ]
    }
   ],
   "source": [
    "# Hacer la preparacion de los datos nuevos\n",
    "df_t= fn.preparar_datos(df)"
   ]
  },
  {
   "cell_type": "code",
   "execution_count": 6,
   "metadata": {},
   "outputs": [
    {
     "name": "stderr",
     "output_type": "stream",
     "text": [
      "c:\\Users\\osiri\\anaconda3\\Lib\\site-packages\\sklearn\\base.py:347: InconsistentVersionWarning: Trying to unpickle estimator DecisionTreeClassifier from version 1.4.1.post1 when using version 1.3.0. This might lead to breaking code or invalid results. Use at your own risk. For more info please refer to:\n",
      "https://scikit-learn.org/stable/model_persistence.html#security-maintainability-limitations\n",
      "  warnings.warn(\n",
      "c:\\Users\\osiri\\anaconda3\\Lib\\site-packages\\sklearn\\base.py:347: InconsistentVersionWarning: Trying to unpickle estimator RandomForestClassifier from version 1.4.1.post1 when using version 1.3.0. This might lead to breaking code or invalid results. Use at your own risk. For more info please refer to:\n",
      "https://scikit-learn.org/stable/model_persistence.html#security-maintainability-limitations\n",
      "  warnings.warn(\n"
     ]
    }
   ],
   "source": [
    "# Cargar modelo entrenado\n",
    "rf_final = joblib.load(\"salidas\\\\rf_final.pkl\")"
   ]
  },
  {
   "cell_type": "code",
   "execution_count": 7,
   "metadata": {},
   "outputs": [],
   "source": [
    "# Realizar predicciones\n",
    "predicciones = rf_final.predict(df_t)\n",
    "pd_pred = pd.DataFrame(predicciones, columns=['Atrition'])\n",
    "\n",
    "# Crear DataFrame con predicciones\n",
    "perf_pred = pd.concat([df['EmployeeID'], df_t, pd_pred], axis=1)\n",
    "\n",
    "# Guardar predicciones en archivos\n",
    "perf_pred[['EmployeeID', 'Atrition']].to_excel(\"salidas\\\\prediccion.xlsx\")\n",
    "#Guardar importancia de las caracteristicas a la hora de predecir\n",
    "feature_names = df_t.columns\n"
   ]
  },
  {
   "cell_type": "code",
   "execution_count": 8,
   "metadata": {},
   "outputs": [],
   "source": [
    "importances = pd.DataFrame({'Feature': feature_names, 'Importance': rf_final.feature_importances_})\n",
    "importances.to_excel(\"salidas\\\\importances.xlsx\")"
   ]
  },
  {
   "cell_type": "code",
   "execution_count": 9,
   "metadata": {},
   "outputs": [
    {
     "name": "stdout",
     "output_type": "stream",
     "text": [
      "EmployeeID                      1      2800      2801      2802      2803  \\\n",
      "Age                      1.541369 -0.101159 -0.101159  0.665354 -0.758170   \n",
      "EnvironmentSatisfaction  0.252200 -0.665460 -1.583120  0.252200 -1.583120   \n",
      "MonthlyIncome            1.405136 -0.810167  2.350878 -0.870085 -0.783819   \n",
      "NumCompaniesWorked      -0.677862 -1.078797  0.925878 -0.677862 -0.677862   \n",
      "TotalWorkingYears       -1.320847 -0.163984 -0.549605  1.764122 -0.163984   \n",
      "YearsAtCompany          -0.981014  0.325228 -0.981014  2.937711  0.488508   \n",
      "Atrition                 0.000000  0.000000  0.000000  0.000000  0.000000   \n",
      "\n",
      "EmployeeID                   2804      2806      2808      2811      2812  \n",
      "Age                     -0.429664  1.541369 -1.196177 -1.634185  1.322365  \n",
      "EnvironmentSatisfaction  0.252200 -1.583120  0.252200  0.252200  0.252200  \n",
      "MonthlyIncome            1.007588  2.665772 -0.155945 -0.390946 -0.377985  \n",
      "NumCompaniesWorked      -1.078797  1.727747 -0.677862 -1.078797 -0.677862  \n",
      "TotalWorkingYears       -0.421064  1.507041 -0.806686 -1.063766  0.607259  \n",
      "YearsAtCompany          -0.001333  2.121310 -0.327893 -0.817734  1.304909  \n",
      "Atrition                 0.000000  0.000000  0.000000  0.000000  0.000000  \n"
     ]
    }
   ],
   "source": [
    "# Ver las 10 predicciones más bajas\n",
    "emp_pred_bajo = perf_pred.sort_values(by=[\"Atrition\"], ascending=True).head(10)\n",
    "emp_pred_bajo.set_index('EmployeeID', inplace=True)\n",
    "pred = emp_pred_bajo.T\n",
    "print(pred)"
   ]
  },
  {
   "cell_type": "code",
   "execution_count": 12,
   "metadata": {},
   "outputs": [
    {
     "name": "stdout",
     "output_type": "stream",
     "text": [
      "EmployeeID                      1     2800      2801     2802     2803  \\\n",
      "Atrition                      0.0      0.0       0.0      0.0      0.0   \n",
      "Age                          51.0     36.0      36.0     43.0     30.0   \n",
      "EnvironmentSatisfaction       3.0      2.0       1.0      3.0      1.0   \n",
      "MonthlyIncome            131160.0  26900.0  175670.0  24080.0  28140.0   \n",
      "NumCompaniesWorked            1.0      0.0       5.0      1.0      1.0   \n",
      "TotalWorkingYears             1.0     10.0       7.0     25.0     10.0   \n",
      "YearsAtCompany                1.0      9.0       1.0     25.0     10.0   \n",
      "\n",
      "EmployeeID                   2804      2806     2808     2811     2812  \n",
      "Atrition                      0.0       0.0      0.0      0.0      0.0  \n",
      "Age                          33.0      51.0     26.0     22.0     49.0  \n",
      "EnvironmentSatisfaction       3.0       1.0      3.0      3.0      3.0  \n",
      "MonthlyIncome            112450.0  190490.0  57690.0  46630.0  47240.0  \n",
      "NumCompaniesWorked            0.0       7.0      1.0      0.0      1.0  \n",
      "TotalWorkingYears             8.0      23.0      5.0      3.0     16.0  \n",
      "YearsAtCompany                7.0      20.0      5.0      2.0     15.0  \n"
     ]
    }
   ],
   "source": [
    "import joblib\n",
    "import warnings\n",
    "from sklearn.preprocessing import StandardScaler\n",
    "\n",
    "# Suprimir advertencias específicas de sklearn\n",
    "warnings.filterwarnings(\"ignore\", category=UserWarning)\n",
    "\n",
    "# Cargar el scaler previamente guardado\n",
    "scaler = joblib.load('salidas/scaler.pkl')\n",
    "\n",
    "# Seleccionar las columnas escaladas\n",
    "columnas_escaladas = ['Age', 'EnvironmentSatisfaction', 'MonthlyIncome', 'NumCompaniesWorked', 'TotalWorkingYears', 'YearsAtCompany']\n",
    "\n",
    "# Extraer las posiciones de las columnas en el scaler original\n",
    "columnas_idx = [list(scaler.feature_names_in_).index(col) for col in columnas_escaladas]\n",
    "\n",
    "# Crear un nuevo scaler solo para las columnas seleccionadas\n",
    "scaler_reducido = StandardScaler()\n",
    "scaler_reducido.mean_ = scaler.mean_[columnas_idx]\n",
    "scaler_reducido.scale_ = scaler.scale_[columnas_idx]\n",
    "scaler_reducido.var_ = scaler.var_[columnas_idx]  # Incluyendo la varianza si es necesario\n",
    "\n",
    "# Ordenar las predicciones más bajas\n",
    "emp_pred_bajo = perf_pred.sort_values(by=[\"Atrition\"], ascending=True).head(10)\n",
    "emp_pred_bajo.set_index('EmployeeID', inplace=True)\n",
    "\n",
    "# Seleccionar solo las columnas que fueron escaladas\n",
    "df_pred_bajo_escalado = emp_pred_bajo[columnas_escaladas]\n",
    "\n",
    "# Desescalar las predicciones\n",
    "df_pred_bajo_original = pd.DataFrame(scaler_reducido.inverse_transform(df_pred_bajo_escalado), columns=df_pred_bajo_escalado.columns, index=df_pred_bajo_escalado.index)\n",
    "\n",
    "# Concatenar las predicciones desescaladas con las columnas relevantes\n",
    "df_pred_final = pd.concat([emp_pred_bajo[['Atrition']], df_pred_bajo_original], axis=1)\n",
    "\n",
    "# Trasponer la tabla final\n",
    "df_pred_final_traspuesta = df_pred_final.T\n",
    "\n",
    "# Mostrar los resultados traspuestos\n",
    "print(df_pred_final_traspuesta)\n"
   ]
  },
  {
   "cell_type": "markdown",
   "metadata": {},
   "source": [
    "* Edad: Los empleados predichos a renunciar presentan edades muy diversas, desde 22 hasta 51 años\n",
    "Satisfacción con el ambiente laboral: La satisfacción laboral de los empleados varía entre valores bajos y moderados. El EmployeeID 2801 tiene una satisfacción laboral de 1, lo que sugiere una insatisfacción significativa.\n",
    "Otros empleados, como el EmployeeID 1, tienen una satisfacción laboral de 3, lo que indica una satisfacción moderada, aunque no máxima.\n",
    "Dado que ninguno de los empleados con predicción de renuncia tiene un valor de 4 en satisfacción laboral, podemos deducir que la insatisfacción o la satisfacción moderada está presente en estos empleados, lo que puede influir en su decisión de abandonar la empresa.\n",
    "* Años en la empresa: Hay una diferencia considerable en los años trabajados en la empresa, desde 1 hasta 25 años. Los empleados que han estado en la empresa durante más tiempo, como el EmployeeID 2802 (25 años), también están en riesgo de renuncia, lo que podría deberse a factores como el agotamiento laboral o la falta de oportunidades de crecimiento.\n"
   ]
  },
  {
   "cell_type": "markdown",
   "metadata": {},
   "source": [
    "Recomendaciones:\n",
    "* Intervenir en la satisfacción laboral: Dado que varios de los empleados con riesgo de renuncia tienen una baja satisfacción con el ambiente laboral, se recomienda implementar programas para mejorar este aspecto, como fomentar una cultura laboral positiva y ofrecer canales de retroalimentación abierta.\n",
    "\n",
    "* Revisión salarial: La variabilidad en los ingresos sugiere que podría haber una correlación entre los salarios más bajos y el riesgo de renuncia. Sería recomendable realizar una revisión salarial, especialmente para los empleados con ingresos bajos, para reducir el riesgo de pérdida de talento.\n",
    "\n",
    "* Desarrollo y oportunidades de crecimiento: Los empleados que han trabajado en la empresa durante muchos años podrían estar enfrentando estancamiento profesional. Ofrecer oportunidades de desarrollo profesional y planes de carrera podría ayudar a retener a estos empleados.\n",
    "\n",
    "* Monitorear a los empleados jóvenes y con movilidad laboral previa: Los empleados más jóvenes y aquellos que han trabajado en varias empresas parecen tener un mayor riesgo de rotación. Sería prudente ofrecerles más atención para aumentar su compromiso con la empresa."
   ]
  }
 ],
 "metadata": {
  "kernelspec": {
   "display_name": "Python 3",
   "language": "python",
   "name": "python3"
  },
  "language_info": {
   "codemirror_mode": {
    "name": "ipython",
    "version": 3
   },
   "file_extension": ".py",
   "mimetype": "text/x-python",
   "name": "python",
   "nbconvert_exporter": "python",
   "pygments_lexer": "ipython3",
   "version": "3.11.5"
  }
 },
 "nbformat": 4,
 "nbformat_minor": 2
}
