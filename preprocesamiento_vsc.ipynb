{
 "cells": [
  {
   "cell_type": "markdown",
   "metadata": {},
   "source": [
    "Codigo para ejecutar la ruta desde Visual Studio Code"
   ]
  },
  {
   "cell_type": "code",
   "execution_count": 1,
   "metadata": {},
   "outputs": [],
   "source": [
    "import os\n",
    "import sys\n",
    "\n",
    "ruta =os.getcwd()\n",
    "sys.path.append(ruta)"
   ]
  },
  {
   "cell_type": "code",
   "execution_count": 2,
   "metadata": {},
   "outputs": [],
   "source": [
    "import warnings\n",
    "warnings.filterwarnings(\"ignore\")"
   ]
  },
  {
   "cell_type": "code",
   "execution_count": 3,
   "metadata": {},
   "outputs": [],
   "source": [
    "# Importar librerias necesarias\n",
    "import sqlite3 as sql\n",
    "import pandas as pd\n",
    "import a_funciones as fn ### importar modulo de  funciones\n",
    "from a_funciones import * ### importar toddas llas funciones del archivo"
   ]
  },
  {
   "cell_type": "markdown",
   "metadata": {},
   "source": [
    "Carga de archivos desde carpeta bases de datos RRHH"
   ]
  },
  {
   "cell_type": "code",
   "execution_count": 4,
   "metadata": {},
   "outputs": [],
   "source": [
    "employees = (\"bases de datos RRHH/employee_survey_data.csv\")\n",
    "general = (\"bases de datos RRHH/general_data.csv\")\n",
    "manager = (\"bases de datos RRHH/manager_survey.csv\")\n",
    "retirement = (\"bases de datos RRHH/retirement_info.csv\")"
   ]
  },
  {
   "cell_type": "markdown",
   "metadata": {},
   "source": [
    "Asignar los archivos cargados al df correspondiente"
   ]
  },
  {
   "cell_type": "code",
   "execution_count": 5,
   "metadata": {},
   "outputs": [],
   "source": [
    "df_encuesta_empleado = pd.read_csv(employees)\n",
    "df_general = pd.read_csv(general)\n",
    "df_encuesta_gerente = pd.read_csv(manager)\n",
    "df_retiro = pd.read_csv(retirement)"
   ]
  },
  {
   "cell_type": "markdown",
   "metadata": {},
   "source": [
    "## df_encuesta_empleado"
   ]
  },
  {
   "cell_type": "markdown",
   "metadata": {},
   "source": [
    "Analisis del df encuesta empleado"
   ]
  },
  {
   "cell_type": "code",
   "execution_count": 6,
   "metadata": {},
   "outputs": [
    {
     "name": "stdout",
     "output_type": "stream",
     "text": [
      "<class 'pandas.core.frame.DataFrame'>\n",
      "RangeIndex: 8820 entries, 0 to 8819\n",
      "Data columns (total 5 columns):\n",
      " #   Column                   Non-Null Count  Dtype  \n",
      "---  ------                   --------------  -----  \n",
      " 0   EmployeeID               8820 non-null   int64  \n",
      " 1   EnvironmentSatisfaction  8770 non-null   float64\n",
      " 2   JobSatisfaction          8780 non-null   float64\n",
      " 3   WorkLifeBalance          8744 non-null   float64\n",
      " 4   DateSurvey               8820 non-null   object \n",
      "dtypes: float64(3), int64(1), object(1)\n",
      "memory usage: 344.7+ KB\n"
     ]
    }
   ],
   "source": [
    "df_encuesta_empleado.info()"
   ]
  },
  {
   "cell_type": "markdown",
   "metadata": {},
   "source": [
    "Descripción del df encuesta empleado, calculando la mediana para posible imputacion de datos nulos o faltantes."
   ]
  },
  {
   "cell_type": "code",
   "execution_count": 19,
   "metadata": {},
   "outputs": [
    {
     "name": "stdout",
     "output_type": "stream",
     "text": [
      "        EnvironmentSatisfaction  JobSatisfaction  WorkLifeBalance\n",
      "count               8770.000000      8780.000000      8744.000000\n",
      "mean                   2.723603         2.728246         2.761436\n",
      "std                    1.092694         1.101190         0.706205\n",
      "min                    1.000000         1.000000         1.000000\n",
      "25%                    2.000000         2.000000         2.000000\n",
      "50%                    3.000000         3.000000         3.000000\n",
      "75%                    4.000000         4.000000         3.000000\n",
      "max                    4.000000         4.000000         4.000000\n",
      "median                 3.000000         3.000000         3.000000\n"
     ]
    }
   ],
   "source": [
    "# Filtrar las columnas numéricas\n",
    "df_numerico = df_encuesta_empleado.select_dtypes(include=['float64'])\n",
    "\n",
    "# Obtener el resumen estadístico con describe()\n",
    "descripcion = df_numerico.describe()\n",
    "\n",
    "# Calcular la mediana de cada columna numérica\n",
    "mediana = df_numerico.median()\n",
    "\n",
    "# Añadir la mediana al resumen estadístico\n",
    "descripcion.loc['median'] = mediana\n",
    "\n",
    "# Mostrar el resumen con la mediana incluida\n",
    "print(descripcion)"
   ]
  },
  {
   "cell_type": "markdown",
   "metadata": {},
   "source": [
    "Imputacion de valores nulos (df_encuesta_empleado)   "
   ]
  },
  {
   "cell_type": "code",
   "execution_count": 20,
   "metadata": {},
   "outputs": [
    {
     "name": "stdout",
     "output_type": "stream",
     "text": [
      "<class 'pandas.core.frame.DataFrame'>\n",
      "RangeIndex: 8820 entries, 0 to 8819\n",
      "Data columns (total 5 columns):\n",
      " #   Column                   Non-Null Count  Dtype  \n",
      "---  ------                   --------------  -----  \n",
      " 0   EmployeeID               8820 non-null   int64  \n",
      " 1   EnvironmentSatisfaction  8820 non-null   float64\n",
      " 2   JobSatisfaction          8820 non-null   float64\n",
      " 3   WorkLifeBalance          8820 non-null   float64\n",
      " 4   DateSurvey               8820 non-null   object \n",
      "dtypes: float64(3), int64(1), object(1)\n",
      "memory usage: 344.7+ KB\n",
      "None\n"
     ]
    }
   ],
   "source": [
    "# Filtrar las columnas numéricas y agregar la columna 'DateSurvey'\n",
    "df_float = df_encuesta_empleado[['EnvironmentSatisfaction', 'JobSatisfaction', 'WorkLifeBalance', 'DateSurvey']]\n",
    "\n",
    "# Calcular la mediana para cada columna por grupo 'DateSurvey'\n",
    "medianas_por_fecha = df_float.groupby('DateSurvey').median()\n",
    "\n",
    "# Función para imputar valores nulos con la mediana de su columna y grupo 'DateSurvey'\n",
    "def imputar_valores_nulos(row):\n",
    "    # Imputar valores nulos en 'EnvironmentSatisfaction'\n",
    "    if pd.isna(row['EnvironmentSatisfaction']):\n",
    "        row['EnvironmentSatisfaction'] = medianas_por_fecha.loc[row['DateSurvey'], 'EnvironmentSatisfaction']\n",
    "    \n",
    "    # Imputar valores nulos en 'JobSatisfaction'\n",
    "    if pd.isna(row['JobSatisfaction']):\n",
    "        row['JobSatisfaction'] = medianas_por_fecha.loc[row['DateSurvey'], 'JobSatisfaction']\n",
    "    \n",
    "    # Imputar valores nulos en 'WorkLifeBalance'\n",
    "    if pd.isna(row['WorkLifeBalance']):\n",
    "        row['WorkLifeBalance'] = medianas_por_fecha.loc[row['DateSurvey'], 'WorkLifeBalance']\n",
    "    \n",
    "    return row\n",
    "\n",
    "# Aplicar la imputación de valores nulos\n",
    "df_imputado = df_float.apply(imputar_valores_nulos, axis=1)\n",
    "\n",
    "# Reemplazar las columnas en el DataFrame original con los valores imputados\n",
    "df_encuesta_empleado[['EnvironmentSatisfaction', 'JobSatisfaction', 'WorkLifeBalance']] = df_imputado[['EnvironmentSatisfaction', 'JobSatisfaction', 'WorkLifeBalance']]\n",
    "\n",
    "# Verificar el resultado\n",
    "print(df_encuesta_empleado.info())"
   ]
  },
  {
   "cell_type": "markdown",
   "metadata": {},
   "source": [
    "## df_general"
   ]
  },
  {
   "cell_type": "markdown",
   "metadata": {},
   "source": [
    "Analisis del df general"
   ]
  },
  {
   "cell_type": "code",
   "execution_count": 7,
   "metadata": {},
   "outputs": [
    {
     "name": "stdout",
     "output_type": "stream",
     "text": [
      "<class 'pandas.core.frame.DataFrame'>\n",
      "RangeIndex: 8820 entries, 0 to 8819\n",
      "Data columns (total 24 columns):\n",
      " #   Column                   Non-Null Count  Dtype  \n",
      "---  ------                   --------------  -----  \n",
      " 0   Age                      8820 non-null   int64  \n",
      " 1   BusinessTravel           8820 non-null   object \n",
      " 2   Department               8820 non-null   object \n",
      " 3   DistanceFromHome         8820 non-null   int64  \n",
      " 4   Education                8820 non-null   int64  \n",
      " 5   EducationField           8820 non-null   object \n",
      " 6   EmployeeCount            8820 non-null   int64  \n",
      " 7   EmployeeID               8820 non-null   int64  \n",
      " 8   Gender                   8820 non-null   object \n",
      " 9   JobLevel                 8820 non-null   int64  \n",
      " 10  JobRole                  8820 non-null   object \n",
      " 11  MaritalStatus            8820 non-null   object \n",
      " 12  MonthlyIncome            8820 non-null   int64  \n",
      " 13  NumCompaniesWorked       8782 non-null   float64\n",
      " 14  Over18                   8820 non-null   object \n",
      " 15  PercentSalaryHike        8820 non-null   int64  \n",
      " 16  StandardHours            8820 non-null   int64  \n",
      " 17  StockOptionLevel         8820 non-null   int64  \n",
      " 18  TotalWorkingYears        8802 non-null   float64\n",
      " 19  TrainingTimesLastYear    8820 non-null   int64  \n",
      " 20  YearsAtCompany           8820 non-null   int64  \n",
      " 21  YearsSinceLastPromotion  8820 non-null   int64  \n",
      " 22  YearsWithCurrManager     8820 non-null   int64  \n",
      " 23  InfoDate                 8820 non-null   object \n",
      "dtypes: float64(2), int64(14), object(8)\n",
      "memory usage: 1.6+ MB\n"
     ]
    }
   ],
   "source": [
    "df_general.info(verbose=True)"
   ]
  },
  {
   "cell_type": "markdown",
   "metadata": {},
   "source": [
    "Columnas con valores nulos y conteo de registros"
   ]
  },
  {
   "cell_type": "code",
   "execution_count": 27,
   "metadata": {},
   "outputs": [
    {
     "name": "stdout",
     "output_type": "stream",
     "text": [
      "NumCompaniesWorked    38\n",
      "TotalWorkingYears     18\n",
      "dtype: int64\n"
     ]
    }
   ],
   "source": [
    "# Contar los valores nulos en cada columna del DataFrame\n",
    "conteo_nulos = df_general.isnull().sum()\n",
    "\n",
    "# Filtrar las columnas que tienen valores nulos\n",
    "columnas_con_nulos = conteo_nulos[conteo_nulos > 0]\n",
    "\n",
    "# Mostrar el resultado\n",
    "print(columnas_con_nulos)"
   ]
  },
  {
   "cell_type": "markdown",
   "metadata": {},
   "source": [
    "Descripción de las dos columnas con valores nulos para posible imputación con alguna de las métricas"
   ]
  },
  {
   "cell_type": "code",
   "execution_count": 30,
   "metadata": {},
   "outputs": [
    {
     "name": "stdout",
     "output_type": "stream",
     "text": [
      "        NumCompaniesWorked  TotalWorkingYears\n",
      "count          8782.000000        8802.000000\n",
      "mean              2.694830          11.279936\n",
      "std               2.498745           7.781780\n",
      "min               0.000000           0.000000\n",
      "25%               1.000000           6.000000\n",
      "50%               2.000000          10.000000\n",
      "75%               4.000000          15.000000\n",
      "max               9.000000          40.000000\n",
      "median            2.000000          10.000000\n"
     ]
    }
   ],
   "source": [
    "# Filtrar las columnas numéricas\n",
    "df_numerico = df_general[['NumCompaniesWorked', 'TotalWorkingYears']]\n",
    "\n",
    "# Obtener el resumen estadístico con describe()\n",
    "descripcion = df_numerico.describe()\n",
    "\n",
    "# Calcular la mediana de cada columna específica\n",
    "mediana = df_numerico.median()\n",
    "\n",
    "# Añadir la mediana al resumen estadístico\n",
    "descripcion.loc['median'] = mediana\n",
    "\n",
    "# Mostrar el resumen con la mediana incluida\n",
    "print(descripcion)"
   ]
  },
  {
   "cell_type": "markdown",
   "metadata": {},
   "source": [
    "Despues de analisis se considera realizar la siguiente imputación:\n",
    "\n",
    "Para NumCompaniesWorked (38 valores nulos): si YearsAtCompany es igual a TotalWorkingYears ponga 1, sino que ponga 2.\n",
    "Para TotalWorkingYears (18 valores nulos): Que impute los nulos igual a YearsAtCompany (Por tener años trabajando en la empresa)"
   ]
  },
  {
   "cell_type": "code",
   "execution_count": 31,
   "metadata": {},
   "outputs": [
    {
     "name": "stdout",
     "output_type": "stream",
     "text": [
      "NumCompaniesWorked    0\n",
      "TotalWorkingYears     0\n",
      "dtype: int64\n"
     ]
    }
   ],
   "source": [
    "# Función para imputar valores nulos en NumCompaniesWorked\n",
    "def imputar_num_companies_worked(row):\n",
    "    if pd.isna(row['NumCompaniesWorked']):\n",
    "        if row['YearsAtCompany'] == row['TotalWorkingYears']:\n",
    "            return 1\n",
    "        else:\n",
    "            return 2\n",
    "    return row['NumCompaniesWorked']\n",
    "\n",
    "# Función para imputar valores nulos en TotalWorkingYears\n",
    "def imputar_total_working_years(row):\n",
    "    if pd.isna(row['TotalWorkingYears']):\n",
    "        return row['YearsAtCompany']\n",
    "    return row['TotalWorkingYears']\n",
    "\n",
    "# Aplicar las funciones de imputación al DataFrame\n",
    "df_general['NumCompaniesWorked'] = df_general.apply(imputar_num_companies_worked, axis=1)\n",
    "df_general['TotalWorkingYears'] = df_general.apply(imputar_total_working_years, axis=1)\n",
    "\n",
    "# Verificar el resultado\n",
    "print(df_general[['NumCompaniesWorked', 'TotalWorkingYears']].isnull().sum())"
   ]
  },
  {
   "cell_type": "markdown",
   "metadata": {},
   "source": [
    "Eliminación de columnas no necesarias en df_general:\n",
    "\n",
    "EmployeeCount, Over18,  StandardHours = por que solo tienen un unico dato o valor"
   ]
  },
  {
   "cell_type": "code",
   "execution_count": 38,
   "metadata": {},
   "outputs": [
    {
     "name": "stdout",
     "output_type": "stream",
     "text": [
      "<class 'pandas.core.frame.DataFrame'>\n",
      "RangeIndex: 8820 entries, 0 to 8819\n",
      "Data columns (total 21 columns):\n",
      " #   Column                   Non-Null Count  Dtype  \n",
      "---  ------                   --------------  -----  \n",
      " 0   Age                      8820 non-null   int64  \n",
      " 1   BusinessTravel           8820 non-null   object \n",
      " 2   Department               8820 non-null   object \n",
      " 3   DistanceFromHome         8820 non-null   int64  \n",
      " 4   Education                8820 non-null   int64  \n",
      " 5   EducationField           8820 non-null   object \n",
      " 6   EmployeeID               8820 non-null   int64  \n",
      " 7   Gender                   8820 non-null   object \n",
      " 8   JobLevel                 8820 non-null   int64  \n",
      " 9   JobRole                  8820 non-null   object \n",
      " 10  MaritalStatus            8820 non-null   object \n",
      " 11  MonthlyIncome            8820 non-null   int64  \n",
      " 12  NumCompaniesWorked       8820 non-null   float64\n",
      " 13  PercentSalaryHike        8820 non-null   int64  \n",
      " 14  StockOptionLevel         8820 non-null   int64  \n",
      " 15  TotalWorkingYears        8820 non-null   float64\n",
      " 16  TrainingTimesLastYear    8820 non-null   int64  \n",
      " 17  YearsAtCompany           8820 non-null   int64  \n",
      " 18  YearsSinceLastPromotion  8820 non-null   int64  \n",
      " 19  YearsWithCurrManager     8820 non-null   int64  \n",
      " 20  InfoDate                 8820 non-null   object \n",
      "dtypes: float64(2), int64(12), object(7)\n",
      "memory usage: 1.4+ MB\n"
     ]
    }
   ],
   "source": [
    "columnas_eliminar = ['EmployeeCount','Over18','StandardHours']\n",
    "\n",
    "df_general = df_general.drop(columns=columnas_eliminar)\n",
    "\n",
    "df_general.info(verbose=True)"
   ]
  },
  {
   "cell_type": "markdown",
   "metadata": {},
   "source": [
    "## df_encuesta_gerente"
   ]
  },
  {
   "cell_type": "markdown",
   "metadata": {},
   "source": [
    "Analisis del df encuesta gerente"
   ]
  },
  {
   "cell_type": "code",
   "execution_count": 8,
   "metadata": {},
   "outputs": [
    {
     "name": "stdout",
     "output_type": "stream",
     "text": [
      "<class 'pandas.core.frame.DataFrame'>\n",
      "RangeIndex: 8820 entries, 0 to 8819\n",
      "Data columns (total 4 columns):\n",
      " #   Column             Non-Null Count  Dtype \n",
      "---  ------             --------------  ----- \n",
      " 0   EmployeeID         8820 non-null   int64 \n",
      " 1   JobInvolvement     8820 non-null   int64 \n",
      " 2   PerformanceRating  8820 non-null   int64 \n",
      " 3   SurveyDate         8820 non-null   object\n",
      "dtypes: int64(3), object(1)\n",
      "memory usage: 275.8+ KB\n"
     ]
    }
   ],
   "source": [
    "df_encuesta_gerente.info()"
   ]
  },
  {
   "cell_type": "markdown",
   "metadata": {},
   "source": [
    "No tiene valores nulos el df encuesta gerente"
   ]
  },
  {
   "cell_type": "markdown",
   "metadata": {},
   "source": [
    "## df_retiro"
   ]
  },
  {
   "cell_type": "markdown",
   "metadata": {},
   "source": [
    "Analisis del df retiro"
   ]
  },
  {
   "cell_type": "code",
   "execution_count": 9,
   "metadata": {},
   "outputs": [
    {
     "name": "stdout",
     "output_type": "stream",
     "text": [
      "<class 'pandas.core.frame.DataFrame'>\n",
      "RangeIndex: 711 entries, 0 to 710\n",
      "Data columns (total 5 columns):\n",
      " #   Column             Non-Null Count  Dtype \n",
      "---  ------             --------------  ----- \n",
      " 0   EmployeeID         711 non-null    int64 \n",
      " 1   Attrition          711 non-null    object\n",
      " 2   retirementDate     711 non-null    object\n",
      " 3   retirementType     711 non-null    object\n",
      " 4   resignationReason  641 non-null    object\n",
      "dtypes: int64(1), object(4)\n",
      "memory usage: 27.9+ KB\n"
     ]
    }
   ],
   "source": [
    "df_retiro.info()"
   ]
  },
  {
   "cell_type": "markdown",
   "metadata": {},
   "source": [
    "Como las salidas por despido (fired) no tienen razon o motivo de renuncia se imputaran con la misma tipologia (fired).\n",
    "La columna \"Attrition\" Se tomara como la variable objetivo, puesto que se refiere a la salida de empleados de una empresa, ya sea por renuncia, despido, jubilacion u otras razones."
   ]
  },
  {
   "cell_type": "code",
   "execution_count": 37,
   "metadata": {},
   "outputs": [
    {
     "name": "stdout",
     "output_type": "stream",
     "text": [
      "<class 'pandas.core.frame.DataFrame'>\n",
      "RangeIndex: 711 entries, 0 to 710\n",
      "Data columns (total 5 columns):\n",
      " #   Column             Non-Null Count  Dtype \n",
      "---  ------             --------------  ----- \n",
      " 0   EmployeeID         711 non-null    int64 \n",
      " 1   Attrition          711 non-null    object\n",
      " 2   retirementDate     711 non-null    object\n",
      " 3   retirementType     711 non-null    object\n",
      " 4   resignationReason  711 non-null    object\n",
      "dtypes: int64(1), object(4)\n",
      "memory usage: 27.9+ KB\n",
      "None\n"
     ]
    }
   ],
   "source": [
    "df_retiro['resignationReason'] = df_retiro['resignationReason'].fillna('Fired')\n",
    "\n",
    "print(df_retiro.info())"
   ]
  },
  {
   "cell_type": "markdown",
   "metadata": {},
   "source": [
    "## Creación y ejecución de Base de Datos\n",
    "## Consultas SQL"
   ]
  },
  {
   "cell_type": "code",
   "execution_count": 43,
   "metadata": {},
   "outputs": [],
   "source": [
    "con=sql.connect('bases de datos RRHH\\\\datos.db')  ### crea base de datos\n",
    "cur=con.cursor()  ### para ejecutar consultas en la base de datos"
   ]
  },
  {
   "cell_type": "code",
   "execution_count": 44,
   "metadata": {},
   "outputs": [
    {
     "data": {
      "text/plain": [
       "8820"
      ]
     },
     "execution_count": 44,
     "metadata": {},
     "output_type": "execute_result"
    }
   ],
   "source": [
    "####llevar datos a la base de datos ####\n",
    "\n",
    "retiros=df_retiro\n",
    "retiros.to_sql('retiros',con,index=False, if_exists='replace') ### para llevar un data frame de pandas a SQL\n",
    "general=df_general\n",
    "general.to_sql('general',con,index=False, if_exists='replace')\n",
    "employee_survey=df_encuesta_empleado\n",
    "employee_survey.to_sql('employee_survey',con,index=False, if_exists='replace')\n",
    "manager_survey=df_encuesta_gerente\n",
    "manager_survey.to_sql('manager_survey',con,index=False, if_exists='replace')\n"
   ]
  },
  {
   "cell_type": "code",
   "execution_count": 45,
   "metadata": {},
   "outputs": [
    {
     "data": {
      "text/plain": [
       "[('retiros',), ('general',), ('employee_survey',), ('manager_survey',)]"
      ]
     },
     "execution_count": 45,
     "metadata": {},
     "output_type": "execute_result"
    }
   ],
   "source": [
    "cur.execute(\"Select name from sqlite_master where type='table'\") ### consultar bases de datos\n",
    "cur.fetchall()"
   ]
  },
  {
   "cell_type": "code",
   "execution_count": 52,
   "metadata": {},
   "outputs": [
    {
     "data": {
      "text/plain": [
       "<sqlite3.Cursor at 0x20236b61b40>"
      ]
     },
     "execution_count": 52,
     "metadata": {},
     "output_type": "execute_result"
    }
   ],
   "source": [
    "cur.execute(\"\"\"\n",
    "    CREATE TABLE completo AS \n",
    "    SELECT a.*, b.*, c.*, d.* \n",
    "    FROM general a \n",
    "    LEFT JOIN employee_survey b \n",
    "        ON a.EmployeeID = b.EmployeeID AND a.InfoDate = b.DateSurvey \n",
    "    LEFT JOIN manager_survey c \n",
    "        ON a.EmployeeID = c.EmployeeID AND a.InfoDate = c.SurveyDate \n",
    "    LEFT JOIN retiros d \n",
    "        ON a.EmployeeID = d.EmployeeID\n",
    "\"\"\")"
   ]
  },
  {
   "cell_type": "code",
   "execution_count": 53,
   "metadata": {},
   "outputs": [
    {
     "data": {
      "text/plain": [
       "[('retiros',),\n",
       " ('general',),\n",
       " ('employee_survey',),\n",
       " ('manager_survey',),\n",
       " ('completo',)]"
      ]
     },
     "execution_count": 53,
     "metadata": {},
     "output_type": "execute_result"
    }
   ],
   "source": [
    "cur.execute(\"Select name from sqlite_master where type='table'\") ### consultar bases de datos\n",
    "cur.fetchall()"
   ]
  },
  {
   "cell_type": "code",
   "execution_count": 54,
   "metadata": {},
   "outputs": [
    {
     "data": {
      "text/html": [
       "<div>\n",
       "<style scoped>\n",
       "    .dataframe tbody tr th:only-of-type {\n",
       "        vertical-align: middle;\n",
       "    }\n",
       "\n",
       "    .dataframe tbody tr th {\n",
       "        vertical-align: top;\n",
       "    }\n",
       "\n",
       "    .dataframe thead th {\n",
       "        text-align: right;\n",
       "    }\n",
       "</style>\n",
       "<table border=\"1\" class=\"dataframe\">\n",
       "  <thead>\n",
       "    <tr style=\"text-align: right;\">\n",
       "      <th></th>\n",
       "      <th>Age</th>\n",
       "      <th>BusinessTravel</th>\n",
       "      <th>Department</th>\n",
       "      <th>DistanceFromHome</th>\n",
       "      <th>Education</th>\n",
       "      <th>EducationField</th>\n",
       "      <th>EmployeeID</th>\n",
       "      <th>Gender</th>\n",
       "      <th>JobLevel</th>\n",
       "      <th>JobRole</th>\n",
       "      <th>...</th>\n",
       "      <th>DateSurvey</th>\n",
       "      <th>EmployeeID:2</th>\n",
       "      <th>JobInvolvement</th>\n",
       "      <th>PerformanceRating</th>\n",
       "      <th>SurveyDate</th>\n",
       "      <th>EmployeeID:3</th>\n",
       "      <th>Attrition</th>\n",
       "      <th>retirementDate</th>\n",
       "      <th>retirementType</th>\n",
       "      <th>resignationReason</th>\n",
       "    </tr>\n",
       "  </thead>\n",
       "  <tbody>\n",
       "    <tr>\n",
       "      <th>0</th>\n",
       "      <td>51</td>\n",
       "      <td>Travel_Rarely</td>\n",
       "      <td>Sales</td>\n",
       "      <td>6</td>\n",
       "      <td>2</td>\n",
       "      <td>Life Sciences</td>\n",
       "      <td>1</td>\n",
       "      <td>Female</td>\n",
       "      <td>1</td>\n",
       "      <td>Healthcare Representative</td>\n",
       "      <td>...</td>\n",
       "      <td>2015-12-31</td>\n",
       "      <td>1</td>\n",
       "      <td>3</td>\n",
       "      <td>3</td>\n",
       "      <td>2015-12-31</td>\n",
       "      <td>NaN</td>\n",
       "      <td>None</td>\n",
       "      <td>None</td>\n",
       "      <td>None</td>\n",
       "      <td>None</td>\n",
       "    </tr>\n",
       "    <tr>\n",
       "      <th>1</th>\n",
       "      <td>31</td>\n",
       "      <td>Travel_Frequently</td>\n",
       "      <td>Research &amp; Development</td>\n",
       "      <td>10</td>\n",
       "      <td>1</td>\n",
       "      <td>Life Sciences</td>\n",
       "      <td>2</td>\n",
       "      <td>Female</td>\n",
       "      <td>1</td>\n",
       "      <td>Research Scientist</td>\n",
       "      <td>...</td>\n",
       "      <td>2015-12-31</td>\n",
       "      <td>2</td>\n",
       "      <td>2</td>\n",
       "      <td>4</td>\n",
       "      <td>2015-12-31</td>\n",
       "      <td>2.0</td>\n",
       "      <td>Yes</td>\n",
       "      <td>2016-10-15</td>\n",
       "      <td>Resignation</td>\n",
       "      <td>Others</td>\n",
       "    </tr>\n",
       "    <tr>\n",
       "      <th>2</th>\n",
       "      <td>32</td>\n",
       "      <td>Travel_Frequently</td>\n",
       "      <td>Research &amp; Development</td>\n",
       "      <td>17</td>\n",
       "      <td>4</td>\n",
       "      <td>Other</td>\n",
       "      <td>3</td>\n",
       "      <td>Male</td>\n",
       "      <td>4</td>\n",
       "      <td>Sales Executive</td>\n",
       "      <td>...</td>\n",
       "      <td>2015-12-31</td>\n",
       "      <td>3</td>\n",
       "      <td>3</td>\n",
       "      <td>3</td>\n",
       "      <td>2015-12-31</td>\n",
       "      <td>NaN</td>\n",
       "      <td>None</td>\n",
       "      <td>None</td>\n",
       "      <td>None</td>\n",
       "      <td>None</td>\n",
       "    </tr>\n",
       "    <tr>\n",
       "      <th>3</th>\n",
       "      <td>38</td>\n",
       "      <td>Non-Travel</td>\n",
       "      <td>Research &amp; Development</td>\n",
       "      <td>2</td>\n",
       "      <td>5</td>\n",
       "      <td>Life Sciences</td>\n",
       "      <td>4</td>\n",
       "      <td>Male</td>\n",
       "      <td>3</td>\n",
       "      <td>Human Resources</td>\n",
       "      <td>...</td>\n",
       "      <td>2015-12-31</td>\n",
       "      <td>4</td>\n",
       "      <td>2</td>\n",
       "      <td>3</td>\n",
       "      <td>2015-12-31</td>\n",
       "      <td>NaN</td>\n",
       "      <td>None</td>\n",
       "      <td>None</td>\n",
       "      <td>None</td>\n",
       "      <td>None</td>\n",
       "    </tr>\n",
       "    <tr>\n",
       "      <th>4</th>\n",
       "      <td>32</td>\n",
       "      <td>Travel_Rarely</td>\n",
       "      <td>Research &amp; Development</td>\n",
       "      <td>10</td>\n",
       "      <td>1</td>\n",
       "      <td>Medical</td>\n",
       "      <td>5</td>\n",
       "      <td>Male</td>\n",
       "      <td>1</td>\n",
       "      <td>Sales Executive</td>\n",
       "      <td>...</td>\n",
       "      <td>2015-12-31</td>\n",
       "      <td>5</td>\n",
       "      <td>3</td>\n",
       "      <td>3</td>\n",
       "      <td>2015-12-31</td>\n",
       "      <td>NaN</td>\n",
       "      <td>None</td>\n",
       "      <td>None</td>\n",
       "      <td>None</td>\n",
       "      <td>None</td>\n",
       "    </tr>\n",
       "    <tr>\n",
       "      <th>...</th>\n",
       "      <td>...</td>\n",
       "      <td>...</td>\n",
       "      <td>...</td>\n",
       "      <td>...</td>\n",
       "      <td>...</td>\n",
       "      <td>...</td>\n",
       "      <td>...</td>\n",
       "      <td>...</td>\n",
       "      <td>...</td>\n",
       "      <td>...</td>\n",
       "      <td>...</td>\n",
       "      <td>...</td>\n",
       "      <td>...</td>\n",
       "      <td>...</td>\n",
       "      <td>...</td>\n",
       "      <td>...</td>\n",
       "      <td>...</td>\n",
       "      <td>...</td>\n",
       "      <td>...</td>\n",
       "      <td>...</td>\n",
       "      <td>...</td>\n",
       "    </tr>\n",
       "    <tr>\n",
       "      <th>8815</th>\n",
       "      <td>42</td>\n",
       "      <td>Travel_Rarely</td>\n",
       "      <td>Research &amp; Development</td>\n",
       "      <td>5</td>\n",
       "      <td>4</td>\n",
       "      <td>Medical</td>\n",
       "      <td>4406</td>\n",
       "      <td>Female</td>\n",
       "      <td>1</td>\n",
       "      <td>Research Scientist</td>\n",
       "      <td>...</td>\n",
       "      <td>2016-12-31</td>\n",
       "      <td>4406</td>\n",
       "      <td>3</td>\n",
       "      <td>3</td>\n",
       "      <td>2016-12-31</td>\n",
       "      <td>NaN</td>\n",
       "      <td>None</td>\n",
       "      <td>None</td>\n",
       "      <td>None</td>\n",
       "      <td>None</td>\n",
       "    </tr>\n",
       "    <tr>\n",
       "      <th>8816</th>\n",
       "      <td>29</td>\n",
       "      <td>Travel_Rarely</td>\n",
       "      <td>Research &amp; Development</td>\n",
       "      <td>2</td>\n",
       "      <td>4</td>\n",
       "      <td>Medical</td>\n",
       "      <td>4407</td>\n",
       "      <td>Male</td>\n",
       "      <td>1</td>\n",
       "      <td>Laboratory Technician</td>\n",
       "      <td>...</td>\n",
       "      <td>2016-12-31</td>\n",
       "      <td>4407</td>\n",
       "      <td>2</td>\n",
       "      <td>3</td>\n",
       "      <td>2016-12-31</td>\n",
       "      <td>NaN</td>\n",
       "      <td>None</td>\n",
       "      <td>None</td>\n",
       "      <td>None</td>\n",
       "      <td>None</td>\n",
       "    </tr>\n",
       "    <tr>\n",
       "      <th>8817</th>\n",
       "      <td>25</td>\n",
       "      <td>Travel_Rarely</td>\n",
       "      <td>Research &amp; Development</td>\n",
       "      <td>25</td>\n",
       "      <td>2</td>\n",
       "      <td>Life Sciences</td>\n",
       "      <td>4408</td>\n",
       "      <td>Male</td>\n",
       "      <td>2</td>\n",
       "      <td>Sales Executive</td>\n",
       "      <td>...</td>\n",
       "      <td>2016-12-31</td>\n",
       "      <td>4408</td>\n",
       "      <td>3</td>\n",
       "      <td>4</td>\n",
       "      <td>2016-12-31</td>\n",
       "      <td>NaN</td>\n",
       "      <td>None</td>\n",
       "      <td>None</td>\n",
       "      <td>None</td>\n",
       "      <td>None</td>\n",
       "    </tr>\n",
       "    <tr>\n",
       "      <th>8818</th>\n",
       "      <td>42</td>\n",
       "      <td>Travel_Rarely</td>\n",
       "      <td>Sales</td>\n",
       "      <td>18</td>\n",
       "      <td>2</td>\n",
       "      <td>Medical</td>\n",
       "      <td>4409</td>\n",
       "      <td>Male</td>\n",
       "      <td>1</td>\n",
       "      <td>Laboratory Technician</td>\n",
       "      <td>...</td>\n",
       "      <td>2016-12-31</td>\n",
       "      <td>4409</td>\n",
       "      <td>2</td>\n",
       "      <td>3</td>\n",
       "      <td>2016-12-31</td>\n",
       "      <td>NaN</td>\n",
       "      <td>None</td>\n",
       "      <td>None</td>\n",
       "      <td>None</td>\n",
       "      <td>None</td>\n",
       "    </tr>\n",
       "    <tr>\n",
       "      <th>8819</th>\n",
       "      <td>40</td>\n",
       "      <td>Travel_Rarely</td>\n",
       "      <td>Research &amp; Development</td>\n",
       "      <td>28</td>\n",
       "      <td>3</td>\n",
       "      <td>Medical</td>\n",
       "      <td>4410</td>\n",
       "      <td>Male</td>\n",
       "      <td>2</td>\n",
       "      <td>Laboratory Technician</td>\n",
       "      <td>...</td>\n",
       "      <td>2016-12-31</td>\n",
       "      <td>4410</td>\n",
       "      <td>4</td>\n",
       "      <td>3</td>\n",
       "      <td>2016-12-31</td>\n",
       "      <td>NaN</td>\n",
       "      <td>None</td>\n",
       "      <td>None</td>\n",
       "      <td>None</td>\n",
       "      <td>None</td>\n",
       "    </tr>\n",
       "  </tbody>\n",
       "</table>\n",
       "<p>8820 rows × 35 columns</p>\n",
       "</div>"
      ],
      "text/plain": [
       "      Age     BusinessTravel              Department  DistanceFromHome  \\\n",
       "0      51      Travel_Rarely                   Sales                 6   \n",
       "1      31  Travel_Frequently  Research & Development                10   \n",
       "2      32  Travel_Frequently  Research & Development                17   \n",
       "3      38         Non-Travel  Research & Development                 2   \n",
       "4      32      Travel_Rarely  Research & Development                10   \n",
       "...   ...                ...                     ...               ...   \n",
       "8815   42      Travel_Rarely  Research & Development                 5   \n",
       "8816   29      Travel_Rarely  Research & Development                 2   \n",
       "8817   25      Travel_Rarely  Research & Development                25   \n",
       "8818   42      Travel_Rarely                   Sales                18   \n",
       "8819   40      Travel_Rarely  Research & Development                28   \n",
       "\n",
       "      Education EducationField  EmployeeID  Gender  JobLevel  \\\n",
       "0             2  Life Sciences           1  Female         1   \n",
       "1             1  Life Sciences           2  Female         1   \n",
       "2             4          Other           3    Male         4   \n",
       "3             5  Life Sciences           4    Male         3   \n",
       "4             1        Medical           5    Male         1   \n",
       "...         ...            ...         ...     ...       ...   \n",
       "8815          4        Medical        4406  Female         1   \n",
       "8816          4        Medical        4407    Male         1   \n",
       "8817          2  Life Sciences        4408    Male         2   \n",
       "8818          2        Medical        4409    Male         1   \n",
       "8819          3        Medical        4410    Male         2   \n",
       "\n",
       "                        JobRole  ...  DateSurvey  EmployeeID:2  \\\n",
       "0     Healthcare Representative  ...  2015-12-31             1   \n",
       "1            Research Scientist  ...  2015-12-31             2   \n",
       "2               Sales Executive  ...  2015-12-31             3   \n",
       "3               Human Resources  ...  2015-12-31             4   \n",
       "4               Sales Executive  ...  2015-12-31             5   \n",
       "...                         ...  ...         ...           ...   \n",
       "8815         Research Scientist  ...  2016-12-31          4406   \n",
       "8816      Laboratory Technician  ...  2016-12-31          4407   \n",
       "8817            Sales Executive  ...  2016-12-31          4408   \n",
       "8818      Laboratory Technician  ...  2016-12-31          4409   \n",
       "8819      Laboratory Technician  ...  2016-12-31          4410   \n",
       "\n",
       "      JobInvolvement  PerformanceRating  SurveyDate  EmployeeID:3  Attrition  \\\n",
       "0                  3                  3  2015-12-31           NaN       None   \n",
       "1                  2                  4  2015-12-31           2.0        Yes   \n",
       "2                  3                  3  2015-12-31           NaN       None   \n",
       "3                  2                  3  2015-12-31           NaN       None   \n",
       "4                  3                  3  2015-12-31           NaN       None   \n",
       "...              ...                ...         ...           ...        ...   \n",
       "8815               3                  3  2016-12-31           NaN       None   \n",
       "8816               2                  3  2016-12-31           NaN       None   \n",
       "8817               3                  4  2016-12-31           NaN       None   \n",
       "8818               2                  3  2016-12-31           NaN       None   \n",
       "8819               4                  3  2016-12-31           NaN       None   \n",
       "\n",
       "      retirementDate  retirementType  resignationReason  \n",
       "0               None            None               None  \n",
       "1         2016-10-15     Resignation             Others  \n",
       "2               None            None               None  \n",
       "3               None            None               None  \n",
       "4               None            None               None  \n",
       "...              ...             ...                ...  \n",
       "8815            None            None               None  \n",
       "8816            None            None               None  \n",
       "8817            None            None               None  \n",
       "8818            None            None               None  \n",
       "8819            None            None               None  \n",
       "\n",
       "[8820 rows x 35 columns]"
      ]
     },
     "execution_count": 54,
     "metadata": {},
     "output_type": "execute_result"
    }
   ],
   "source": [
    "pd.read_sql(\"\"\" select * from completo\n",
    "\"\"\", con=con)"
   ]
  },
  {
   "cell_type": "code",
   "execution_count": 42,
   "metadata": {},
   "outputs": [],
   "source": [
    "##con.close()"
   ]
  }
 ],
 "metadata": {
  "kernelspec": {
   "display_name": "Python 3",
   "language": "python",
   "name": "python3"
  },
  "language_info": {
   "codemirror_mode": {
    "name": "ipython",
    "version": 3
   },
   "file_extension": ".py",
   "mimetype": "text/x-python",
   "name": "python",
   "nbconvert_exporter": "python",
   "pygments_lexer": "ipython3",
   "version": "3.12.2"
  }
 },
 "nbformat": 4,
 "nbformat_minor": 2
}
